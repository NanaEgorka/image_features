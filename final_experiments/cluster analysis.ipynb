{
 "cells": [
  {
   "cell_type": "code",
   "execution_count": 1,
   "id": "e5e2fa1b",
   "metadata": {
    "execution": {
     "iopub.execute_input": "2023-05-15T08:32:47.730005Z",
     "iopub.status.busy": "2023-05-15T08:32:47.729531Z",
     "iopub.status.idle": "2023-05-15T08:32:53.635883Z",
     "shell.execute_reply": "2023-05-15T08:32:53.634556Z"
    },
    "papermill": {
     "duration": 5.923464,
     "end_time": "2023-05-15T08:32:53.639162",
     "exception": false,
     "start_time": "2023-05-15T08:32:47.715698",
     "status": "completed"
    },
    "tags": []
   },
   "outputs": [
    {
     "name": "stderr",
     "output_type": "stream",
     "text": [
      "/opt/conda/lib/python3.10/site-packages/scipy/__init__.py:146: UserWarning: A NumPy version >=1.16.5 and <1.23.0 is required for this version of SciPy (detected version 1.23.5\n",
      "  warnings.warn(f\"A NumPy version >={np_minversion} and <{np_maxversion}\"\n"
     ]
    }
   ],
   "source": [
    "import numpy as np\n",
    "import pandas as pd\n",
    "import tifffile as tiff\n",
    "import matplotlib.pyplot as plt\n",
    "import os\n",
    "from PIL import Image\n",
    "\n",
    "import random\n",
    "from IPython.display import display, clear_output\n",
    "from tqdm.notebook import tqdm\n",
    "import torch\n",
    "from torch import nn\n",
    "from torch.utils.data import Dataset, DataLoader\n",
    "import os\n",
    "import sqlite3\n",
    "\n",
    "from sklearn.preprocessing import LabelEncoder\n",
    "from sklearn.metrics import mean_squared_error, accuracy_score"
   ]
  },
  {
   "cell_type": "code",
   "execution_count": 2,
   "id": "7ca33080",
   "metadata": {
    "execution": {
     "iopub.execute_input": "2023-05-15T08:32:53.665329Z",
     "iopub.status.busy": "2023-05-15T08:32:53.664535Z",
     "iopub.status.idle": "2023-05-15T08:32:53.682423Z",
     "shell.execute_reply": "2023-05-15T08:32:53.681409Z"
    },
    "papermill": {
     "duration": 0.033653,
     "end_time": "2023-05-15T08:32:53.684779",
     "exception": false,
     "start_time": "2023-05-15T08:32:53.651126",
     "status": "completed"
    },
    "tags": []
   },
   "outputs": [],
   "source": [
    "class CroppedDataset(Dataset): # assume that all shapes are the same\n",
    "    def __init__(self, folder_path, metadata_path, patch_size=(32, 32)):\n",
    "        super().__init__()\n",
    "        self.folder_path = folder_path\n",
    "        self.image_pathes = os.listdir(folder_path)\n",
    "        self.patch_size = patch_size\n",
    "        \n",
    "        conn = sqlite3.connect(metadata_path)\n",
    "        metadata = pd.read_sql_query(\"SELECT * FROM Micrograph\", conn)\n",
    "        label_encoder = LabelEncoder()\n",
    "        self.label_encoder = label_encoder\n",
    "        self.labels = label_encoder.fit_transform(metadata['primary_microconstituent'])\n",
    "        \n",
    "        img = plt.imread(os.path.join(self.folder_path, self.image_pathes[0]))\n",
    "        img = img[:-38] ## cut the bottom line\n",
    "        self.patches_i = int(img.shape[0] / self.patch_size[0])\n",
    "        self.patches_j = int(img.shape[1] / self.patch_size[1])\n",
    "        self.n_patches = self.patches_i * self.patches_j\n",
    "        \n",
    "        self.data = []\n",
    "        self.means = []\n",
    "        self.stds = []\n",
    "        self.pathes = []\n",
    "        for path in metadata.path:\n",
    "            img = plt.imread(os.path.join(self.folder_path, path))\n",
    "            self.pathes.append(path)\n",
    "            if len(img.shape) > 2:\n",
    "                img = img[:, :, 0]\n",
    "            img = img[:-38] ## cut the bottom line\n",
    "            img = img / 255\n",
    "            #img = img.round() ## binarization\n",
    "            mean, std = img.mean(), img.std()\n",
    "            if std == 0:\n",
    "                std = 1\n",
    "            \n",
    "            #std = np.sqrt((img ** 2).mean()) ## 2 moment == 1 (not std)\n",
    "            \n",
    "            self.means.append(mean)\n",
    "            self.stds.append(std)\n",
    "            #img = (img - mean) / std\n",
    "            #img = img / std\n",
    "            self.data.append(img)\n",
    "\n",
    "    def __len__(self):\n",
    "        return len(self.image_pathes) * self.n_patches\n",
    "\n",
    "    def __getitem__(self, index):\n",
    "        img_index = index // self.n_patches\n",
    "        #img = plt.imread(os.path.join(self.folder_path, self.image_pathes[img_index]))\n",
    "        img = self.data[img_index]\n",
    "        patch_index = index % self.n_patches ## select patch\n",
    "        patch_i = patch_index // self.patches_j\n",
    "        patch_j = patch_index % self.patches_j\n",
    "        img = img[patch_i * self.patch_size[0]:(patch_i + 1) * self.patch_size[0],\n",
    "                 patch_j * self.patch_size[1]:(patch_j + 1) * self.patch_size[1]]\n",
    "        return img, self.means[img_index], self.stds[img_index], self.labels[img_index]"
   ]
  },
  {
   "cell_type": "code",
   "execution_count": 3,
   "id": "8426c224",
   "metadata": {
    "execution": {
     "iopub.execute_input": "2023-05-15T08:32:53.711150Z",
     "iopub.status.busy": "2023-05-15T08:32:53.710651Z",
     "iopub.status.idle": "2023-05-15T08:33:11.897061Z",
     "shell.execute_reply": "2023-05-15T08:33:11.895584Z"
    },
    "papermill": {
     "duration": 18.203535,
     "end_time": "2023-05-15T08:33:11.900313",
     "exception": false,
     "start_time": "2023-05-15T08:32:53.696778",
     "status": "completed"
    },
    "tags": []
   },
   "outputs": [],
   "source": [
    "folder_path = '/kaggle/input/vkr-data/data2/micrographs/'\n",
    "metadata_path = '/kaggle/input/vkr-data/data2/microstructures.sqlite'\n",
    "\n",
    "dataset = CroppedDataset(folder_path, metadata_path, patch_size=(32, 32))"
   ]
  },
  {
   "cell_type": "code",
   "execution_count": 4,
   "id": "8fd20783",
   "metadata": {
    "execution": {
     "iopub.execute_input": "2023-05-15T08:33:11.926234Z",
     "iopub.status.busy": "2023-05-15T08:33:11.925576Z",
     "iopub.status.idle": "2023-05-15T08:33:11.996677Z",
     "shell.execute_reply": "2023-05-15T08:33:11.995233Z"
    },
    "papermill": {
     "duration": 0.087727,
     "end_time": "2023-05-15T08:33:11.999913",
     "exception": false,
     "start_time": "2023-05-15T08:33:11.912186",
     "status": "completed"
    },
    "tags": []
   },
   "outputs": [],
   "source": [
    "train_size = int(len(dataset) * 0.8)\n",
    "val_size = len(dataset) - train_size\n",
    "\n",
    "train_dataset, val_dataset = torch.utils.data.random_split(dataset, [train_size, val_size],\n",
    "                                                           generator=torch.Generator().manual_seed(7))"
   ]
  },
  {
   "cell_type": "code",
   "execution_count": 5,
   "id": "5d771d2a",
   "metadata": {
    "execution": {
     "iopub.execute_input": "2023-05-15T08:33:12.026612Z",
     "iopub.status.busy": "2023-05-15T08:33:12.026175Z",
     "iopub.status.idle": "2023-05-15T08:33:12.032291Z",
     "shell.execute_reply": "2023-05-15T08:33:12.031313Z"
    },
    "papermill": {
     "duration": 0.02174,
     "end_time": "2023-05-15T08:33:12.034618",
     "exception": false,
     "start_time": "2023-05-15T08:33:12.012878",
     "status": "completed"
    },
    "tags": []
   },
   "outputs": [],
   "source": [
    "\n",
    "\n",
    "train_dataloader = DataLoader(train_dataset, batch_size = 64, shuffle = True)\n",
    "val_dataloader = DataLoader(val_dataset, batch_size = 512, shuffle = False)"
   ]
  },
  {
   "cell_type": "code",
   "execution_count": 6,
   "id": "076dcf52",
   "metadata": {
    "execution": {
     "iopub.execute_input": "2023-05-15T08:33:12.060455Z",
     "iopub.status.busy": "2023-05-15T08:33:12.059729Z",
     "iopub.status.idle": "2023-05-15T08:33:12.090462Z",
     "shell.execute_reply": "2023-05-15T08:33:12.089444Z"
    },
    "papermill": {
     "duration": 0.047302,
     "end_time": "2023-05-15T08:33:12.093542",
     "exception": false,
     "start_time": "2023-05-15T08:33:12.046240",
     "status": "completed"
    },
    "tags": []
   },
   "outputs": [],
   "source": [
    "class VariationalAutoencoder(nn.Module):\n",
    "    def __init__(self, input_channels, latent_dim, output_channels, loss_cfs, num_classes):\n",
    "        super(VariationalAutoencoder, self).__init__()\n",
    "        self.encoder = Encoder(input_channels, latent_dim)\n",
    "        self.decoder = Decoder(latent_dim, output_channels)\n",
    "        self.classifier = Classifier(latent_dim, num_classes)\n",
    "        self.loss_cfs = loss_cfs\n",
    "        \n",
    "    def forward(self, x):\n",
    "        mu, log_var = self.encoder(x)\n",
    "        std = torch.exp(0.5 * log_var)\n",
    "        eps = torch.randn_like(std)\n",
    "        z = mu + eps * std\n",
    "        reconstructed = self.decoder(mu)\n",
    "        logits = self.classifier(mu)\n",
    "        return reconstructed, mu, log_var, logits\n",
    "    \n",
    "    def loss(self, x, reconstructed, mu, log_var, logits, labels):\n",
    "        sigma_x = 1.0e-1\n",
    "        MSE = (torch.sum(((reconstructed - x) / sigma_x).pow(8.0))).pow(1.0/4.0) * (sigma_x ** 2)\n",
    "        #MSE = nn.MSELoss()(reconstructed, x)\n",
    "        KLD = -0.5 * torch.sum(1 + log_var - mu.pow(2) - log_var.exp())\n",
    "        CE = nn.CrossEntropyLoss()(logits, labels)\n",
    "        return MSE * self.loss_cfs[0] + KLD * self.loss_cfs[1] + CE * self.loss_cfs[2] \n",
    "    \n",
    "    def encode(self, x):\n",
    "        mu, log_var = self.encoder(x)\n",
    "        return mu\n",
    "        \n",
    "class Encoder(nn.Module):\n",
    "    def __init__(self, input_channels, latent_dim):\n",
    "        super(Encoder, self).__init__()\n",
    "        self.latent_dim = latent_dim\n",
    "        self.conv = nn.Sequential(\n",
    "            nn.Conv2d(input_channels, 8, kernel_size=3, stride=1),\n",
    "            nn.ReLU(),\n",
    "            nn.Conv2d(8, 16, kernel_size=3, stride=1),\n",
    "            nn.ReLU(),\n",
    "            nn.Conv2d(16, 32, kernel_size=3, stride=2),\n",
    "            nn.ReLU(),\n",
    "            nn.Conv2d(32, 64, kernel_size=3, stride=2),\n",
    "            nn.ReLU(),\n",
    "            nn.Conv2d(64, 64, kernel_size=3, stride=1),\n",
    "            nn.ReLU(),\n",
    "            nn.Conv2d(64, 128, kernel_size=3, stride=1),\n",
    "        )\n",
    "        self.fc = nn.Sequential(\n",
    "            nn.Linear(128 * 2 * 2, 512),\n",
    "            nn.ReLU(),\n",
    "            nn.Linear(512, 2 * latent_dim)\n",
    "        )\n",
    "        \n",
    "    def forward(self, x):\n",
    "        x = self.conv(x)\n",
    "        x = x.view(x.size(0), -1)\n",
    "        x = self.fc(x)\n",
    "        return x[:, :self.latent_dim], x[:, self.latent_dim:]\n",
    "    \n",
    "class Decoder(nn.Module):\n",
    "    def __init__(self, latent_dim, output_channels):\n",
    "        super(Decoder, self).__init__()\n",
    "        self.fc = nn.Sequential(\n",
    "            nn.Linear(latent_dim, 512),\n",
    "            nn.ReLU(),\n",
    "            nn.Linear(512, 128 * 2 * 2),\n",
    "        )\n",
    "        self.conv = nn.Sequential(\n",
    "            nn.ReLU(),\n",
    "            nn.ConvTranspose2d(128, 64, kernel_size=3, stride=1),\n",
    "            nn.ReLU(),\n",
    "            nn.ConvTranspose2d(64, 64, kernel_size=3, stride=1),\n",
    "            nn.ReLU(),\n",
    "            nn.ConvTranspose2d(64, 32, kernel_size=3, stride=2),\n",
    "            nn.ReLU(),\n",
    "            nn.ConvTranspose2d(32, 16, kernel_size=3, stride=2, output_padding=1),\n",
    "            nn.ReLU(),\n",
    "            nn.ConvTranspose2d(16, 8, kernel_size=3, stride=1),\n",
    "            nn.ReLU(),\n",
    "            nn.ConvTranspose2d(8, output_channels, kernel_size=3, stride=1)\n",
    "        )\n",
    "    def forward(self, x):\n",
    "        x = self.fc(x)\n",
    "        x = x.view(x.size(0), 128, 2, 2)\n",
    "        x = self.conv(x)\n",
    "        return x\n",
    "    \n",
    "    \n",
    "class Classifier(nn.Module):\n",
    "    def __init__(self, latent_dim, num_classes):\n",
    "        super().__init__()\n",
    "        self.classifier = nn.Sequential(\n",
    "            nn.Linear(latent_dim, latent_dim // 2),\n",
    "            nn.BatchNorm1d(latent_dim // 2),\n",
    "            nn.ReLU(),\n",
    "            nn.Dropout(0.3),\n",
    "            nn.Linear(latent_dim // 2, latent_dim // 4),\n",
    "            nn.ReLU(),\n",
    "            nn.Linear(latent_dim // 4, num_classes)\n",
    "        )\n",
    "    def forward(self, x):\n",
    "        return self.classifier(x)\n"
   ]
  },
  {
   "cell_type": "code",
   "execution_count": 7,
   "id": "c3196098",
   "metadata": {
    "execution": {
     "iopub.execute_input": "2023-05-15T08:33:12.121588Z",
     "iopub.status.busy": "2023-05-15T08:33:12.120588Z",
     "iopub.status.idle": "2023-05-15T08:33:12.138176Z",
     "shell.execute_reply": "2023-05-15T08:33:12.136925Z"
    },
    "papermill": {
     "duration": 0.036347,
     "end_time": "2023-05-15T08:33:12.141478",
     "exception": false,
     "start_time": "2023-05-15T08:33:12.105131",
     "status": "completed"
    },
    "tags": []
   },
   "outputs": [],
   "source": [
    "from IPython.display import display, clear_output\n",
    "from ipywidgets import Output\n",
    "from tqdm.auto import trange\n",
    "from typing import Type, Union\n",
    "import matplotlib.pyplot as plt\n",
    "from sklearn.metrics import mean_squared_error, accuracy_score\n",
    "\n",
    "def predict(model, loader):\n",
    "    model.eval()\n",
    "    with torch.no_grad():\n",
    "        original = []\n",
    "        reconstructed = []\n",
    "        true_labels = []\n",
    "        predicted_labels = []\n",
    "        for i, (x, mean, std, labels) in tqdm(enumerate(loader), leave=False, total=len(loader)):\n",
    "            std = std[:, None, None, None]\n",
    "            mean = mean[:, None, None, None]\n",
    "            x = x.unsqueeze(1).float()\n",
    "            x = x.to(device)\n",
    "            reconstructed_x, mu, log, logits = model(x)\n",
    "            reconstructed_x = reconstructed_x.cpu()\n",
    "            original.append(x.cpu())\n",
    "            reconstructed.append(reconstructed_x)\n",
    "            \n",
    "            probas = nn.Softmax(1)(logits)\n",
    "            preds = probas.argmax(dim=-1)\n",
    "            true_labels.append(labels)\n",
    "            predicted_labels.append(preds)\n",
    "    return original, reconstructed, true_labels, predicted_labels"
   ]
  },
  {
   "cell_type": "code",
   "execution_count": 8,
   "id": "10b8aa3e",
   "metadata": {
    "execution": {
     "iopub.execute_input": "2023-05-15T08:33:12.167172Z",
     "iopub.status.busy": "2023-05-15T08:33:12.166723Z",
     "iopub.status.idle": "2023-05-15T08:33:12.328392Z",
     "shell.execute_reply": "2023-05-15T08:33:12.327438Z"
    },
    "papermill": {
     "duration": 0.177983,
     "end_time": "2023-05-15T08:33:12.331520",
     "exception": false,
     "start_time": "2023-05-15T08:33:12.153537",
     "status": "completed"
    },
    "tags": []
   },
   "outputs": [],
   "source": [
    "model = VariationalAutoencoder(1, 128, 1, loss_cfs=(1, 1 / 1e8 * 0.1, 1 / 20), num_classes=7)\n",
    "model.load_state_dict(torch.load('/kaggle/input/vkr-data/state_dict_full_model', map_location=torch.device('cpu')))\n",
    "#optimizer = torch.optim.Adam(model.parameters(), lr=2e-4)\n",
    "device = \"cuda\" if torch.cuda.is_available() else \"cpu\"\n",
    "model.to(device);\n",
    "#criterion = nn.MSELoss()\n",
    "#train_model(model, train_dataloader, val_dataloader, optimizer, device=device, num_epochs=100, verbose_num_iters=64)"
   ]
  },
  {
   "cell_type": "code",
   "execution_count": null,
   "id": "b9e19461",
   "metadata": {
    "papermill": {
     "duration": 0.011451,
     "end_time": "2023-05-15T08:33:12.354848",
     "exception": false,
     "start_time": "2023-05-15T08:33:12.343397",
     "status": "completed"
    },
    "tags": []
   },
   "outputs": [],
   "source": [
    "    "
   ]
  },
  {
   "cell_type": "code",
   "execution_count": 9,
   "id": "f9807495",
   "metadata": {
    "execution": {
     "iopub.execute_input": "2023-05-15T08:33:12.380131Z",
     "iopub.status.busy": "2023-05-15T08:33:12.379700Z",
     "iopub.status.idle": "2023-05-15T08:33:55.930957Z",
     "shell.execute_reply": "2023-05-15T08:33:55.929764Z"
    },
    "papermill": {
     "duration": 43.567299,
     "end_time": "2023-05-15T08:33:55.933602",
     "exception": false,
     "start_time": "2023-05-15T08:33:12.366303",
     "status": "completed"
    },
    "tags": []
   },
   "outputs": [
    {
     "data": {
      "application/vnd.jupyter.widget-view+json": {
       "model_id": "296528fcaf8a431fb314d2f7117c2891",
       "version_major": 2,
       "version_minor": 0
      },
      "text/plain": [
       "  0%|          | 0/113 [00:00<?, ?it/s]"
      ]
     },
     "metadata": {},
     "output_type": "display_data"
    }
   ],
   "source": [
    "original, reconstructed, true_labels, predicted_labels = predict(model, val_dataloader)"
   ]
  },
  {
   "cell_type": "code",
   "execution_count": 10,
   "id": "39e3ae90",
   "metadata": {
    "execution": {
     "iopub.execute_input": "2023-05-15T08:33:55.959198Z",
     "iopub.status.busy": "2023-05-15T08:33:55.957880Z",
     "iopub.status.idle": "2023-05-15T08:33:56.822218Z",
     "shell.execute_reply": "2023-05-15T08:33:56.821055Z"
    },
    "papermill": {
     "duration": 0.880003,
     "end_time": "2023-05-15T08:33:56.825025",
     "exception": false,
     "start_time": "2023-05-15T08:33:55.945022",
     "status": "completed"
    },
    "tags": []
   },
   "outputs": [
    {
     "name": "stdout",
     "output_type": "stream",
     "text": [
      "RMSE: 0.1478292\n",
      "Accuracy: 0.7401144640998959\n"
     ]
    }
   ],
   "source": [
    "print('RMSE:', mean_squared_error(torch.cat(original).cpu().detach().numpy().flatten(),\n",
    "               torch.cat(reconstructed).cpu().detach().numpy().flatten(), squared=False))\n",
    "print('Accuracy:', accuracy_score(torch.cat(true_labels).cpu().detach().numpy(),\n",
    "               torch.cat(predicted_labels).cpu().detach().numpy()))"
   ]
  },
  {
   "cell_type": "code",
   "execution_count": null,
   "id": "f956b1e4",
   "metadata": {
    "papermill": {
     "duration": 0.011632,
     "end_time": "2023-05-15T08:33:56.849163",
     "exception": false,
     "start_time": "2023-05-15T08:33:56.837531",
     "status": "completed"
    },
    "tags": []
   },
   "outputs": [],
   "source": []
  },
  {
   "cell_type": "code",
   "execution_count": null,
   "id": "2b30deb6",
   "metadata": {
    "papermill": {
     "duration": 0.011328,
     "end_time": "2023-05-15T08:33:56.872174",
     "exception": false,
     "start_time": "2023-05-15T08:33:56.860846",
     "status": "completed"
    },
    "tags": []
   },
   "outputs": [],
   "source": []
  },
  {
   "cell_type": "code",
   "execution_count": 11,
   "id": "cb83482c",
   "metadata": {
    "execution": {
     "iopub.execute_input": "2023-05-15T08:33:56.898151Z",
     "iopub.status.busy": "2023-05-15T08:33:56.896915Z",
     "iopub.status.idle": "2023-05-15T08:34:06.541847Z",
     "shell.execute_reply": "2023-05-15T08:34:06.540520Z"
    },
    "papermill": {
     "duration": 9.663789,
     "end_time": "2023-05-15T08:34:06.547422",
     "exception": false,
     "start_time": "2023-05-15T08:33:56.883633",
     "status": "completed"
    },
    "tags": []
   },
   "outputs": [
    {
     "data": {
      "application/vnd.jupyter.widget-view+json": {
       "model_id": "d41d917e39b34f0aac0ceec68773c682",
       "version_major": 2,
       "version_minor": 0
      },
      "text/plain": [
       "  0%|          | 0/113 [00:00<?, ?it/s]"
      ]
     },
     "metadata": {},
     "output_type": "display_data"
    }
   ],
   "source": [
    "loader = val_dataloader\n",
    "model.eval()\n",
    "with torch.no_grad():\n",
    "    original = []\n",
    "    reconstructed = []\n",
    "    true_labels = []\n",
    "    predicted_labels = []\n",
    "    encoded = []\n",
    "    indexes = []\n",
    "    for i, (x, mean, std, labels) in tqdm(enumerate(loader), leave=False, total=len(loader)):\n",
    "        std = std[:, None, None, None]\n",
    "        mean = mean[:, None, None, None]\n",
    "        x = x.unsqueeze(1).float()\n",
    "        x = x.to(device)\n",
    "        encoded.append(model.encode(x).cpu())\n",
    "        original.append(x.cpu())\n",
    "        true_labels.append(labels)"
   ]
  },
  {
   "cell_type": "code",
   "execution_count": 12,
   "id": "b3fe2c55",
   "metadata": {
    "execution": {
     "iopub.execute_input": "2023-05-15T08:34:06.575073Z",
     "iopub.status.busy": "2023-05-15T08:34:06.574638Z",
     "iopub.status.idle": "2023-05-15T08:34:06.706169Z",
     "shell.execute_reply": "2023-05-15T08:34:06.704778Z"
    },
    "papermill": {
     "duration": 0.148767,
     "end_time": "2023-05-15T08:34:06.709623",
     "exception": false,
     "start_time": "2023-05-15T08:34:06.560856",
     "status": "completed"
    },
    "tags": []
   },
   "outputs": [],
   "source": [
    "encoded = torch.cat(encoded)\n",
    "true_labels = torch.cat(true_labels)\n",
    "original = torch.cat(original)\n",
    "original = original.flatten(start_dim=1)"
   ]
  },
  {
   "cell_type": "code",
   "execution_count": 13,
   "id": "c4248ab7",
   "metadata": {
    "execution": {
     "iopub.execute_input": "2023-05-15T08:34:06.736971Z",
     "iopub.status.busy": "2023-05-15T08:34:06.736524Z",
     "iopub.status.idle": "2023-05-15T08:34:07.319591Z",
     "shell.execute_reply": "2023-05-15T08:34:07.318180Z"
    },
    "papermill": {
     "duration": 0.600654,
     "end_time": "2023-05-15T08:34:07.323401",
     "exception": false,
     "start_time": "2023-05-15T08:34:06.722747",
     "status": "completed"
    },
    "tags": []
   },
   "outputs": [],
   "source": [
    "from sklearn.cluster import KMeans\n",
    "from sklearn.metrics import rand_score\n",
    "\n",
    "kmeans = KMeans(7)"
   ]
  },
  {
   "cell_type": "code",
   "execution_count": 14,
   "id": "886bdb27",
   "metadata": {
    "execution": {
     "iopub.execute_input": "2023-05-15T08:34:07.353879Z",
     "iopub.status.busy": "2023-05-15T08:34:07.353352Z",
     "iopub.status.idle": "2023-05-15T08:35:38.804474Z",
     "shell.execute_reply": "2023-05-15T08:35:38.803317Z"
    },
    "papermill": {
     "duration": 91.480968,
     "end_time": "2023-05-15T08:35:38.820342",
     "exception": false,
     "start_time": "2023-05-15T08:34:07.339374",
     "status": "completed"
    },
    "tags": []
   },
   "outputs": [
    {
     "name": "stderr",
     "output_type": "stream",
     "text": [
      "/opt/conda/lib/python3.10/site-packages/sklearn/cluster/_kmeans.py:870: FutureWarning: The default value of `n_init` will change from 10 to 'auto' in 1.4. Set the value of `n_init` explicitly to suppress the warning\n",
      "  warnings.warn(\n"
     ]
    },
    {
     "name": "stdout",
     "output_type": "stream",
     "text": [
      "CPU times: user 3min 15s, sys: 33.7 s, total: 3min 48s\n",
      "Wall time: 1min 31s\n"
     ]
    },
    {
     "data": {
      "text/plain": [
       "0.6776103758857778"
      ]
     },
     "execution_count": 14,
     "metadata": {},
     "output_type": "execute_result"
    }
   ],
   "source": [
    "%%time\n",
    "kmeans.fit(original.numpy())\n",
    "\n",
    "rand_score(true_labels, kmeans.labels_)"
   ]
  },
  {
   "cell_type": "code",
   "execution_count": 15,
   "id": "3f9c5b93",
   "metadata": {
    "execution": {
     "iopub.execute_input": "2023-05-15T08:35:38.849216Z",
     "iopub.status.busy": "2023-05-15T08:35:38.846953Z",
     "iopub.status.idle": "2023-05-15T08:40:06.392972Z",
     "shell.execute_reply": "2023-05-15T08:40:06.391295Z"
    },
    "papermill": {
     "duration": 267.563471,
     "end_time": "2023-05-15T08:40:06.396249",
     "exception": false,
     "start_time": "2023-05-15T08:35:38.832778",
     "status": "completed"
    },
    "tags": []
   },
   "outputs": [
    {
     "data": {
      "application/vnd.jupyter.widget-view+json": {
       "model_id": "2bbe76d8002846ddba31bb18a1b2882c",
       "version_major": 2,
       "version_minor": 0
      },
      "text/plain": [
       "  0%|          | 0/5040 [00:00<?, ?it/s]"
      ]
     },
     "metadata": {},
     "output_type": "display_data"
    },
    {
     "name": "stdout",
     "output_type": "stream",
     "text": [
      "0.15220256677072494\n",
      "0.23416579951439473\n"
     ]
    }
   ],
   "source": [
    "from sklearn.metrics import confusion_matrix\n",
    "from itertools import permutations\n",
    "from sklearn.metrics import confusion_matrix, accuracy_score\n",
    "\n",
    "best_p = []\n",
    "best_score = 0\n",
    "for p in tqdm(permutations([1, 2, 3, 4, 5, 6, 7]), total=5040):\n",
    "    labels = list(map(lambda x : p[x], kmeans.labels_))\n",
    "    matrix = confusion_matrix(true_labels, labels)\n",
    "    if matrix.diagonal().sum() > best_score:\n",
    "        best_score = matrix.diagonal().sum()\n",
    "        best_p = p\n",
    "        \n",
    "print(accuracy_score(true_labels, kmeans.labels_))\n",
    "labels = list(map(lambda x : best_p[x], kmeans.labels_))\n",
    "print(accuracy_score(true_labels, labels))\n"
   ]
  },
  {
   "cell_type": "code",
   "execution_count": 16,
   "id": "0204f4fe",
   "metadata": {
    "execution": {
     "iopub.execute_input": "2023-05-15T08:40:06.423657Z",
     "iopub.status.busy": "2023-05-15T08:40:06.423255Z",
     "iopub.status.idle": "2023-05-15T08:40:06.429756Z",
     "shell.execute_reply": "2023-05-15T08:40:06.428299Z"
    },
    "papermill": {
     "duration": 0.023425,
     "end_time": "2023-05-15T08:40:06.432408",
     "exception": false,
     "start_time": "2023-05-15T08:40:06.408983",
     "status": "completed"
    },
    "tags": []
   },
   "outputs": [],
   "source": [
    "from sklearn.cluster import KMeans\n",
    "from sklearn.metrics import rand_score\n",
    "\n",
    "kmeans = KMeans(7)"
   ]
  },
  {
   "cell_type": "code",
   "execution_count": 17,
   "id": "f99a4193",
   "metadata": {
    "execution": {
     "iopub.execute_input": "2023-05-15T08:40:06.459838Z",
     "iopub.status.busy": "2023-05-15T08:40:06.459421Z",
     "iopub.status.idle": "2023-05-15T08:40:19.924384Z",
     "shell.execute_reply": "2023-05-15T08:40:19.922794Z"
    },
    "papermill": {
     "duration": 13.481801,
     "end_time": "2023-05-15T08:40:19.926994",
     "exception": false,
     "start_time": "2023-05-15T08:40:06.445193",
     "status": "completed"
    },
    "tags": []
   },
   "outputs": [
    {
     "name": "stderr",
     "output_type": "stream",
     "text": [
      "/opt/conda/lib/python3.10/site-packages/sklearn/cluster/_kmeans.py:870: FutureWarning: The default value of `n_init` will change from 10 to 'auto' in 1.4. Set the value of `n_init` explicitly to suppress the warning\n",
      "  warnings.warn(\n"
     ]
    },
    {
     "name": "stdout",
     "output_type": "stream",
     "text": [
      "CPU times: user 28.7 s, sys: 6.68 s, total: 35.4 s\n",
      "Wall time: 13.5 s\n"
     ]
    },
    {
     "data": {
      "text/plain": [
       "0.7119138050491299"
      ]
     },
     "execution_count": 17,
     "metadata": {},
     "output_type": "execute_result"
    }
   ],
   "source": [
    "%%time\n",
    "\n",
    "kmeans.fit(encoded.numpy())\n",
    "\n",
    "rand_score(true_labels, kmeans.labels_)"
   ]
  },
  {
   "cell_type": "code",
   "execution_count": 18,
   "id": "2eee21a5",
   "metadata": {
    "execution": {
     "iopub.execute_input": "2023-05-15T08:40:19.955735Z",
     "iopub.status.busy": "2023-05-15T08:40:19.955352Z",
     "iopub.status.idle": "2023-05-15T08:44:47.697626Z",
     "shell.execute_reply": "2023-05-15T08:44:47.695798Z"
    },
    "papermill": {
     "duration": 267.75934,
     "end_time": "2023-05-15T08:44:47.700303",
     "exception": false,
     "start_time": "2023-05-15T08:40:19.940963",
     "status": "completed"
    },
    "tags": []
   },
   "outputs": [
    {
     "data": {
      "application/vnd.jupyter.widget-view+json": {
       "model_id": "e42b90373f554aef84e3b6a2d8328a93",
       "version_major": 2,
       "version_minor": 0
      },
      "text/plain": [
       "  0%|          | 0/5040 [00:00<?, ?it/s]"
      ]
     },
     "metadata": {},
     "output_type": "display_data"
    },
    {
     "name": "stdout",
     "output_type": "stream",
     "text": [
      "0.20202913631633715\n",
      "0.3231876517516476\n"
     ]
    }
   ],
   "source": [
    "from sklearn.metrics import confusion_matrix\n",
    "from itertools import permutations\n",
    "from sklearn.metrics import confusion_matrix, accuracy_score\n",
    "\n",
    "best_p = []\n",
    "best_score = 0\n",
    "for p in tqdm(permutations([1, 2, 3, 4, 5, 6, 7]), total=5040):\n",
    "    labels = list(map(lambda x : p[x], kmeans.labels_))\n",
    "    matrix = confusion_matrix(true_labels, labels)\n",
    "    if matrix.diagonal().sum() > best_score:\n",
    "        best_score = matrix.diagonal().sum()\n",
    "        best_p = p\n",
    "        \n",
    "print(accuracy_score(true_labels, kmeans.labels_))\n",
    "labels = list(map(lambda x : best_p[x], kmeans.labels_))\n",
    "print(accuracy_score(true_labels, labels))\n"
   ]
  },
  {
   "cell_type": "code",
   "execution_count": null,
   "id": "04b19dec",
   "metadata": {
    "papermill": {
     "duration": 0.013297,
     "end_time": "2023-05-15T08:44:47.727656",
     "exception": false,
     "start_time": "2023-05-15T08:44:47.714359",
     "status": "completed"
    },
    "tags": []
   },
   "outputs": [],
   "source": []
  },
  {
   "cell_type": "code",
   "execution_count": 19,
   "id": "b0e9e0af",
   "metadata": {
    "execution": {
     "iopub.execute_input": "2023-05-15T08:44:47.756757Z",
     "iopub.status.busy": "2023-05-15T08:44:47.756312Z",
     "iopub.status.idle": "2023-05-15T08:44:47.889996Z",
     "shell.execute_reply": "2023-05-15T08:44:47.889062Z"
    },
    "papermill": {
     "duration": 0.150937,
     "end_time": "2023-05-15T08:44:47.892583",
     "exception": false,
     "start_time": "2023-05-15T08:44:47.741646",
     "status": "completed"
    },
    "tags": []
   },
   "outputs": [],
   "source": [
    "model = VariationalAutoencoder(1, 128, 1, loss_cfs=(1, 1 / 1e8 * 0.1, 1 / 20), num_classes=7)\n",
    "model.load_state_dict(torch.load('/kaggle/input/vkr-data/state_dict_VAE', map_location=torch.device('cpu')))\n",
    "#optimizer = torch.optim.Adam(model.parameters(), lr=2e-4)\n",
    "device = \"cuda\" if torch.cuda.is_available() else \"cpu\"\n",
    "model.to(device);\n",
    "#criterion = nn.MSELoss()\n",
    "#train_model(model, train_dataloader, val_dataloader, optimizer, device=device, num_epochs=100, verbose_num_iters=64)"
   ]
  },
  {
   "cell_type": "code",
   "execution_count": 20,
   "id": "28d211ef",
   "metadata": {
    "execution": {
     "iopub.execute_input": "2023-05-15T08:44:47.921341Z",
     "iopub.status.busy": "2023-05-15T08:44:47.920841Z",
     "iopub.status.idle": "2023-05-15T08:45:18.243027Z",
     "shell.execute_reply": "2023-05-15T08:45:18.241843Z"
    },
    "papermill": {
     "duration": 30.339448,
     "end_time": "2023-05-15T08:45:18.245612",
     "exception": false,
     "start_time": "2023-05-15T08:44:47.906164",
     "status": "completed"
    },
    "tags": []
   },
   "outputs": [
    {
     "data": {
      "application/vnd.jupyter.widget-view+json": {
       "model_id": "c7d9c68fb58846a599f80cc4752632d7",
       "version_major": 2,
       "version_minor": 0
      },
      "text/plain": [
       "  0%|          | 0/113 [00:00<?, ?it/s]"
      ]
     },
     "metadata": {},
     "output_type": "display_data"
    }
   ],
   "source": [
    "original, reconstructed, true_labels, predicted_labels = predict(model, val_dataloader)"
   ]
  },
  {
   "cell_type": "code",
   "execution_count": 21,
   "id": "22262a6c",
   "metadata": {
    "execution": {
     "iopub.execute_input": "2023-05-15T08:45:18.273630Z",
     "iopub.status.busy": "2023-05-15T08:45:18.273164Z",
     "iopub.status.idle": "2023-05-15T08:45:19.139374Z",
     "shell.execute_reply": "2023-05-15T08:45:19.138257Z"
    },
    "papermill": {
     "duration": 0.882813,
     "end_time": "2023-05-15T08:45:19.141434",
     "exception": false,
     "start_time": "2023-05-15T08:45:18.258621",
     "status": "completed"
    },
    "tags": []
   },
   "outputs": [
    {
     "name": "stdout",
     "output_type": "stream",
     "text": [
      "RMSE: 0.14835764\n",
      "Accuracy: 0.1079431148109608\n"
     ]
    }
   ],
   "source": [
    "print('RMSE:', mean_squared_error(torch.cat(original).cpu().detach().numpy().flatten(),\n",
    "               torch.cat(reconstructed).cpu().detach().numpy().flatten(), squared=False))\n",
    "print('Accuracy:', accuracy_score(torch.cat(true_labels).cpu().detach().numpy(),\n",
    "               torch.cat(predicted_labels).cpu().detach().numpy()))"
   ]
  },
  {
   "cell_type": "code",
   "execution_count": 22,
   "id": "e939bd6f",
   "metadata": {
    "execution": {
     "iopub.execute_input": "2023-05-15T08:45:19.169291Z",
     "iopub.status.busy": "2023-05-15T08:45:19.168797Z",
     "iopub.status.idle": "2023-05-15T08:45:28.177646Z",
     "shell.execute_reply": "2023-05-15T08:45:28.176889Z"
    },
    "papermill": {
     "duration": 9.026162,
     "end_time": "2023-05-15T08:45:28.180353",
     "exception": false,
     "start_time": "2023-05-15T08:45:19.154191",
     "status": "completed"
    },
    "tags": []
   },
   "outputs": [
    {
     "data": {
      "application/vnd.jupyter.widget-view+json": {
       "model_id": "724a435c803b447cacf04f8581fb1d83",
       "version_major": 2,
       "version_minor": 0
      },
      "text/plain": [
       "  0%|          | 0/113 [00:00<?, ?it/s]"
      ]
     },
     "metadata": {},
     "output_type": "display_data"
    }
   ],
   "source": [
    "loader = val_dataloader\n",
    "model.eval()\n",
    "with torch.no_grad():\n",
    "    original = []\n",
    "    reconstructed = []\n",
    "    true_labels = []\n",
    "    predicted_labels = []\n",
    "    encoded = []\n",
    "    indexes = []\n",
    "    for i, (x, mean, std, labels) in tqdm(enumerate(loader), leave=False, total=len(loader)):\n",
    "        std = std[:, None, None, None]\n",
    "        mean = mean[:, None, None, None]\n",
    "        x = x.unsqueeze(1).float()\n",
    "        x = x.to(device)\n",
    "        encoded.append(model.encode(x).cpu())\n",
    "        original.append(x.cpu())\n",
    "        true_labels.append(labels)"
   ]
  },
  {
   "cell_type": "code",
   "execution_count": 23,
   "id": "21ee8297",
   "metadata": {
    "execution": {
     "iopub.execute_input": "2023-05-15T08:45:28.208737Z",
     "iopub.status.busy": "2023-05-15T08:45:28.208331Z",
     "iopub.status.idle": "2023-05-15T08:45:28.337531Z",
     "shell.execute_reply": "2023-05-15T08:45:28.336237Z"
    },
    "papermill": {
     "duration": 0.147053,
     "end_time": "2023-05-15T08:45:28.340726",
     "exception": false,
     "start_time": "2023-05-15T08:45:28.193673",
     "status": "completed"
    },
    "tags": []
   },
   "outputs": [],
   "source": [
    "encoded = torch.cat(encoded)\n",
    "true_labels = torch.cat(true_labels)\n",
    "original = torch.cat(original)\n",
    "original = original.flatten(start_dim=1)"
   ]
  },
  {
   "cell_type": "code",
   "execution_count": 24,
   "id": "248bcc20",
   "metadata": {
    "execution": {
     "iopub.execute_input": "2023-05-15T08:45:28.369486Z",
     "iopub.status.busy": "2023-05-15T08:45:28.369038Z",
     "iopub.status.idle": "2023-05-15T08:45:28.375091Z",
     "shell.execute_reply": "2023-05-15T08:45:28.373873Z"
    },
    "papermill": {
     "duration": 0.023041,
     "end_time": "2023-05-15T08:45:28.377427",
     "exception": false,
     "start_time": "2023-05-15T08:45:28.354386",
     "status": "completed"
    },
    "tags": []
   },
   "outputs": [],
   "source": [
    "from sklearn.cluster import KMeans\n",
    "from sklearn.metrics import rand_score\n",
    "\n",
    "kmeans = KMeans(7)"
   ]
  },
  {
   "cell_type": "code",
   "execution_count": 25,
   "id": "fbe2711c",
   "metadata": {
    "execution": {
     "iopub.execute_input": "2023-05-15T08:45:28.407101Z",
     "iopub.status.busy": "2023-05-15T08:45:28.405989Z",
     "iopub.status.idle": "2023-05-15T08:47:22.818223Z",
     "shell.execute_reply": "2023-05-15T08:47:22.816857Z"
    },
    "papermill": {
     "duration": 114.44244,
     "end_time": "2023-05-15T08:47:22.833577",
     "exception": false,
     "start_time": "2023-05-15T08:45:28.391137",
     "status": "completed"
    },
    "tags": []
   },
   "outputs": [
    {
     "name": "stderr",
     "output_type": "stream",
     "text": [
      "/opt/conda/lib/python3.10/site-packages/sklearn/cluster/_kmeans.py:870: FutureWarning: The default value of `n_init` will change from 10 to 'auto' in 1.4. Set the value of `n_init` explicitly to suppress the warning\n",
      "  warnings.warn(\n"
     ]
    },
    {
     "name": "stdout",
     "output_type": "stream",
     "text": [
      "CPU times: user 3min 57s, sys: 29.9 s, total: 4min 27s\n",
      "Wall time: 1min 54s\n"
     ]
    },
    {
     "data": {
      "text/plain": [
       "0.6770091537194797"
      ]
     },
     "execution_count": 25,
     "metadata": {},
     "output_type": "execute_result"
    }
   ],
   "source": [
    "%%time\n",
    "kmeans.fit(original.numpy())\n",
    "\n",
    "rand_score(true_labels, kmeans.labels_)"
   ]
  },
  {
   "cell_type": "code",
   "execution_count": 26,
   "id": "453156c9",
   "metadata": {
    "execution": {
     "iopub.execute_input": "2023-05-15T08:47:22.863173Z",
     "iopub.status.busy": "2023-05-15T08:47:22.862760Z",
     "iopub.status.idle": "2023-05-15T08:49:57.247034Z",
     "shell.execute_reply": "2023-05-15T08:49:57.245393Z"
    },
    "papermill": {
     "duration": 154.402561,
     "end_time": "2023-05-15T08:49:57.249646",
     "exception": false,
     "start_time": "2023-05-15T08:47:22.847085",
     "status": "completed"
    },
    "tags": []
   },
   "outputs": [
    {
     "data": {
      "application/vnd.jupyter.widget-view+json": {
       "model_id": "e256a419917e4b44b49a7191150a8e1c",
       "version_major": 2,
       "version_minor": 0
      },
      "text/plain": [
       "  0%|          | 0/5040 [00:00<?, ?it/s]"
      ]
     },
     "metadata": {},
     "output_type": "display_data"
    },
    {
     "name": "stdout",
     "output_type": "stream",
     "text": [
      "0.10900104058272633\n",
      "0.23263961151578216\n"
     ]
    }
   ],
   "source": [
    "from sklearn.metrics import confusion_matrix\n",
    "from itertools import permutations\n",
    "from sklearn.metrics import confusion_matrix, accuracy_score\n",
    "\n",
    "best_p = []\n",
    "best_score = 0\n",
    "for p in tqdm(permutations([1, 2, 3, 4, 5, 6, 7]), total=5040):\n",
    "    labels = list(map(lambda x : p[x], kmeans.labels_))\n",
    "    acc = accuracy_score(true_labels[:28830], labels[:28830])\n",
    "    if acc > best_score:\n",
    "        best_score = acc\n",
    "        best_p = p\n",
    "        \n",
    "print(accuracy_score(true_labels, kmeans.labels_))\n",
    "labels = list(map(lambda x : best_p[x], kmeans.labels_))\n",
    "print(accuracy_score(true_labels, labels))"
   ]
  },
  {
   "cell_type": "code",
   "execution_count": 27,
   "id": "9a73b0c0",
   "metadata": {
    "execution": {
     "iopub.execute_input": "2023-05-15T08:49:57.278765Z",
     "iopub.status.busy": "2023-05-15T08:49:57.278363Z",
     "iopub.status.idle": "2023-05-15T08:49:57.283726Z",
     "shell.execute_reply": "2023-05-15T08:49:57.282623Z"
    },
    "papermill": {
     "duration": 0.022578,
     "end_time": "2023-05-15T08:49:57.285841",
     "exception": false,
     "start_time": "2023-05-15T08:49:57.263263",
     "status": "completed"
    },
    "tags": []
   },
   "outputs": [],
   "source": [
    "from sklearn.cluster import KMeans\n",
    "from sklearn.metrics import rand_score\n",
    "\n",
    "kmeans = KMeans(7)"
   ]
  },
  {
   "cell_type": "code",
   "execution_count": 28,
   "id": "c414f7cd",
   "metadata": {
    "execution": {
     "iopub.execute_input": "2023-05-15T08:49:57.316164Z",
     "iopub.status.busy": "2023-05-15T08:49:57.314872Z",
     "iopub.status.idle": "2023-05-15T08:50:10.159408Z",
     "shell.execute_reply": "2023-05-15T08:50:10.157895Z"
    },
    "papermill": {
     "duration": 12.862238,
     "end_time": "2023-05-15T08:50:10.161868",
     "exception": false,
     "start_time": "2023-05-15T08:49:57.299630",
     "status": "completed"
    },
    "tags": []
   },
   "outputs": [
    {
     "name": "stderr",
     "output_type": "stream",
     "text": [
      "/opt/conda/lib/python3.10/site-packages/sklearn/cluster/_kmeans.py:870: FutureWarning: The default value of `n_init` will change from 10 to 'auto' in 1.4. Set the value of `n_init` explicitly to suppress the warning\n",
      "  warnings.warn(\n"
     ]
    },
    {
     "name": "stdout",
     "output_type": "stream",
     "text": [
      "CPU times: user 27.4 s, sys: 6.89 s, total: 34.3 s\n",
      "Wall time: 12.8 s\n"
     ]
    },
    {
     "data": {
      "text/plain": [
       "0.6855806655485953"
      ]
     },
     "execution_count": 28,
     "metadata": {},
     "output_type": "execute_result"
    }
   ],
   "source": [
    "%%time\n",
    "\n",
    "kmeans.fit(encoded.numpy())\n",
    "\n",
    "rand_score(true_labels, kmeans.labels_)"
   ]
  },
  {
   "cell_type": "code",
   "execution_count": 29,
   "id": "d301e7a3",
   "metadata": {
    "execution": {
     "iopub.execute_input": "2023-05-15T08:50:10.192860Z",
     "iopub.status.busy": "2023-05-15T08:50:10.192394Z",
     "iopub.status.idle": "2023-05-15T08:52:48.113559Z",
     "shell.execute_reply": "2023-05-15T08:52:48.111740Z"
    },
    "papermill": {
     "duration": 157.940086,
     "end_time": "2023-05-15T08:52:48.116504",
     "exception": false,
     "start_time": "2023-05-15T08:50:10.176418",
     "status": "completed"
    },
    "tags": []
   },
   "outputs": [
    {
     "data": {
      "application/vnd.jupyter.widget-view+json": {
       "model_id": "754920feec244727bf20c8c686fb8769",
       "version_major": 2,
       "version_minor": 0
      },
      "text/plain": [
       "  0%|          | 0/5040 [00:00<?, ?it/s]"
      ]
     },
     "metadata": {},
     "output_type": "display_data"
    },
    {
     "name": "stdout",
     "output_type": "stream",
     "text": [
      "0.11456815816857441\n",
      "0.26125563648976763\n"
     ]
    }
   ],
   "source": [
    "from sklearn.metrics import confusion_matrix\n",
    "from itertools import permutations\n",
    "from sklearn.metrics import confusion_matrix, accuracy_score\n",
    "\n",
    "best_p = []\n",
    "best_score = 0\n",
    "for p in tqdm(permutations([1, 2, 3, 4, 5, 6, 7]), total=5040):\n",
    "    labels = list(map(lambda x : p[x], kmeans.labels_))\n",
    "    acc = accuracy_score(true_labels[:28830], labels[:28830])\n",
    "    if acc > best_score:\n",
    "        best_score = acc\n",
    "        best_p = p\n",
    "        \n",
    "print(accuracy_score(true_labels, kmeans.labels_))\n",
    "labels = list(map(lambda x : best_p[x], kmeans.labels_))\n",
    "print(accuracy_score(true_labels, labels))"
   ]
  },
  {
   "cell_type": "code",
   "execution_count": null,
   "id": "b326bb05",
   "metadata": {
    "papermill": {
     "duration": 0.014386,
     "end_time": "2023-05-15T08:52:48.146287",
     "exception": false,
     "start_time": "2023-05-15T08:52:48.131901",
     "status": "completed"
    },
    "tags": []
   },
   "outputs": [],
   "source": []
  },
  {
   "cell_type": "code",
   "execution_count": null,
   "id": "b8d91e6a",
   "metadata": {
    "papermill": {
     "duration": 0.014288,
     "end_time": "2023-05-15T08:52:48.175589",
     "exception": false,
     "start_time": "2023-05-15T08:52:48.161301",
     "status": "completed"
    },
    "tags": []
   },
   "outputs": [],
   "source": []
  }
 ],
 "metadata": {
  "kernelspec": {
   "display_name": "Python 3",
   "language": "python",
   "name": "python3"
  },
  "language_info": {
   "codemirror_mode": {
    "name": "ipython",
    "version": 3
   },
   "file_extension": ".py",
   "mimetype": "text/x-python",
   "name": "python",
   "nbconvert_exporter": "python",
   "pygments_lexer": "ipython3",
   "version": "3.10.10"
  },
  "papermill": {
   "default_parameters": {},
   "duration": 1217.634466,
   "end_time": "2023-05-15T08:52:51.291155",
   "environment_variables": {},
   "exception": null,
   "input_path": "__notebook__.ipynb",
   "output_path": "__notebook__.ipynb",
   "parameters": {},
   "start_time": "2023-05-15T08:32:33.656689",
   "version": "2.4.0"
  },
  "widgets": {
   "application/vnd.jupyter.widget-state+json": {
    "state": {
     "00f074a088294a24a68a867ee27adcbf": {
      "model_module": "@jupyter-widgets/base",
      "model_module_version": "1.2.0",
      "model_name": "LayoutModel",
      "state": {
       "_model_module": "@jupyter-widgets/base",
       "_model_module_version": "1.2.0",
       "_model_name": "LayoutModel",
       "_view_count": null,
       "_view_module": "@jupyter-widgets/base",
       "_view_module_version": "1.2.0",
       "_view_name": "LayoutView",
       "align_content": null,
       "align_items": null,
       "align_self": null,
       "border": null,
       "bottom": null,
       "display": null,
       "flex": null,
       "flex_flow": null,
       "grid_area": null,
       "grid_auto_columns": null,
       "grid_auto_flow": null,
       "grid_auto_rows": null,
       "grid_column": null,
       "grid_gap": null,
       "grid_row": null,
       "grid_template_areas": null,
       "grid_template_columns": null,
       "grid_template_rows": null,
       "height": null,
       "justify_content": null,
       "justify_items": null,
       "left": null,
       "margin": null,
       "max_height": null,
       "max_width": null,
       "min_height": null,
       "min_width": null,
       "object_fit": null,
       "object_position": null,
       "order": null,
       "overflow": null,
       "overflow_x": null,
       "overflow_y": null,
       "padding": null,
       "right": null,
       "top": null,
       "visibility": null,
       "width": null
      }
     },
     "0902fd22400c4e9291ee8d4ee7acead1": {
      "model_module": "@jupyter-widgets/controls",
      "model_module_version": "1.5.0",
      "model_name": "ProgressStyleModel",
      "state": {
       "_model_module": "@jupyter-widgets/controls",
       "_model_module_version": "1.5.0",
       "_model_name": "ProgressStyleModel",
       "_view_count": null,
       "_view_module": "@jupyter-widgets/base",
       "_view_module_version": "1.2.0",
       "_view_name": "StyleView",
       "bar_color": null,
       "description_width": ""
      }
     },
     "0a91f24453494c778af63a16469ca005": {
      "model_module": "@jupyter-widgets/controls",
      "model_module_version": "1.5.0",
      "model_name": "HTMLModel",
      "state": {
       "_dom_classes": [],
       "_model_module": "@jupyter-widgets/controls",
       "_model_module_version": "1.5.0",
       "_model_name": "HTMLModel",
       "_view_count": null,
       "_view_module": "@jupyter-widgets/controls",
       "_view_module_version": "1.5.0",
       "_view_name": "HTMLView",
       "description": "",
       "description_tooltip": null,
       "layout": "IPY_MODEL_b93e6b1b58d740b19f8b415262ab9c50",
       "placeholder": "​",
       "style": "IPY_MODEL_bda4f7e4fcd24d798aa9295ea544a2fd",
       "value": "100%"
      }
     },
     "105d2041cce143a8b4590948c39b82fd": {
      "model_module": "@jupyter-widgets/base",
      "model_module_version": "1.2.0",
      "model_name": "LayoutModel",
      "state": {
       "_model_module": "@jupyter-widgets/base",
       "_model_module_version": "1.2.0",
       "_model_name": "LayoutModel",
       "_view_count": null,
       "_view_module": "@jupyter-widgets/base",
       "_view_module_version": "1.2.0",
       "_view_name": "LayoutView",
       "align_content": null,
       "align_items": null,
       "align_self": null,
       "border": null,
       "bottom": null,
       "display": null,
       "flex": null,
       "flex_flow": null,
       "grid_area": null,
       "grid_auto_columns": null,
       "grid_auto_flow": null,
       "grid_auto_rows": null,
       "grid_column": null,
       "grid_gap": null,
       "grid_row": null,
       "grid_template_areas": null,
       "grid_template_columns": null,
       "grid_template_rows": null,
       "height": null,
       "justify_content": null,
       "justify_items": null,
       "left": null,
       "margin": null,
       "max_height": null,
       "max_width": null,
       "min_height": null,
       "min_width": null,
       "object_fit": null,
       "object_position": null,
       "order": null,
       "overflow": null,
       "overflow_x": null,
       "overflow_y": null,
       "padding": null,
       "right": null,
       "top": null,
       "visibility": null,
       "width": null
      }
     },
     "19240615595344bb847f1483da715c0d": {
      "model_module": "@jupyter-widgets/base",
      "model_module_version": "1.2.0",
      "model_name": "LayoutModel",
      "state": {
       "_model_module": "@jupyter-widgets/base",
       "_model_module_version": "1.2.0",
       "_model_name": "LayoutModel",
       "_view_count": null,
       "_view_module": "@jupyter-widgets/base",
       "_view_module_version": "1.2.0",
       "_view_name": "LayoutView",
       "align_content": null,
       "align_items": null,
       "align_self": null,
       "border": null,
       "bottom": null,
       "display": null,
       "flex": null,
       "flex_flow": null,
       "grid_area": null,
       "grid_auto_columns": null,
       "grid_auto_flow": null,
       "grid_auto_rows": null,
       "grid_column": null,
       "grid_gap": null,
       "grid_row": null,
       "grid_template_areas": null,
       "grid_template_columns": null,
       "grid_template_rows": null,
       "height": null,
       "justify_content": null,
       "justify_items": null,
       "left": null,
       "margin": null,
       "max_height": null,
       "max_width": null,
       "min_height": null,
       "min_width": null,
       "object_fit": null,
       "object_position": null,
       "order": null,
       "overflow": null,
       "overflow_x": null,
       "overflow_y": null,
       "padding": null,
       "right": null,
       "top": null,
       "visibility": "hidden",
       "width": null
      }
     },
     "1a070b6e784e49bd84e6d5b2d3230bc8": {
      "model_module": "@jupyter-widgets/controls",
      "model_module_version": "1.5.0",
      "model_name": "HTMLModel",
      "state": {
       "_dom_classes": [],
       "_model_module": "@jupyter-widgets/controls",
       "_model_module_version": "1.5.0",
       "_model_name": "HTMLModel",
       "_view_count": null,
       "_view_module": "@jupyter-widgets/controls",
       "_view_module_version": "1.5.0",
       "_view_name": "HTMLView",
       "description": "",
       "description_tooltip": null,
       "layout": "IPY_MODEL_5f454546c60542098a93c31df6bd1244",
       "placeholder": "​",
       "style": "IPY_MODEL_7b80db957d94453da0384376cb91603a",
       "value": " 99%"
      }
     },
     "1dd03385410d4a70b6a4e16fb86e4ef8": {
      "model_module": "@jupyter-widgets/base",
      "model_module_version": "1.2.0",
      "model_name": "LayoutModel",
      "state": {
       "_model_module": "@jupyter-widgets/base",
       "_model_module_version": "1.2.0",
       "_model_name": "LayoutModel",
       "_view_count": null,
       "_view_module": "@jupyter-widgets/base",
       "_view_module_version": "1.2.0",
       "_view_name": "LayoutView",
       "align_content": null,
       "align_items": null,
       "align_self": null,
       "border": null,
       "bottom": null,
       "display": null,
       "flex": null,
       "flex_flow": null,
       "grid_area": null,
       "grid_auto_columns": null,
       "grid_auto_flow": null,
       "grid_auto_rows": null,
       "grid_column": null,
       "grid_gap": null,
       "grid_row": null,
       "grid_template_areas": null,
       "grid_template_columns": null,
       "grid_template_rows": null,
       "height": null,
       "justify_content": null,
       "justify_items": null,
       "left": null,
       "margin": null,
       "max_height": null,
       "max_width": null,
       "min_height": null,
       "min_width": null,
       "object_fit": null,
       "object_position": null,
       "order": null,
       "overflow": null,
       "overflow_x": null,
       "overflow_y": null,
       "padding": null,
       "right": null,
       "top": null,
       "visibility": null,
       "width": null
      }
     },
     "1e5071b62ee247489813d126359daad4": {
      "model_module": "@jupyter-widgets/base",
      "model_module_version": "1.2.0",
      "model_name": "LayoutModel",
      "state": {
       "_model_module": "@jupyter-widgets/base",
       "_model_module_version": "1.2.0",
       "_model_name": "LayoutModel",
       "_view_count": null,
       "_view_module": "@jupyter-widgets/base",
       "_view_module_version": "1.2.0",
       "_view_name": "LayoutView",
       "align_content": null,
       "align_items": null,
       "align_self": null,
       "border": null,
       "bottom": null,
       "display": null,
       "flex": null,
       "flex_flow": null,
       "grid_area": null,
       "grid_auto_columns": null,
       "grid_auto_flow": null,
       "grid_auto_rows": null,
       "grid_column": null,
       "grid_gap": null,
       "grid_row": null,
       "grid_template_areas": null,
       "grid_template_columns": null,
       "grid_template_rows": null,
       "height": null,
       "justify_content": null,
       "justify_items": null,
       "left": null,
       "margin": null,
       "max_height": null,
       "max_width": null,
       "min_height": null,
       "min_width": null,
       "object_fit": null,
       "object_position": null,
       "order": null,
       "overflow": null,
       "overflow_x": null,
       "overflow_y": null,
       "padding": null,
       "right": null,
       "top": null,
       "visibility": null,
       "width": null
      }
     },
     "229149c785214d9699dbcef64d029b47": {
      "model_module": "@jupyter-widgets/base",
      "model_module_version": "1.2.0",
      "model_name": "LayoutModel",
      "state": {
       "_model_module": "@jupyter-widgets/base",
       "_model_module_version": "1.2.0",
       "_model_name": "LayoutModel",
       "_view_count": null,
       "_view_module": "@jupyter-widgets/base",
       "_view_module_version": "1.2.0",
       "_view_name": "LayoutView",
       "align_content": null,
       "align_items": null,
       "align_self": null,
       "border": null,
       "bottom": null,
       "display": null,
       "flex": null,
       "flex_flow": null,
       "grid_area": null,
       "grid_auto_columns": null,
       "grid_auto_flow": null,
       "grid_auto_rows": null,
       "grid_column": null,
       "grid_gap": null,
       "grid_row": null,
       "grid_template_areas": null,
       "grid_template_columns": null,
       "grid_template_rows": null,
       "height": null,
       "justify_content": null,
       "justify_items": null,
       "left": null,
       "margin": null,
       "max_height": null,
       "max_width": null,
       "min_height": null,
       "min_width": null,
       "object_fit": null,
       "object_position": null,
       "order": null,
       "overflow": null,
       "overflow_x": null,
       "overflow_y": null,
       "padding": null,
       "right": null,
       "top": null,
       "visibility": null,
       "width": null
      }
     },
     "239a22a4581247ef95f309c2966ce042": {
      "model_module": "@jupyter-widgets/controls",
      "model_module_version": "1.5.0",
      "model_name": "FloatProgressModel",
      "state": {
       "_dom_classes": [],
       "_model_module": "@jupyter-widgets/controls",
       "_model_module_version": "1.5.0",
       "_model_name": "FloatProgressModel",
       "_view_count": null,
       "_view_module": "@jupyter-widgets/controls",
       "_view_module_version": "1.5.0",
       "_view_name": "ProgressView",
       "bar_style": "",
       "description": "",
       "description_tooltip": null,
       "layout": "IPY_MODEL_8b9f87aaa172402396d1abd063ad49f1",
       "max": 113.0,
       "min": 0.0,
       "orientation": "horizontal",
       "style": "IPY_MODEL_6a22c58b3f2845019fd5632c91a42a2e",
       "value": 113.0
      }
     },
     "23b7a39159aa4119b4a0c9a276c8a17c": {
      "model_module": "@jupyter-widgets/base",
      "model_module_version": "1.2.0",
      "model_name": "LayoutModel",
      "state": {
       "_model_module": "@jupyter-widgets/base",
       "_model_module_version": "1.2.0",
       "_model_name": "LayoutModel",
       "_view_count": null,
       "_view_module": "@jupyter-widgets/base",
       "_view_module_version": "1.2.0",
       "_view_name": "LayoutView",
       "align_content": null,
       "align_items": null,
       "align_self": null,
       "border": null,
       "bottom": null,
       "display": null,
       "flex": null,
       "flex_flow": null,
       "grid_area": null,
       "grid_auto_columns": null,
       "grid_auto_flow": null,
       "grid_auto_rows": null,
       "grid_column": null,
       "grid_gap": null,
       "grid_row": null,
       "grid_template_areas": null,
       "grid_template_columns": null,
       "grid_template_rows": null,
       "height": null,
       "justify_content": null,
       "justify_items": null,
       "left": null,
       "margin": null,
       "max_height": null,
       "max_width": null,
       "min_height": null,
       "min_width": null,
       "object_fit": null,
       "object_position": null,
       "order": null,
       "overflow": null,
       "overflow_x": null,
       "overflow_y": null,
       "padding": null,
       "right": null,
       "top": null,
       "visibility": null,
       "width": null
      }
     },
     "27ec58bd18f246b4b5cfaf3340eb9419": {
      "model_module": "@jupyter-widgets/controls",
      "model_module_version": "1.5.0",
      "model_name": "HTMLModel",
      "state": {
       "_dom_classes": [],
       "_model_module": "@jupyter-widgets/controls",
       "_model_module_version": "1.5.0",
       "_model_name": "HTMLModel",
       "_view_count": null,
       "_view_module": "@jupyter-widgets/controls",
       "_view_module_version": "1.5.0",
       "_view_name": "HTMLView",
       "description": "",
       "description_tooltip": null,
       "layout": "IPY_MODEL_a05ab62fb07c499580bd35c9c124a675",
       "placeholder": "​",
       "style": "IPY_MODEL_ffe80a7d4d9245aabca0d222e8c918dd",
       "value": " 112/113 [00:08&lt;00:00, 12.68it/s]"
      }
     },
     "296528fcaf8a431fb314d2f7117c2891": {
      "model_module": "@jupyter-widgets/controls",
      "model_module_version": "1.5.0",
      "model_name": "HBoxModel",
      "state": {
       "_dom_classes": [],
       "_model_module": "@jupyter-widgets/controls",
       "_model_module_version": "1.5.0",
       "_model_name": "HBoxModel",
       "_view_count": null,
       "_view_module": "@jupyter-widgets/controls",
       "_view_module_version": "1.5.0",
       "_view_name": "HBoxView",
       "box_style": "",
       "children": [
        "IPY_MODEL_d0b3f0f5c3214ea7ae2362fbf740e653",
        "IPY_MODEL_cfb72cd5ad564753add3447290c1c04e",
        "IPY_MODEL_fb44f1c5e10a41e8bd43758b74513f68"
       ],
       "layout": "IPY_MODEL_19240615595344bb847f1483da715c0d"
      }
     },
     "2a05088305f1467c9111f757db6ea28c": {
      "model_module": "@jupyter-widgets/base",
      "model_module_version": "1.2.0",
      "model_name": "LayoutModel",
      "state": {
       "_model_module": "@jupyter-widgets/base",
       "_model_module_version": "1.2.0",
       "_model_name": "LayoutModel",
       "_view_count": null,
       "_view_module": "@jupyter-widgets/base",
       "_view_module_version": "1.2.0",
       "_view_name": "LayoutView",
       "align_content": null,
       "align_items": null,
       "align_self": null,
       "border": null,
       "bottom": null,
       "display": null,
       "flex": null,
       "flex_flow": null,
       "grid_area": null,
       "grid_auto_columns": null,
       "grid_auto_flow": null,
       "grid_auto_rows": null,
       "grid_column": null,
       "grid_gap": null,
       "grid_row": null,
       "grid_template_areas": null,
       "grid_template_columns": null,
       "grid_template_rows": null,
       "height": null,
       "justify_content": null,
       "justify_items": null,
       "left": null,
       "margin": null,
       "max_height": null,
       "max_width": null,
       "min_height": null,
       "min_width": null,
       "object_fit": null,
       "object_position": null,
       "order": null,
       "overflow": null,
       "overflow_x": null,
       "overflow_y": null,
       "padding": null,
       "right": null,
       "top": null,
       "visibility": null,
       "width": null
      }
     },
     "2bbe76d8002846ddba31bb18a1b2882c": {
      "model_module": "@jupyter-widgets/controls",
      "model_module_version": "1.5.0",
      "model_name": "HBoxModel",
      "state": {
       "_dom_classes": [],
       "_model_module": "@jupyter-widgets/controls",
       "_model_module_version": "1.5.0",
       "_model_name": "HBoxModel",
       "_view_count": null,
       "_view_module": "@jupyter-widgets/controls",
       "_view_module_version": "1.5.0",
       "_view_name": "HBoxView",
       "box_style": "",
       "children": [
        "IPY_MODEL_31386b97ca7d45e59873a090662e414d",
        "IPY_MODEL_d015b1afd3c4473a9fd4a3c33a914717",
        "IPY_MODEL_ad3bf41768344efda0dcd0b75ec98474"
       ],
       "layout": "IPY_MODEL_7facd49998b547848240b804faf87947"
      }
     },
     "2d8c1d37b296439e889211d795512754": {
      "model_module": "@jupyter-widgets/controls",
      "model_module_version": "1.5.0",
      "model_name": "DescriptionStyleModel",
      "state": {
       "_model_module": "@jupyter-widgets/controls",
       "_model_module_version": "1.5.0",
       "_model_name": "DescriptionStyleModel",
       "_view_count": null,
       "_view_module": "@jupyter-widgets/base",
       "_view_module_version": "1.2.0",
       "_view_name": "StyleView",
       "description_width": ""
      }
     },
     "2f4060a55e8140bca7194a197ccb4217": {
      "model_module": "@jupyter-widgets/controls",
      "model_module_version": "1.5.0",
      "model_name": "ProgressStyleModel",
      "state": {
       "_model_module": "@jupyter-widgets/controls",
       "_model_module_version": "1.5.0",
       "_model_name": "ProgressStyleModel",
       "_view_count": null,
       "_view_module": "@jupyter-widgets/base",
       "_view_module_version": "1.2.0",
       "_view_name": "StyleView",
       "bar_color": null,
       "description_width": ""
      }
     },
     "31386b97ca7d45e59873a090662e414d": {
      "model_module": "@jupyter-widgets/controls",
      "model_module_version": "1.5.0",
      "model_name": "HTMLModel",
      "state": {
       "_dom_classes": [],
       "_model_module": "@jupyter-widgets/controls",
       "_model_module_version": "1.5.0",
       "_model_name": "HTMLModel",
       "_view_count": null,
       "_view_module": "@jupyter-widgets/controls",
       "_view_module_version": "1.5.0",
       "_view_name": "HTMLView",
       "description": "",
       "description_tooltip": null,
       "layout": "IPY_MODEL_229149c785214d9699dbcef64d029b47",
       "placeholder": "​",
       "style": "IPY_MODEL_cc6bc918fdbf4b26aa6d1f0026897830",
       "value": "100%"
      }
     },
     "3235a041883e450496cb081db26603f5": {
      "model_module": "@jupyter-widgets/base",
      "model_module_version": "1.2.0",
      "model_name": "LayoutModel",
      "state": {
       "_model_module": "@jupyter-widgets/base",
       "_model_module_version": "1.2.0",
       "_model_name": "LayoutModel",
       "_view_count": null,
       "_view_module": "@jupyter-widgets/base",
       "_view_module_version": "1.2.0",
       "_view_name": "LayoutView",
       "align_content": null,
       "align_items": null,
       "align_self": null,
       "border": null,
       "bottom": null,
       "display": null,
       "flex": null,
       "flex_flow": null,
       "grid_area": null,
       "grid_auto_columns": null,
       "grid_auto_flow": null,
       "grid_auto_rows": null,
       "grid_column": null,
       "grid_gap": null,
       "grid_row": null,
       "grid_template_areas": null,
       "grid_template_columns": null,
       "grid_template_rows": null,
       "height": null,
       "justify_content": null,
       "justify_items": null,
       "left": null,
       "margin": null,
       "max_height": null,
       "max_width": null,
       "min_height": null,
       "min_width": null,
       "object_fit": null,
       "object_position": null,
       "order": null,
       "overflow": null,
       "overflow_x": null,
       "overflow_y": null,
       "padding": null,
       "right": null,
       "top": null,
       "visibility": null,
       "width": null
      }
     },
     "32e79a03e9e8429ebb84c2e0ebb62620": {
      "model_module": "@jupyter-widgets/base",
      "model_module_version": "1.2.0",
      "model_name": "LayoutModel",
      "state": {
       "_model_module": "@jupyter-widgets/base",
       "_model_module_version": "1.2.0",
       "_model_name": "LayoutModel",
       "_view_count": null,
       "_view_module": "@jupyter-widgets/base",
       "_view_module_version": "1.2.0",
       "_view_name": "LayoutView",
       "align_content": null,
       "align_items": null,
       "align_self": null,
       "border": null,
       "bottom": null,
       "display": null,
       "flex": null,
       "flex_flow": null,
       "grid_area": null,
       "grid_auto_columns": null,
       "grid_auto_flow": null,
       "grid_auto_rows": null,
       "grid_column": null,
       "grid_gap": null,
       "grid_row": null,
       "grid_template_areas": null,
       "grid_template_columns": null,
       "grid_template_rows": null,
       "height": null,
       "justify_content": null,
       "justify_items": null,
       "left": null,
       "margin": null,
       "max_height": null,
       "max_width": null,
       "min_height": null,
       "min_width": null,
       "object_fit": null,
       "object_position": null,
       "order": null,
       "overflow": null,
       "overflow_x": null,
       "overflow_y": null,
       "padding": null,
       "right": null,
       "top": null,
       "visibility": null,
       "width": null
      }
     },
     "36cb7ef2f46f4000b9fb9ea6fa8addde": {
      "model_module": "@jupyter-widgets/controls",
      "model_module_version": "1.5.0",
      "model_name": "HTMLModel",
      "state": {
       "_dom_classes": [],
       "_model_module": "@jupyter-widgets/controls",
       "_model_module_version": "1.5.0",
       "_model_name": "HTMLModel",
       "_view_count": null,
       "_view_module": "@jupyter-widgets/controls",
       "_view_module_version": "1.5.0",
       "_view_name": "HTMLView",
       "description": "",
       "description_tooltip": null,
       "layout": "IPY_MODEL_8039a5fd642f4bdfb79b635b632910ba",
       "placeholder": "​",
       "style": "IPY_MODEL_2d8c1d37b296439e889211d795512754",
       "value": "100%"
      }
     },
     "39adf326b7a1404ebcc8c86152ad7251": {
      "model_module": "@jupyter-widgets/controls",
      "model_module_version": "1.5.0",
      "model_name": "FloatProgressModel",
      "state": {
       "_dom_classes": [],
       "_model_module": "@jupyter-widgets/controls",
       "_model_module_version": "1.5.0",
       "_model_name": "FloatProgressModel",
       "_view_count": null,
       "_view_module": "@jupyter-widgets/controls",
       "_view_module_version": "1.5.0",
       "_view_name": "ProgressView",
       "bar_style": "success",
       "description": "",
       "description_tooltip": null,
       "layout": "IPY_MODEL_acd203bfb4be432596f19f653f2f0a94",
       "max": 5040.0,
       "min": 0.0,
       "orientation": "horizontal",
       "style": "IPY_MODEL_df3a5d9b3b7a49d186128ed78386af27",
       "value": 5040.0
      }
     },
     "39d8684669824b7ba1bab07062fd1abf": {
      "model_module": "@jupyter-widgets/controls",
      "model_module_version": "1.5.0",
      "model_name": "FloatProgressModel",
      "state": {
       "_dom_classes": [],
       "_model_module": "@jupyter-widgets/controls",
       "_model_module_version": "1.5.0",
       "_model_name": "FloatProgressModel",
       "_view_count": null,
       "_view_module": "@jupyter-widgets/controls",
       "_view_module_version": "1.5.0",
       "_view_name": "ProgressView",
       "bar_style": "success",
       "description": "",
       "description_tooltip": null,
       "layout": "IPY_MODEL_ba829aa6c3984e5f93cad8ec6179b1a9",
       "max": 5040.0,
       "min": 0.0,
       "orientation": "horizontal",
       "style": "IPY_MODEL_96ffe2da88e148d2ba921c6f01623007",
       "value": 5040.0
      }
     },
     "3ba5fc508fb141f9bc28a8c84c859c52": {
      "model_module": "@jupyter-widgets/controls",
      "model_module_version": "1.5.0",
      "model_name": "HTMLModel",
      "state": {
       "_dom_classes": [],
       "_model_module": "@jupyter-widgets/controls",
       "_model_module_version": "1.5.0",
       "_model_name": "HTMLModel",
       "_view_count": null,
       "_view_module": "@jupyter-widgets/controls",
       "_view_module_version": "1.5.0",
       "_view_name": "HTMLView",
       "description": "",
       "description_tooltip": null,
       "layout": "IPY_MODEL_1dd03385410d4a70b6a4e16fb86e4ef8",
       "placeholder": "​",
       "style": "IPY_MODEL_575c6d3accf34182b8e466aff121862e",
       "value": "100%"
      }
     },
     "3ebc8f4e83fe49ffacc924c38b897b43": {
      "model_module": "@jupyter-widgets/controls",
      "model_module_version": "1.5.0",
      "model_name": "DescriptionStyleModel",
      "state": {
       "_model_module": "@jupyter-widgets/controls",
       "_model_module_version": "1.5.0",
       "_model_name": "DescriptionStyleModel",
       "_view_count": null,
       "_view_module": "@jupyter-widgets/base",
       "_view_module_version": "1.2.0",
       "_view_name": "StyleView",
       "description_width": ""
      }
     },
     "423f6530ac4a401cbd0b37b92f514f92": {
      "model_module": "@jupyter-widgets/base",
      "model_module_version": "1.2.0",
      "model_name": "LayoutModel",
      "state": {
       "_model_module": "@jupyter-widgets/base",
       "_model_module_version": "1.2.0",
       "_model_name": "LayoutModel",
       "_view_count": null,
       "_view_module": "@jupyter-widgets/base",
       "_view_module_version": "1.2.0",
       "_view_name": "LayoutView",
       "align_content": null,
       "align_items": null,
       "align_self": null,
       "border": null,
       "bottom": null,
       "display": null,
       "flex": null,
       "flex_flow": null,
       "grid_area": null,
       "grid_auto_columns": null,
       "grid_auto_flow": null,
       "grid_auto_rows": null,
       "grid_column": null,
       "grid_gap": null,
       "grid_row": null,
       "grid_template_areas": null,
       "grid_template_columns": null,
       "grid_template_rows": null,
       "height": null,
       "justify_content": null,
       "justify_items": null,
       "left": null,
       "margin": null,
       "max_height": null,
       "max_width": null,
       "min_height": null,
       "min_width": null,
       "object_fit": null,
       "object_position": null,
       "order": null,
       "overflow": null,
       "overflow_x": null,
       "overflow_y": null,
       "padding": null,
       "right": null,
       "top": null,
       "visibility": "hidden",
       "width": null
      }
     },
     "4494b0d0699e4132a3ad8e7512e99372": {
      "model_module": "@jupyter-widgets/base",
      "model_module_version": "1.2.0",
      "model_name": "LayoutModel",
      "state": {
       "_model_module": "@jupyter-widgets/base",
       "_model_module_version": "1.2.0",
       "_model_name": "LayoutModel",
       "_view_count": null,
       "_view_module": "@jupyter-widgets/base",
       "_view_module_version": "1.2.0",
       "_view_name": "LayoutView",
       "align_content": null,
       "align_items": null,
       "align_self": null,
       "border": null,
       "bottom": null,
       "display": null,
       "flex": null,
       "flex_flow": null,
       "grid_area": null,
       "grid_auto_columns": null,
       "grid_auto_flow": null,
       "grid_auto_rows": null,
       "grid_column": null,
       "grid_gap": null,
       "grid_row": null,
       "grid_template_areas": null,
       "grid_template_columns": null,
       "grid_template_rows": null,
       "height": null,
       "justify_content": null,
       "justify_items": null,
       "left": null,
       "margin": null,
       "max_height": null,
       "max_width": null,
       "min_height": null,
       "min_width": null,
       "object_fit": null,
       "object_position": null,
       "order": null,
       "overflow": null,
       "overflow_x": null,
       "overflow_y": null,
       "padding": null,
       "right": null,
       "top": null,
       "visibility": null,
       "width": null
      }
     },
     "4b9e10fa3ea24efe80b605e544c34ab4": {
      "model_module": "@jupyter-widgets/controls",
      "model_module_version": "1.5.0",
      "model_name": "DescriptionStyleModel",
      "state": {
       "_model_module": "@jupyter-widgets/controls",
       "_model_module_version": "1.5.0",
       "_model_name": "DescriptionStyleModel",
       "_view_count": null,
       "_view_module": "@jupyter-widgets/base",
       "_view_module_version": "1.2.0",
       "_view_name": "StyleView",
       "description_width": ""
      }
     },
     "54964c885afd4e6ba55951f047153d70": {
      "model_module": "@jupyter-widgets/controls",
      "model_module_version": "1.5.0",
      "model_name": "HTMLModel",
      "state": {
       "_dom_classes": [],
       "_model_module": "@jupyter-widgets/controls",
       "_model_module_version": "1.5.0",
       "_model_name": "HTMLModel",
       "_view_count": null,
       "_view_module": "@jupyter-widgets/controls",
       "_view_module_version": "1.5.0",
       "_view_name": "HTMLView",
       "description": "",
       "description_tooltip": null,
       "layout": "IPY_MODEL_00f074a088294a24a68a867ee27adcbf",
       "placeholder": "​",
       "style": "IPY_MODEL_cea236d1c34a4fb19996e8f9cd01e60b",
       "value": "100%"
      }
     },
     "54bd31fcaee44338b0ae5d7c9f043b81": {
      "model_module": "@jupyter-widgets/base",
      "model_module_version": "1.2.0",
      "model_name": "LayoutModel",
      "state": {
       "_model_module": "@jupyter-widgets/base",
       "_model_module_version": "1.2.0",
       "_model_name": "LayoutModel",
       "_view_count": null,
       "_view_module": "@jupyter-widgets/base",
       "_view_module_version": "1.2.0",
       "_view_name": "LayoutView",
       "align_content": null,
       "align_items": null,
       "align_self": null,
       "border": null,
       "bottom": null,
       "display": null,
       "flex": null,
       "flex_flow": null,
       "grid_area": null,
       "grid_auto_columns": null,
       "grid_auto_flow": null,
       "grid_auto_rows": null,
       "grid_column": null,
       "grid_gap": null,
       "grid_row": null,
       "grid_template_areas": null,
       "grid_template_columns": null,
       "grid_template_rows": null,
       "height": null,
       "justify_content": null,
       "justify_items": null,
       "left": null,
       "margin": null,
       "max_height": null,
       "max_width": null,
       "min_height": null,
       "min_width": null,
       "object_fit": null,
       "object_position": null,
       "order": null,
       "overflow": null,
       "overflow_x": null,
       "overflow_y": null,
       "padding": null,
       "right": null,
       "top": null,
       "visibility": "hidden",
       "width": null
      }
     },
     "575c6d3accf34182b8e466aff121862e": {
      "model_module": "@jupyter-widgets/controls",
      "model_module_version": "1.5.0",
      "model_name": "DescriptionStyleModel",
      "state": {
       "_model_module": "@jupyter-widgets/controls",
       "_model_module_version": "1.5.0",
       "_model_name": "DescriptionStyleModel",
       "_view_count": null,
       "_view_module": "@jupyter-widgets/base",
       "_view_module_version": "1.2.0",
       "_view_name": "StyleView",
       "description_width": ""
      }
     },
     "5a3db69d9e324c4f8f3bf0e312006363": {
      "model_module": "@jupyter-widgets/controls",
      "model_module_version": "1.5.0",
      "model_name": "FloatProgressModel",
      "state": {
       "_dom_classes": [],
       "_model_module": "@jupyter-widgets/controls",
       "_model_module_version": "1.5.0",
       "_model_name": "FloatProgressModel",
       "_view_count": null,
       "_view_module": "@jupyter-widgets/controls",
       "_view_module_version": "1.5.0",
       "_view_name": "ProgressView",
       "bar_style": "",
       "description": "",
       "description_tooltip": null,
       "layout": "IPY_MODEL_9da120e7f315438c80a07c7e922c17ca",
       "max": 113.0,
       "min": 0.0,
       "orientation": "horizontal",
       "style": "IPY_MODEL_fabcee6168cb481f806ce088805db46c",
       "value": 113.0
      }
     },
     "5ed0a17ea36a4aab9059627402cf9eb7": {
      "model_module": "@jupyter-widgets/controls",
      "model_module_version": "1.5.0",
      "model_name": "DescriptionStyleModel",
      "state": {
       "_model_module": "@jupyter-widgets/controls",
       "_model_module_version": "1.5.0",
       "_model_name": "DescriptionStyleModel",
       "_view_count": null,
       "_view_module": "@jupyter-widgets/base",
       "_view_module_version": "1.2.0",
       "_view_name": "StyleView",
       "description_width": ""
      }
     },
     "5f454546c60542098a93c31df6bd1244": {
      "model_module": "@jupyter-widgets/base",
      "model_module_version": "1.2.0",
      "model_name": "LayoutModel",
      "state": {
       "_model_module": "@jupyter-widgets/base",
       "_model_module_version": "1.2.0",
       "_model_name": "LayoutModel",
       "_view_count": null,
       "_view_module": "@jupyter-widgets/base",
       "_view_module_version": "1.2.0",
       "_view_name": "LayoutView",
       "align_content": null,
       "align_items": null,
       "align_self": null,
       "border": null,
       "bottom": null,
       "display": null,
       "flex": null,
       "flex_flow": null,
       "grid_area": null,
       "grid_auto_columns": null,
       "grid_auto_flow": null,
       "grid_auto_rows": null,
       "grid_column": null,
       "grid_gap": null,
       "grid_row": null,
       "grid_template_areas": null,
       "grid_template_columns": null,
       "grid_template_rows": null,
       "height": null,
       "justify_content": null,
       "justify_items": null,
       "left": null,
       "margin": null,
       "max_height": null,
       "max_width": null,
       "min_height": null,
       "min_width": null,
       "object_fit": null,
       "object_position": null,
       "order": null,
       "overflow": null,
       "overflow_x": null,
       "overflow_y": null,
       "padding": null,
       "right": null,
       "top": null,
       "visibility": null,
       "width": null
      }
     },
     "5f84590d3ce947158cfa053823c6344d": {
      "model_module": "@jupyter-widgets/controls",
      "model_module_version": "1.5.0",
      "model_name": "DescriptionStyleModel",
      "state": {
       "_model_module": "@jupyter-widgets/controls",
       "_model_module_version": "1.5.0",
       "_model_name": "DescriptionStyleModel",
       "_view_count": null,
       "_view_module": "@jupyter-widgets/base",
       "_view_module_version": "1.2.0",
       "_view_name": "StyleView",
       "description_width": ""
      }
     },
     "639369745ac74ce18a1e64187540c091": {
      "model_module": "@jupyter-widgets/controls",
      "model_module_version": "1.5.0",
      "model_name": "ProgressStyleModel",
      "state": {
       "_model_module": "@jupyter-widgets/controls",
       "_model_module_version": "1.5.0",
       "_model_name": "ProgressStyleModel",
       "_view_count": null,
       "_view_module": "@jupyter-widgets/base",
       "_view_module_version": "1.2.0",
       "_view_name": "StyleView",
       "bar_color": null,
       "description_width": ""
      }
     },
     "6a22c58b3f2845019fd5632c91a42a2e": {
      "model_module": "@jupyter-widgets/controls",
      "model_module_version": "1.5.0",
      "model_name": "ProgressStyleModel",
      "state": {
       "_model_module": "@jupyter-widgets/controls",
       "_model_module_version": "1.5.0",
       "_model_name": "ProgressStyleModel",
       "_view_count": null,
       "_view_module": "@jupyter-widgets/base",
       "_view_module_version": "1.2.0",
       "_view_name": "StyleView",
       "bar_color": null,
       "description_width": ""
      }
     },
     "724a435c803b447cacf04f8581fb1d83": {
      "model_module": "@jupyter-widgets/controls",
      "model_module_version": "1.5.0",
      "model_name": "HBoxModel",
      "state": {
       "_dom_classes": [],
       "_model_module": "@jupyter-widgets/controls",
       "_model_module_version": "1.5.0",
       "_model_name": "HBoxModel",
       "_view_count": null,
       "_view_module": "@jupyter-widgets/controls",
       "_view_module_version": "1.5.0",
       "_view_name": "HBoxView",
       "box_style": "",
       "children": [
        "IPY_MODEL_1a070b6e784e49bd84e6d5b2d3230bc8",
        "IPY_MODEL_fb801b64db1a47adb7bb6796b9664b86",
        "IPY_MODEL_27ec58bd18f246b4b5cfaf3340eb9419"
       ],
       "layout": "IPY_MODEL_e1391f86ecf345b5ba21ffd8ce317c7e"
      }
     },
     "754920feec244727bf20c8c686fb8769": {
      "model_module": "@jupyter-widgets/controls",
      "model_module_version": "1.5.0",
      "model_name": "HBoxModel",
      "state": {
       "_dom_classes": [],
       "_model_module": "@jupyter-widgets/controls",
       "_model_module_version": "1.5.0",
       "_model_name": "HBoxModel",
       "_view_count": null,
       "_view_module": "@jupyter-widgets/controls",
       "_view_module_version": "1.5.0",
       "_view_name": "HBoxView",
       "box_style": "",
       "children": [
        "IPY_MODEL_c333f7e79b2a4095befab265b98038e5",
        "IPY_MODEL_a781df3554514b3d88fd036b7e8c37de",
        "IPY_MODEL_daa184ac30bf4d5f92b53e9faf7da1d1"
       ],
       "layout": "IPY_MODEL_1e5071b62ee247489813d126359daad4"
      }
     },
     "7b80db957d94453da0384376cb91603a": {
      "model_module": "@jupyter-widgets/controls",
      "model_module_version": "1.5.0",
      "model_name": "DescriptionStyleModel",
      "state": {
       "_model_module": "@jupyter-widgets/controls",
       "_model_module_version": "1.5.0",
       "_model_name": "DescriptionStyleModel",
       "_view_count": null,
       "_view_module": "@jupyter-widgets/base",
       "_view_module_version": "1.2.0",
       "_view_name": "StyleView",
       "description_width": ""
      }
     },
     "7facd49998b547848240b804faf87947": {
      "model_module": "@jupyter-widgets/base",
      "model_module_version": "1.2.0",
      "model_name": "LayoutModel",
      "state": {
       "_model_module": "@jupyter-widgets/base",
       "_model_module_version": "1.2.0",
       "_model_name": "LayoutModel",
       "_view_count": null,
       "_view_module": "@jupyter-widgets/base",
       "_view_module_version": "1.2.0",
       "_view_name": "LayoutView",
       "align_content": null,
       "align_items": null,
       "align_self": null,
       "border": null,
       "bottom": null,
       "display": null,
       "flex": null,
       "flex_flow": null,
       "grid_area": null,
       "grid_auto_columns": null,
       "grid_auto_flow": null,
       "grid_auto_rows": null,
       "grid_column": null,
       "grid_gap": null,
       "grid_row": null,
       "grid_template_areas": null,
       "grid_template_columns": null,
       "grid_template_rows": null,
       "height": null,
       "justify_content": null,
       "justify_items": null,
       "left": null,
       "margin": null,
       "max_height": null,
       "max_width": null,
       "min_height": null,
       "min_width": null,
       "object_fit": null,
       "object_position": null,
       "order": null,
       "overflow": null,
       "overflow_x": null,
       "overflow_y": null,
       "padding": null,
       "right": null,
       "top": null,
       "visibility": null,
       "width": null
      }
     },
     "8039a5fd642f4bdfb79b635b632910ba": {
      "model_module": "@jupyter-widgets/base",
      "model_module_version": "1.2.0",
      "model_name": "LayoutModel",
      "state": {
       "_model_module": "@jupyter-widgets/base",
       "_model_module_version": "1.2.0",
       "_model_name": "LayoutModel",
       "_view_count": null,
       "_view_module": "@jupyter-widgets/base",
       "_view_module_version": "1.2.0",
       "_view_name": "LayoutView",
       "align_content": null,
       "align_items": null,
       "align_self": null,
       "border": null,
       "bottom": null,
       "display": null,
       "flex": null,
       "flex_flow": null,
       "grid_area": null,
       "grid_auto_columns": null,
       "grid_auto_flow": null,
       "grid_auto_rows": null,
       "grid_column": null,
       "grid_gap": null,
       "grid_row": null,
       "grid_template_areas": null,
       "grid_template_columns": null,
       "grid_template_rows": null,
       "height": null,
       "justify_content": null,
       "justify_items": null,
       "left": null,
       "margin": null,
       "max_height": null,
       "max_width": null,
       "min_height": null,
       "min_width": null,
       "object_fit": null,
       "object_position": null,
       "order": null,
       "overflow": null,
       "overflow_x": null,
       "overflow_y": null,
       "padding": null,
       "right": null,
       "top": null,
       "visibility": null,
       "width": null
      }
     },
     "81fc641939ea4c6786210f071ea9ed2c": {
      "model_module": "@jupyter-widgets/controls",
      "model_module_version": "1.5.0",
      "model_name": "ProgressStyleModel",
      "state": {
       "_model_module": "@jupyter-widgets/controls",
       "_model_module_version": "1.5.0",
       "_model_name": "ProgressStyleModel",
       "_view_count": null,
       "_view_module": "@jupyter-widgets/base",
       "_view_module_version": "1.2.0",
       "_view_name": "StyleView",
       "bar_color": null,
       "description_width": ""
      }
     },
     "87f94718c7cb43adadad006d8b630ad1": {
      "model_module": "@jupyter-widgets/base",
      "model_module_version": "1.2.0",
      "model_name": "LayoutModel",
      "state": {
       "_model_module": "@jupyter-widgets/base",
       "_model_module_version": "1.2.0",
       "_model_name": "LayoutModel",
       "_view_count": null,
       "_view_module": "@jupyter-widgets/base",
       "_view_module_version": "1.2.0",
       "_view_name": "LayoutView",
       "align_content": null,
       "align_items": null,
       "align_self": null,
       "border": null,
       "bottom": null,
       "display": null,
       "flex": null,
       "flex_flow": null,
       "grid_area": null,
       "grid_auto_columns": null,
       "grid_auto_flow": null,
       "grid_auto_rows": null,
       "grid_column": null,
       "grid_gap": null,
       "grid_row": null,
       "grid_template_areas": null,
       "grid_template_columns": null,
       "grid_template_rows": null,
       "height": null,
       "justify_content": null,
       "justify_items": null,
       "left": null,
       "margin": null,
       "max_height": null,
       "max_width": null,
       "min_height": null,
       "min_width": null,
       "object_fit": null,
       "object_position": null,
       "order": null,
       "overflow": null,
       "overflow_x": null,
       "overflow_y": null,
       "padding": null,
       "right": null,
       "top": null,
       "visibility": null,
       "width": null
      }
     },
     "896e7bf23dc8476f85565dfcb904d452": {
      "model_module": "@jupyter-widgets/controls",
      "model_module_version": "1.5.0",
      "model_name": "DescriptionStyleModel",
      "state": {
       "_model_module": "@jupyter-widgets/controls",
       "_model_module_version": "1.5.0",
       "_model_name": "DescriptionStyleModel",
       "_view_count": null,
       "_view_module": "@jupyter-widgets/base",
       "_view_module_version": "1.2.0",
       "_view_name": "StyleView",
       "description_width": ""
      }
     },
     "8b9f87aaa172402396d1abd063ad49f1": {
      "model_module": "@jupyter-widgets/base",
      "model_module_version": "1.2.0",
      "model_name": "LayoutModel",
      "state": {
       "_model_module": "@jupyter-widgets/base",
       "_model_module_version": "1.2.0",
       "_model_name": "LayoutModel",
       "_view_count": null,
       "_view_module": "@jupyter-widgets/base",
       "_view_module_version": "1.2.0",
       "_view_name": "LayoutView",
       "align_content": null,
       "align_items": null,
       "align_self": null,
       "border": null,
       "bottom": null,
       "display": null,
       "flex": null,
       "flex_flow": null,
       "grid_area": null,
       "grid_auto_columns": null,
       "grid_auto_flow": null,
       "grid_auto_rows": null,
       "grid_column": null,
       "grid_gap": null,
       "grid_row": null,
       "grid_template_areas": null,
       "grid_template_columns": null,
       "grid_template_rows": null,
       "height": null,
       "justify_content": null,
       "justify_items": null,
       "left": null,
       "margin": null,
       "max_height": null,
       "max_width": null,
       "min_height": null,
       "min_width": null,
       "object_fit": null,
       "object_position": null,
       "order": null,
       "overflow": null,
       "overflow_x": null,
       "overflow_y": null,
       "padding": null,
       "right": null,
       "top": null,
       "visibility": null,
       "width": null
      }
     },
     "96ffe2da88e148d2ba921c6f01623007": {
      "model_module": "@jupyter-widgets/controls",
      "model_module_version": "1.5.0",
      "model_name": "ProgressStyleModel",
      "state": {
       "_model_module": "@jupyter-widgets/controls",
       "_model_module_version": "1.5.0",
       "_model_name": "ProgressStyleModel",
       "_view_count": null,
       "_view_module": "@jupyter-widgets/base",
       "_view_module_version": "1.2.0",
       "_view_name": "StyleView",
       "bar_color": null,
       "description_width": ""
      }
     },
     "9da120e7f315438c80a07c7e922c17ca": {
      "model_module": "@jupyter-widgets/base",
      "model_module_version": "1.2.0",
      "model_name": "LayoutModel",
      "state": {
       "_model_module": "@jupyter-widgets/base",
       "_model_module_version": "1.2.0",
       "_model_name": "LayoutModel",
       "_view_count": null,
       "_view_module": "@jupyter-widgets/base",
       "_view_module_version": "1.2.0",
       "_view_name": "LayoutView",
       "align_content": null,
       "align_items": null,
       "align_self": null,
       "border": null,
       "bottom": null,
       "display": null,
       "flex": null,
       "flex_flow": null,
       "grid_area": null,
       "grid_auto_columns": null,
       "grid_auto_flow": null,
       "grid_auto_rows": null,
       "grid_column": null,
       "grid_gap": null,
       "grid_row": null,
       "grid_template_areas": null,
       "grid_template_columns": null,
       "grid_template_rows": null,
       "height": null,
       "justify_content": null,
       "justify_items": null,
       "left": null,
       "margin": null,
       "max_height": null,
       "max_width": null,
       "min_height": null,
       "min_width": null,
       "object_fit": null,
       "object_position": null,
       "order": null,
       "overflow": null,
       "overflow_x": null,
       "overflow_y": null,
       "padding": null,
       "right": null,
       "top": null,
       "visibility": null,
       "width": null
      }
     },
     "9e02662f09204ba980bc8306dff49789": {
      "model_module": "@jupyter-widgets/base",
      "model_module_version": "1.2.0",
      "model_name": "LayoutModel",
      "state": {
       "_model_module": "@jupyter-widgets/base",
       "_model_module_version": "1.2.0",
       "_model_name": "LayoutModel",
       "_view_count": null,
       "_view_module": "@jupyter-widgets/base",
       "_view_module_version": "1.2.0",
       "_view_name": "LayoutView",
       "align_content": null,
       "align_items": null,
       "align_self": null,
       "border": null,
       "bottom": null,
       "display": null,
       "flex": null,
       "flex_flow": null,
       "grid_area": null,
       "grid_auto_columns": null,
       "grid_auto_flow": null,
       "grid_auto_rows": null,
       "grid_column": null,
       "grid_gap": null,
       "grid_row": null,
       "grid_template_areas": null,
       "grid_template_columns": null,
       "grid_template_rows": null,
       "height": null,
       "justify_content": null,
       "justify_items": null,
       "left": null,
       "margin": null,
       "max_height": null,
       "max_width": null,
       "min_height": null,
       "min_width": null,
       "object_fit": null,
       "object_position": null,
       "order": null,
       "overflow": null,
       "overflow_x": null,
       "overflow_y": null,
       "padding": null,
       "right": null,
       "top": null,
       "visibility": null,
       "width": null
      }
     },
     "a05ab62fb07c499580bd35c9c124a675": {
      "model_module": "@jupyter-widgets/base",
      "model_module_version": "1.2.0",
      "model_name": "LayoutModel",
      "state": {
       "_model_module": "@jupyter-widgets/base",
       "_model_module_version": "1.2.0",
       "_model_name": "LayoutModel",
       "_view_count": null,
       "_view_module": "@jupyter-widgets/base",
       "_view_module_version": "1.2.0",
       "_view_name": "LayoutView",
       "align_content": null,
       "align_items": null,
       "align_self": null,
       "border": null,
       "bottom": null,
       "display": null,
       "flex": null,
       "flex_flow": null,
       "grid_area": null,
       "grid_auto_columns": null,
       "grid_auto_flow": null,
       "grid_auto_rows": null,
       "grid_column": null,
       "grid_gap": null,
       "grid_row": null,
       "grid_template_areas": null,
       "grid_template_columns": null,
       "grid_template_rows": null,
       "height": null,
       "justify_content": null,
       "justify_items": null,
       "left": null,
       "margin": null,
       "max_height": null,
       "max_width": null,
       "min_height": null,
       "min_width": null,
       "object_fit": null,
       "object_position": null,
       "order": null,
       "overflow": null,
       "overflow_x": null,
       "overflow_y": null,
       "padding": null,
       "right": null,
       "top": null,
       "visibility": null,
       "width": null
      }
     },
     "a781df3554514b3d88fd036b7e8c37de": {
      "model_module": "@jupyter-widgets/controls",
      "model_module_version": "1.5.0",
      "model_name": "FloatProgressModel",
      "state": {
       "_dom_classes": [],
       "_model_module": "@jupyter-widgets/controls",
       "_model_module_version": "1.5.0",
       "_model_name": "FloatProgressModel",
       "_view_count": null,
       "_view_module": "@jupyter-widgets/controls",
       "_view_module_version": "1.5.0",
       "_view_name": "ProgressView",
       "bar_style": "success",
       "description": "",
       "description_tooltip": null,
       "layout": "IPY_MODEL_d07b7895eca842b48aedc5d5aceb06e9",
       "max": 5040.0,
       "min": 0.0,
       "orientation": "horizontal",
       "style": "IPY_MODEL_0902fd22400c4e9291ee8d4ee7acead1",
       "value": 5040.0
      }
     },
     "a7c1d9f034dd4c35a4a3df4204068e87": {
      "model_module": "@jupyter-widgets/controls",
      "model_module_version": "1.5.0",
      "model_name": "HTMLModel",
      "state": {
       "_dom_classes": [],
       "_model_module": "@jupyter-widgets/controls",
       "_model_module_version": "1.5.0",
       "_model_name": "HTMLModel",
       "_view_count": null,
       "_view_module": "@jupyter-widgets/controls",
       "_view_module_version": "1.5.0",
       "_view_name": "HTMLView",
       "description": "",
       "description_tooltip": null,
       "layout": "IPY_MODEL_bef896eb4df64146bdb79cb7004c1d39",
       "placeholder": "​",
       "style": "IPY_MODEL_c438e72ebb4b48abb09b5f757d6c6452",
       "value": " 113/113 [00:09&lt;00:00, 12.83it/s]"
      }
     },
     "ab511bae4ee74a18a6e5ef40caaaea07": {
      "model_module": "@jupyter-widgets/base",
      "model_module_version": "1.2.0",
      "model_name": "LayoutModel",
      "state": {
       "_model_module": "@jupyter-widgets/base",
       "_model_module_version": "1.2.0",
       "_model_name": "LayoutModel",
       "_view_count": null,
       "_view_module": "@jupyter-widgets/base",
       "_view_module_version": "1.2.0",
       "_view_name": "LayoutView",
       "align_content": null,
       "align_items": null,
       "align_self": null,
       "border": null,
       "bottom": null,
       "display": null,
       "flex": null,
       "flex_flow": null,
       "grid_area": null,
       "grid_auto_columns": null,
       "grid_auto_flow": null,
       "grid_auto_rows": null,
       "grid_column": null,
       "grid_gap": null,
       "grid_row": null,
       "grid_template_areas": null,
       "grid_template_columns": null,
       "grid_template_rows": null,
       "height": null,
       "justify_content": null,
       "justify_items": null,
       "left": null,
       "margin": null,
       "max_height": null,
       "max_width": null,
       "min_height": null,
       "min_width": null,
       "object_fit": null,
       "object_position": null,
       "order": null,
       "overflow": null,
       "overflow_x": null,
       "overflow_y": null,
       "padding": null,
       "right": null,
       "top": null,
       "visibility": null,
       "width": null
      }
     },
     "acd203bfb4be432596f19f653f2f0a94": {
      "model_module": "@jupyter-widgets/base",
      "model_module_version": "1.2.0",
      "model_name": "LayoutModel",
      "state": {
       "_model_module": "@jupyter-widgets/base",
       "_model_module_version": "1.2.0",
       "_model_name": "LayoutModel",
       "_view_count": null,
       "_view_module": "@jupyter-widgets/base",
       "_view_module_version": "1.2.0",
       "_view_name": "LayoutView",
       "align_content": null,
       "align_items": null,
       "align_self": null,
       "border": null,
       "bottom": null,
       "display": null,
       "flex": null,
       "flex_flow": null,
       "grid_area": null,
       "grid_auto_columns": null,
       "grid_auto_flow": null,
       "grid_auto_rows": null,
       "grid_column": null,
       "grid_gap": null,
       "grid_row": null,
       "grid_template_areas": null,
       "grid_template_columns": null,
       "grid_template_rows": null,
       "height": null,
       "justify_content": null,
       "justify_items": null,
       "left": null,
       "margin": null,
       "max_height": null,
       "max_width": null,
       "min_height": null,
       "min_width": null,
       "object_fit": null,
       "object_position": null,
       "order": null,
       "overflow": null,
       "overflow_x": null,
       "overflow_y": null,
       "padding": null,
       "right": null,
       "top": null,
       "visibility": null,
       "width": null
      }
     },
     "ad3bf41768344efda0dcd0b75ec98474": {
      "model_module": "@jupyter-widgets/controls",
      "model_module_version": "1.5.0",
      "model_name": "HTMLModel",
      "state": {
       "_dom_classes": [],
       "_model_module": "@jupyter-widgets/controls",
       "_model_module_version": "1.5.0",
       "_model_name": "HTMLModel",
       "_view_count": null,
       "_view_module": "@jupyter-widgets/controls",
       "_view_module_version": "1.5.0",
       "_view_name": "HTMLView",
       "description": "",
       "description_tooltip": null,
       "layout": "IPY_MODEL_ab511bae4ee74a18a6e5ef40caaaea07",
       "placeholder": "​",
       "style": "IPY_MODEL_ed1fd038f9094266bc6d19b961f58e12",
       "value": " 5040/5040 [04:27&lt;00:00, 18.97it/s]"
      }
     },
     "ad7e77076f484821965f93f40009f06f": {
      "model_module": "@jupyter-widgets/base",
      "model_module_version": "1.2.0",
      "model_name": "LayoutModel",
      "state": {
       "_model_module": "@jupyter-widgets/base",
       "_model_module_version": "1.2.0",
       "_model_name": "LayoutModel",
       "_view_count": null,
       "_view_module": "@jupyter-widgets/base",
       "_view_module_version": "1.2.0",
       "_view_name": "LayoutView",
       "align_content": null,
       "align_items": null,
       "align_self": null,
       "border": null,
       "bottom": null,
       "display": null,
       "flex": null,
       "flex_flow": null,
       "grid_area": null,
       "grid_auto_columns": null,
       "grid_auto_flow": null,
       "grid_auto_rows": null,
       "grid_column": null,
       "grid_gap": null,
       "grid_row": null,
       "grid_template_areas": null,
       "grid_template_columns": null,
       "grid_template_rows": null,
       "height": null,
       "justify_content": null,
       "justify_items": null,
       "left": null,
       "margin": null,
       "max_height": null,
       "max_width": null,
       "min_height": null,
       "min_width": null,
       "object_fit": null,
       "object_position": null,
       "order": null,
       "overflow": null,
       "overflow_x": null,
       "overflow_y": null,
       "padding": null,
       "right": null,
       "top": null,
       "visibility": null,
       "width": null
      }
     },
     "b7d89ad08a4640ae8cf1200d917668d1": {
      "model_module": "@jupyter-widgets/controls",
      "model_module_version": "1.5.0",
      "model_name": "DescriptionStyleModel",
      "state": {
       "_model_module": "@jupyter-widgets/controls",
       "_model_module_version": "1.5.0",
       "_model_name": "DescriptionStyleModel",
       "_view_count": null,
       "_view_module": "@jupyter-widgets/base",
       "_view_module_version": "1.2.0",
       "_view_name": "StyleView",
       "description_width": ""
      }
     },
     "b93e6b1b58d740b19f8b415262ab9c50": {
      "model_module": "@jupyter-widgets/base",
      "model_module_version": "1.2.0",
      "model_name": "LayoutModel",
      "state": {
       "_model_module": "@jupyter-widgets/base",
       "_model_module_version": "1.2.0",
       "_model_name": "LayoutModel",
       "_view_count": null,
       "_view_module": "@jupyter-widgets/base",
       "_view_module_version": "1.2.0",
       "_view_name": "LayoutView",
       "align_content": null,
       "align_items": null,
       "align_self": null,
       "border": null,
       "bottom": null,
       "display": null,
       "flex": null,
       "flex_flow": null,
       "grid_area": null,
       "grid_auto_columns": null,
       "grid_auto_flow": null,
       "grid_auto_rows": null,
       "grid_column": null,
       "grid_gap": null,
       "grid_row": null,
       "grid_template_areas": null,
       "grid_template_columns": null,
       "grid_template_rows": null,
       "height": null,
       "justify_content": null,
       "justify_items": null,
       "left": null,
       "margin": null,
       "max_height": null,
       "max_width": null,
       "min_height": null,
       "min_width": null,
       "object_fit": null,
       "object_position": null,
       "order": null,
       "overflow": null,
       "overflow_x": null,
       "overflow_y": null,
       "padding": null,
       "right": null,
       "top": null,
       "visibility": null,
       "width": null
      }
     },
     "ba829aa6c3984e5f93cad8ec6179b1a9": {
      "model_module": "@jupyter-widgets/base",
      "model_module_version": "1.2.0",
      "model_name": "LayoutModel",
      "state": {
       "_model_module": "@jupyter-widgets/base",
       "_model_module_version": "1.2.0",
       "_model_name": "LayoutModel",
       "_view_count": null,
       "_view_module": "@jupyter-widgets/base",
       "_view_module_version": "1.2.0",
       "_view_name": "LayoutView",
       "align_content": null,
       "align_items": null,
       "align_self": null,
       "border": null,
       "bottom": null,
       "display": null,
       "flex": null,
       "flex_flow": null,
       "grid_area": null,
       "grid_auto_columns": null,
       "grid_auto_flow": null,
       "grid_auto_rows": null,
       "grid_column": null,
       "grid_gap": null,
       "grid_row": null,
       "grid_template_areas": null,
       "grid_template_columns": null,
       "grid_template_rows": null,
       "height": null,
       "justify_content": null,
       "justify_items": null,
       "left": null,
       "margin": null,
       "max_height": null,
       "max_width": null,
       "min_height": null,
       "min_width": null,
       "object_fit": null,
       "object_position": null,
       "order": null,
       "overflow": null,
       "overflow_x": null,
       "overflow_y": null,
       "padding": null,
       "right": null,
       "top": null,
       "visibility": null,
       "width": null
      }
     },
     "bda4f7e4fcd24d798aa9295ea544a2fd": {
      "model_module": "@jupyter-widgets/controls",
      "model_module_version": "1.5.0",
      "model_name": "DescriptionStyleModel",
      "state": {
       "_model_module": "@jupyter-widgets/controls",
       "_model_module_version": "1.5.0",
       "_model_name": "DescriptionStyleModel",
       "_view_count": null,
       "_view_module": "@jupyter-widgets/base",
       "_view_module_version": "1.2.0",
       "_view_name": "StyleView",
       "description_width": ""
      }
     },
     "bef896eb4df64146bdb79cb7004c1d39": {
      "model_module": "@jupyter-widgets/base",
      "model_module_version": "1.2.0",
      "model_name": "LayoutModel",
      "state": {
       "_model_module": "@jupyter-widgets/base",
       "_model_module_version": "1.2.0",
       "_model_name": "LayoutModel",
       "_view_count": null,
       "_view_module": "@jupyter-widgets/base",
       "_view_module_version": "1.2.0",
       "_view_name": "LayoutView",
       "align_content": null,
       "align_items": null,
       "align_self": null,
       "border": null,
       "bottom": null,
       "display": null,
       "flex": null,
       "flex_flow": null,
       "grid_area": null,
       "grid_auto_columns": null,
       "grid_auto_flow": null,
       "grid_auto_rows": null,
       "grid_column": null,
       "grid_gap": null,
       "grid_row": null,
       "grid_template_areas": null,
       "grid_template_columns": null,
       "grid_template_rows": null,
       "height": null,
       "justify_content": null,
       "justify_items": null,
       "left": null,
       "margin": null,
       "max_height": null,
       "max_width": null,
       "min_height": null,
       "min_width": null,
       "object_fit": null,
       "object_position": null,
       "order": null,
       "overflow": null,
       "overflow_x": null,
       "overflow_y": null,
       "padding": null,
       "right": null,
       "top": null,
       "visibility": null,
       "width": null
      }
     },
     "c333f7e79b2a4095befab265b98038e5": {
      "model_module": "@jupyter-widgets/controls",
      "model_module_version": "1.5.0",
      "model_name": "HTMLModel",
      "state": {
       "_dom_classes": [],
       "_model_module": "@jupyter-widgets/controls",
       "_model_module_version": "1.5.0",
       "_model_name": "HTMLModel",
       "_view_count": null,
       "_view_module": "@jupyter-widgets/controls",
       "_view_module_version": "1.5.0",
       "_view_name": "HTMLView",
       "description": "",
       "description_tooltip": null,
       "layout": "IPY_MODEL_9e02662f09204ba980bc8306dff49789",
       "placeholder": "​",
       "style": "IPY_MODEL_b7d89ad08a4640ae8cf1200d917668d1",
       "value": "100%"
      }
     },
     "c438e72ebb4b48abb09b5f757d6c6452": {
      "model_module": "@jupyter-widgets/controls",
      "model_module_version": "1.5.0",
      "model_name": "DescriptionStyleModel",
      "state": {
       "_model_module": "@jupyter-widgets/controls",
       "_model_module_version": "1.5.0",
       "_model_name": "DescriptionStyleModel",
       "_view_count": null,
       "_view_module": "@jupyter-widgets/base",
       "_view_module_version": "1.2.0",
       "_view_name": "StyleView",
       "description_width": ""
      }
     },
     "c7d9c68fb58846a599f80cc4752632d7": {
      "model_module": "@jupyter-widgets/controls",
      "model_module_version": "1.5.0",
      "model_name": "HBoxModel",
      "state": {
       "_dom_classes": [],
       "_model_module": "@jupyter-widgets/controls",
       "_model_module_version": "1.5.0",
       "_model_name": "HBoxModel",
       "_view_count": null,
       "_view_module": "@jupyter-widgets/controls",
       "_view_module_version": "1.5.0",
       "_view_name": "HBoxView",
       "box_style": "",
       "children": [
        "IPY_MODEL_0a91f24453494c778af63a16469ca005",
        "IPY_MODEL_239a22a4581247ef95f309c2966ce042",
        "IPY_MODEL_ce3ee3061ba242ae8bb108dfca75b3ce"
       ],
       "layout": "IPY_MODEL_54bd31fcaee44338b0ae5d7c9f043b81"
      }
     },
     "cc6bc918fdbf4b26aa6d1f0026897830": {
      "model_module": "@jupyter-widgets/controls",
      "model_module_version": "1.5.0",
      "model_name": "DescriptionStyleModel",
      "state": {
       "_model_module": "@jupyter-widgets/controls",
       "_model_module_version": "1.5.0",
       "_model_name": "DescriptionStyleModel",
       "_view_count": null,
       "_view_module": "@jupyter-widgets/base",
       "_view_module_version": "1.2.0",
       "_view_name": "StyleView",
       "description_width": ""
      }
     },
     "ce3ee3061ba242ae8bb108dfca75b3ce": {
      "model_module": "@jupyter-widgets/controls",
      "model_module_version": "1.5.0",
      "model_name": "HTMLModel",
      "state": {
       "_dom_classes": [],
       "_model_module": "@jupyter-widgets/controls",
       "_model_module_version": "1.5.0",
       "_model_name": "HTMLModel",
       "_view_count": null,
       "_view_module": "@jupyter-widgets/controls",
       "_view_module_version": "1.5.0",
       "_view_name": "HTMLView",
       "description": "",
       "description_tooltip": null,
       "layout": "IPY_MODEL_105d2041cce143a8b4590948c39b82fd",
       "placeholder": "​",
       "style": "IPY_MODEL_3ebc8f4e83fe49ffacc924c38b897b43",
       "value": " 113/113 [00:30&lt;00:00,  3.07it/s]"
      }
     },
     "cea236d1c34a4fb19996e8f9cd01e60b": {
      "model_module": "@jupyter-widgets/controls",
      "model_module_version": "1.5.0",
      "model_name": "DescriptionStyleModel",
      "state": {
       "_model_module": "@jupyter-widgets/controls",
       "_model_module_version": "1.5.0",
       "_model_name": "DescriptionStyleModel",
       "_view_count": null,
       "_view_module": "@jupyter-widgets/base",
       "_view_module_version": "1.2.0",
       "_view_name": "StyleView",
       "description_width": ""
      }
     },
     "cfb72cd5ad564753add3447290c1c04e": {
      "model_module": "@jupyter-widgets/controls",
      "model_module_version": "1.5.0",
      "model_name": "FloatProgressModel",
      "state": {
       "_dom_classes": [],
       "_model_module": "@jupyter-widgets/controls",
       "_model_module_version": "1.5.0",
       "_model_name": "FloatProgressModel",
       "_view_count": null,
       "_view_module": "@jupyter-widgets/controls",
       "_view_module_version": "1.5.0",
       "_view_name": "ProgressView",
       "bar_style": "",
       "description": "",
       "description_tooltip": null,
       "layout": "IPY_MODEL_e81ba31cbf16451e8272e1d2ac469b69",
       "max": 113.0,
       "min": 0.0,
       "orientation": "horizontal",
       "style": "IPY_MODEL_81fc641939ea4c6786210f071ea9ed2c",
       "value": 113.0
      }
     },
     "d015b1afd3c4473a9fd4a3c33a914717": {
      "model_module": "@jupyter-widgets/controls",
      "model_module_version": "1.5.0",
      "model_name": "FloatProgressModel",
      "state": {
       "_dom_classes": [],
       "_model_module": "@jupyter-widgets/controls",
       "_model_module_version": "1.5.0",
       "_model_name": "FloatProgressModel",
       "_view_count": null,
       "_view_module": "@jupyter-widgets/controls",
       "_view_module_version": "1.5.0",
       "_view_name": "ProgressView",
       "bar_style": "success",
       "description": "",
       "description_tooltip": null,
       "layout": "IPY_MODEL_3235a041883e450496cb081db26603f5",
       "max": 5040.0,
       "min": 0.0,
       "orientation": "horizontal",
       "style": "IPY_MODEL_2f4060a55e8140bca7194a197ccb4217",
       "value": 5040.0
      }
     },
     "d07b7895eca842b48aedc5d5aceb06e9": {
      "model_module": "@jupyter-widgets/base",
      "model_module_version": "1.2.0",
      "model_name": "LayoutModel",
      "state": {
       "_model_module": "@jupyter-widgets/base",
       "_model_module_version": "1.2.0",
       "_model_name": "LayoutModel",
       "_view_count": null,
       "_view_module": "@jupyter-widgets/base",
       "_view_module_version": "1.2.0",
       "_view_name": "LayoutView",
       "align_content": null,
       "align_items": null,
       "align_self": null,
       "border": null,
       "bottom": null,
       "display": null,
       "flex": null,
       "flex_flow": null,
       "grid_area": null,
       "grid_auto_columns": null,
       "grid_auto_flow": null,
       "grid_auto_rows": null,
       "grid_column": null,
       "grid_gap": null,
       "grid_row": null,
       "grid_template_areas": null,
       "grid_template_columns": null,
       "grid_template_rows": null,
       "height": null,
       "justify_content": null,
       "justify_items": null,
       "left": null,
       "margin": null,
       "max_height": null,
       "max_width": null,
       "min_height": null,
       "min_width": null,
       "object_fit": null,
       "object_position": null,
       "order": null,
       "overflow": null,
       "overflow_x": null,
       "overflow_y": null,
       "padding": null,
       "right": null,
       "top": null,
       "visibility": null,
       "width": null
      }
     },
     "d0b3f0f5c3214ea7ae2362fbf740e653": {
      "model_module": "@jupyter-widgets/controls",
      "model_module_version": "1.5.0",
      "model_name": "HTMLModel",
      "state": {
       "_dom_classes": [],
       "_model_module": "@jupyter-widgets/controls",
       "_model_module_version": "1.5.0",
       "_model_name": "HTMLModel",
       "_view_count": null,
       "_view_module": "@jupyter-widgets/controls",
       "_view_module_version": "1.5.0",
       "_view_name": "HTMLView",
       "description": "",
       "description_tooltip": null,
       "layout": "IPY_MODEL_d709be9fa2344891a939c92be7c18649",
       "placeholder": "​",
       "style": "IPY_MODEL_4b9e10fa3ea24efe80b605e544c34ab4",
       "value": "100%"
      }
     },
     "d41d917e39b34f0aac0ceec68773c682": {
      "model_module": "@jupyter-widgets/controls",
      "model_module_version": "1.5.0",
      "model_name": "HBoxModel",
      "state": {
       "_dom_classes": [],
       "_model_module": "@jupyter-widgets/controls",
       "_model_module_version": "1.5.0",
       "_model_name": "HBoxModel",
       "_view_count": null,
       "_view_module": "@jupyter-widgets/controls",
       "_view_module_version": "1.5.0",
       "_view_name": "HBoxView",
       "box_style": "",
       "children": [
        "IPY_MODEL_36cb7ef2f46f4000b9fb9ea6fa8addde",
        "IPY_MODEL_5a3db69d9e324c4f8f3bf0e312006363",
        "IPY_MODEL_a7c1d9f034dd4c35a4a3df4204068e87"
       ],
       "layout": "IPY_MODEL_423f6530ac4a401cbd0b37b92f514f92"
      }
     },
     "d45eb59b38e14582a14251b4576f447a": {
      "model_module": "@jupyter-widgets/controls",
      "model_module_version": "1.5.0",
      "model_name": "DescriptionStyleModel",
      "state": {
       "_model_module": "@jupyter-widgets/controls",
       "_model_module_version": "1.5.0",
       "_model_name": "DescriptionStyleModel",
       "_view_count": null,
       "_view_module": "@jupyter-widgets/base",
       "_view_module_version": "1.2.0",
       "_view_name": "StyleView",
       "description_width": ""
      }
     },
     "d6d4442a0dfe443d9b08dabb79003583": {
      "model_module": "@jupyter-widgets/controls",
      "model_module_version": "1.5.0",
      "model_name": "HTMLModel",
      "state": {
       "_dom_classes": [],
       "_model_module": "@jupyter-widgets/controls",
       "_model_module_version": "1.5.0",
       "_model_name": "HTMLModel",
       "_view_count": null,
       "_view_module": "@jupyter-widgets/controls",
       "_view_module_version": "1.5.0",
       "_view_name": "HTMLView",
       "description": "",
       "description_tooltip": null,
       "layout": "IPY_MODEL_87f94718c7cb43adadad006d8b630ad1",
       "placeholder": "​",
       "style": "IPY_MODEL_d45eb59b38e14582a14251b4576f447a",
       "value": " 5040/5040 [04:27&lt;00:00, 19.01it/s]"
      }
     },
     "d709be9fa2344891a939c92be7c18649": {
      "model_module": "@jupyter-widgets/base",
      "model_module_version": "1.2.0",
      "model_name": "LayoutModel",
      "state": {
       "_model_module": "@jupyter-widgets/base",
       "_model_module_version": "1.2.0",
       "_model_name": "LayoutModel",
       "_view_count": null,
       "_view_module": "@jupyter-widgets/base",
       "_view_module_version": "1.2.0",
       "_view_name": "LayoutView",
       "align_content": null,
       "align_items": null,
       "align_self": null,
       "border": null,
       "bottom": null,
       "display": null,
       "flex": null,
       "flex_flow": null,
       "grid_area": null,
       "grid_auto_columns": null,
       "grid_auto_flow": null,
       "grid_auto_rows": null,
       "grid_column": null,
       "grid_gap": null,
       "grid_row": null,
       "grid_template_areas": null,
       "grid_template_columns": null,
       "grid_template_rows": null,
       "height": null,
       "justify_content": null,
       "justify_items": null,
       "left": null,
       "margin": null,
       "max_height": null,
       "max_width": null,
       "min_height": null,
       "min_width": null,
       "object_fit": null,
       "object_position": null,
       "order": null,
       "overflow": null,
       "overflow_x": null,
       "overflow_y": null,
       "padding": null,
       "right": null,
       "top": null,
       "visibility": null,
       "width": null
      }
     },
     "d85bc0710da146bc9fd776a29413de9a": {
      "model_module": "@jupyter-widgets/controls",
      "model_module_version": "1.5.0",
      "model_name": "HTMLModel",
      "state": {
       "_dom_classes": [],
       "_model_module": "@jupyter-widgets/controls",
       "_model_module_version": "1.5.0",
       "_model_name": "HTMLModel",
       "_view_count": null,
       "_view_module": "@jupyter-widgets/controls",
       "_view_module_version": "1.5.0",
       "_view_name": "HTMLView",
       "description": "",
       "description_tooltip": null,
       "layout": "IPY_MODEL_2a05088305f1467c9111f757db6ea28c",
       "placeholder": "​",
       "style": "IPY_MODEL_5f84590d3ce947158cfa053823c6344d",
       "value": " 5040/5040 [02:34&lt;00:00, 32.59it/s]"
      }
     },
     "daa184ac30bf4d5f92b53e9faf7da1d1": {
      "model_module": "@jupyter-widgets/controls",
      "model_module_version": "1.5.0",
      "model_name": "HTMLModel",
      "state": {
       "_dom_classes": [],
       "_model_module": "@jupyter-widgets/controls",
       "_model_module_version": "1.5.0",
       "_model_name": "HTMLModel",
       "_view_count": null,
       "_view_module": "@jupyter-widgets/controls",
       "_view_module_version": "1.5.0",
       "_view_name": "HTMLView",
       "description": "",
       "description_tooltip": null,
       "layout": "IPY_MODEL_23b7a39159aa4119b4a0c9a276c8a17c",
       "placeholder": "​",
       "style": "IPY_MODEL_5ed0a17ea36a4aab9059627402cf9eb7",
       "value": " 5040/5040 [02:37&lt;00:00, 32.08it/s]"
      }
     },
     "df3a5d9b3b7a49d186128ed78386af27": {
      "model_module": "@jupyter-widgets/controls",
      "model_module_version": "1.5.0",
      "model_name": "ProgressStyleModel",
      "state": {
       "_model_module": "@jupyter-widgets/controls",
       "_model_module_version": "1.5.0",
       "_model_name": "ProgressStyleModel",
       "_view_count": null,
       "_view_module": "@jupyter-widgets/base",
       "_view_module_version": "1.2.0",
       "_view_name": "StyleView",
       "bar_color": null,
       "description_width": ""
      }
     },
     "e1391f86ecf345b5ba21ffd8ce317c7e": {
      "model_module": "@jupyter-widgets/base",
      "model_module_version": "1.2.0",
      "model_name": "LayoutModel",
      "state": {
       "_model_module": "@jupyter-widgets/base",
       "_model_module_version": "1.2.0",
       "_model_name": "LayoutModel",
       "_view_count": null,
       "_view_module": "@jupyter-widgets/base",
       "_view_module_version": "1.2.0",
       "_view_name": "LayoutView",
       "align_content": null,
       "align_items": null,
       "align_self": null,
       "border": null,
       "bottom": null,
       "display": null,
       "flex": null,
       "flex_flow": null,
       "grid_area": null,
       "grid_auto_columns": null,
       "grid_auto_flow": null,
       "grid_auto_rows": null,
       "grid_column": null,
       "grid_gap": null,
       "grid_row": null,
       "grid_template_areas": null,
       "grid_template_columns": null,
       "grid_template_rows": null,
       "height": null,
       "justify_content": null,
       "justify_items": null,
       "left": null,
       "margin": null,
       "max_height": null,
       "max_width": null,
       "min_height": null,
       "min_width": null,
       "object_fit": null,
       "object_position": null,
       "order": null,
       "overflow": null,
       "overflow_x": null,
       "overflow_y": null,
       "padding": null,
       "right": null,
       "top": null,
       "visibility": "hidden",
       "width": null
      }
     },
     "e256a419917e4b44b49a7191150a8e1c": {
      "model_module": "@jupyter-widgets/controls",
      "model_module_version": "1.5.0",
      "model_name": "HBoxModel",
      "state": {
       "_dom_classes": [],
       "_model_module": "@jupyter-widgets/controls",
       "_model_module_version": "1.5.0",
       "_model_name": "HBoxModel",
       "_view_count": null,
       "_view_module": "@jupyter-widgets/controls",
       "_view_module_version": "1.5.0",
       "_view_name": "HBoxView",
       "box_style": "",
       "children": [
        "IPY_MODEL_54964c885afd4e6ba55951f047153d70",
        "IPY_MODEL_39adf326b7a1404ebcc8c86152ad7251",
        "IPY_MODEL_d85bc0710da146bc9fd776a29413de9a"
       ],
       "layout": "IPY_MODEL_4494b0d0699e4132a3ad8e7512e99372"
      }
     },
     "e42b90373f554aef84e3b6a2d8328a93": {
      "model_module": "@jupyter-widgets/controls",
      "model_module_version": "1.5.0",
      "model_name": "HBoxModel",
      "state": {
       "_dom_classes": [],
       "_model_module": "@jupyter-widgets/controls",
       "_model_module_version": "1.5.0",
       "_model_name": "HBoxModel",
       "_view_count": null,
       "_view_module": "@jupyter-widgets/controls",
       "_view_module_version": "1.5.0",
       "_view_name": "HBoxView",
       "box_style": "",
       "children": [
        "IPY_MODEL_3ba5fc508fb141f9bc28a8c84c859c52",
        "IPY_MODEL_39d8684669824b7ba1bab07062fd1abf",
        "IPY_MODEL_d6d4442a0dfe443d9b08dabb79003583"
       ],
       "layout": "IPY_MODEL_32e79a03e9e8429ebb84c2e0ebb62620"
      }
     },
     "e81ba31cbf16451e8272e1d2ac469b69": {
      "model_module": "@jupyter-widgets/base",
      "model_module_version": "1.2.0",
      "model_name": "LayoutModel",
      "state": {
       "_model_module": "@jupyter-widgets/base",
       "_model_module_version": "1.2.0",
       "_model_name": "LayoutModel",
       "_view_count": null,
       "_view_module": "@jupyter-widgets/base",
       "_view_module_version": "1.2.0",
       "_view_name": "LayoutView",
       "align_content": null,
       "align_items": null,
       "align_self": null,
       "border": null,
       "bottom": null,
       "display": null,
       "flex": null,
       "flex_flow": null,
       "grid_area": null,
       "grid_auto_columns": null,
       "grid_auto_flow": null,
       "grid_auto_rows": null,
       "grid_column": null,
       "grid_gap": null,
       "grid_row": null,
       "grid_template_areas": null,
       "grid_template_columns": null,
       "grid_template_rows": null,
       "height": null,
       "justify_content": null,
       "justify_items": null,
       "left": null,
       "margin": null,
       "max_height": null,
       "max_width": null,
       "min_height": null,
       "min_width": null,
       "object_fit": null,
       "object_position": null,
       "order": null,
       "overflow": null,
       "overflow_x": null,
       "overflow_y": null,
       "padding": null,
       "right": null,
       "top": null,
       "visibility": null,
       "width": null
      }
     },
     "eb0936e8defa4ce68120baba790c375e": {
      "model_module": "@jupyter-widgets/base",
      "model_module_version": "1.2.0",
      "model_name": "LayoutModel",
      "state": {
       "_model_module": "@jupyter-widgets/base",
       "_model_module_version": "1.2.0",
       "_model_name": "LayoutModel",
       "_view_count": null,
       "_view_module": "@jupyter-widgets/base",
       "_view_module_version": "1.2.0",
       "_view_name": "LayoutView",
       "align_content": null,
       "align_items": null,
       "align_self": null,
       "border": null,
       "bottom": null,
       "display": null,
       "flex": null,
       "flex_flow": null,
       "grid_area": null,
       "grid_auto_columns": null,
       "grid_auto_flow": null,
       "grid_auto_rows": null,
       "grid_column": null,
       "grid_gap": null,
       "grid_row": null,
       "grid_template_areas": null,
       "grid_template_columns": null,
       "grid_template_rows": null,
       "height": null,
       "justify_content": null,
       "justify_items": null,
       "left": null,
       "margin": null,
       "max_height": null,
       "max_width": null,
       "min_height": null,
       "min_width": null,
       "object_fit": null,
       "object_position": null,
       "order": null,
       "overflow": null,
       "overflow_x": null,
       "overflow_y": null,
       "padding": null,
       "right": null,
       "top": null,
       "visibility": null,
       "width": null
      }
     },
     "ed1fd038f9094266bc6d19b961f58e12": {
      "model_module": "@jupyter-widgets/controls",
      "model_module_version": "1.5.0",
      "model_name": "DescriptionStyleModel",
      "state": {
       "_model_module": "@jupyter-widgets/controls",
       "_model_module_version": "1.5.0",
       "_model_name": "DescriptionStyleModel",
       "_view_count": null,
       "_view_module": "@jupyter-widgets/base",
       "_view_module_version": "1.2.0",
       "_view_name": "StyleView",
       "description_width": ""
      }
     },
     "fabcee6168cb481f806ce088805db46c": {
      "model_module": "@jupyter-widgets/controls",
      "model_module_version": "1.5.0",
      "model_name": "ProgressStyleModel",
      "state": {
       "_model_module": "@jupyter-widgets/controls",
       "_model_module_version": "1.5.0",
       "_model_name": "ProgressStyleModel",
       "_view_count": null,
       "_view_module": "@jupyter-widgets/base",
       "_view_module_version": "1.2.0",
       "_view_name": "StyleView",
       "bar_color": null,
       "description_width": ""
      }
     },
     "fb44f1c5e10a41e8bd43758b74513f68": {
      "model_module": "@jupyter-widgets/controls",
      "model_module_version": "1.5.0",
      "model_name": "HTMLModel",
      "state": {
       "_dom_classes": [],
       "_model_module": "@jupyter-widgets/controls",
       "_model_module_version": "1.5.0",
       "_model_name": "HTMLModel",
       "_view_count": null,
       "_view_module": "@jupyter-widgets/controls",
       "_view_module_version": "1.5.0",
       "_view_name": "HTMLView",
       "description": "",
       "description_tooltip": null,
       "layout": "IPY_MODEL_eb0936e8defa4ce68120baba790c375e",
       "placeholder": "​",
       "style": "IPY_MODEL_896e7bf23dc8476f85565dfcb904d452",
       "value": " 113/113 [00:43&lt;00:00,  3.02it/s]"
      }
     },
     "fb801b64db1a47adb7bb6796b9664b86": {
      "model_module": "@jupyter-widgets/controls",
      "model_module_version": "1.5.0",
      "model_name": "FloatProgressModel",
      "state": {
       "_dom_classes": [],
       "_model_module": "@jupyter-widgets/controls",
       "_model_module_version": "1.5.0",
       "_model_name": "FloatProgressModel",
       "_view_count": null,
       "_view_module": "@jupyter-widgets/controls",
       "_view_module_version": "1.5.0",
       "_view_name": "ProgressView",
       "bar_style": "",
       "description": "",
       "description_tooltip": null,
       "layout": "IPY_MODEL_ad7e77076f484821965f93f40009f06f",
       "max": 113.0,
       "min": 0.0,
       "orientation": "horizontal",
       "style": "IPY_MODEL_639369745ac74ce18a1e64187540c091",
       "value": 113.0
      }
     },
     "ffe80a7d4d9245aabca0d222e8c918dd": {
      "model_module": "@jupyter-widgets/controls",
      "model_module_version": "1.5.0",
      "model_name": "DescriptionStyleModel",
      "state": {
       "_model_module": "@jupyter-widgets/controls",
       "_model_module_version": "1.5.0",
       "_model_name": "DescriptionStyleModel",
       "_view_count": null,
       "_view_module": "@jupyter-widgets/base",
       "_view_module_version": "1.2.0",
       "_view_name": "StyleView",
       "description_width": ""
      }
     }
    },
    "version_major": 2,
    "version_minor": 0
   }
  }
 },
 "nbformat": 4,
 "nbformat_minor": 5
}
