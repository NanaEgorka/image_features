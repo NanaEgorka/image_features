{
 "cells": [
  {
   "cell_type": "code",
   "execution_count": 1,
   "id": "730750da",
   "metadata": {
    "execution": {
     "iopub.execute_input": "2023-05-15T13:15:18.330195Z",
     "iopub.status.busy": "2023-05-15T13:15:18.329827Z",
     "iopub.status.idle": "2023-05-15T13:15:23.512762Z",
     "shell.execute_reply": "2023-05-15T13:15:23.512070Z"
    },
    "papermill": {
     "duration": 5.194272,
     "end_time": "2023-05-15T13:15:23.514661",
     "exception": false,
     "start_time": "2023-05-15T13:15:18.320389",
     "status": "completed"
    },
    "tags": []
   },
   "outputs": [
    {
     "name": "stderr",
     "output_type": "stream",
     "text": [
      "/opt/conda/lib/python3.10/site-packages/scipy/__init__.py:146: UserWarning: A NumPy version >=1.16.5 and <1.23.0 is required for this version of SciPy (detected version 1.23.5\n",
      "  warnings.warn(f\"A NumPy version >={np_minversion} and <{np_maxversion}\"\n"
     ]
    }
   ],
   "source": [
    "import numpy as np\n",
    "import pandas as pd\n",
    "import tifffile as tiff\n",
    "import matplotlib.pyplot as plt\n",
    "import os\n",
    "from PIL import Image\n",
    "\n",
    "import random\n",
    "from IPython.display import display, clear_output\n",
    "from tqdm.notebook import tqdm\n",
    "import torch\n",
    "from torch import nn\n",
    "from torch.utils.data import Dataset, DataLoader\n",
    "import os\n",
    "import sqlite3\n",
    "\n",
    "from sklearn.preprocessing import LabelEncoder\n",
    "from sklearn.metrics import mean_squared_error, accuracy_score"
   ]
  },
  {
   "cell_type": "code",
   "execution_count": 2,
   "id": "b097f2c0",
   "metadata": {
    "execution": {
     "iopub.execute_input": "2023-05-15T13:15:23.529802Z",
     "iopub.status.busy": "2023-05-15T13:15:23.528395Z",
     "iopub.status.idle": "2023-05-15T13:15:23.540645Z",
     "shell.execute_reply": "2023-05-15T13:15:23.539639Z"
    },
    "papermill": {
     "duration": 0.02163,
     "end_time": "2023-05-15T13:15:23.542691",
     "exception": false,
     "start_time": "2023-05-15T13:15:23.521061",
     "status": "completed"
    },
    "tags": []
   },
   "outputs": [],
   "source": [
    "class CroppedDataset(Dataset): # assume that all shapes are the same\n",
    "    def __init__(self, folder_path, metadata_path, patch_size=(32, 32)):\n",
    "        super().__init__()\n",
    "        self.folder_path = folder_path\n",
    "        self.image_pathes = os.listdir(folder_path)\n",
    "        self.patch_size = patch_size\n",
    "        \n",
    "        conn = sqlite3.connect(metadata_path)\n",
    "        metadata = pd.read_sql_query(\"SELECT * FROM Micrograph\", conn)\n",
    "        label_encoder = LabelEncoder()\n",
    "        self.label_encoder = label_encoder\n",
    "        self.labels = label_encoder.fit_transform(metadata['primary_microconstituent'])\n",
    "        \n",
    "        img = plt.imread(os.path.join(self.folder_path, self.image_pathes[0]))\n",
    "        img = img[:-38] ## cut the bottom line\n",
    "        self.patches_i = int(img.shape[0] / self.patch_size[0])\n",
    "        self.patches_j = int(img.shape[1] / self.patch_size[1])\n",
    "        self.n_patches = self.patches_i * self.patches_j\n",
    "        \n",
    "        self.data = []\n",
    "        self.means = []\n",
    "        self.stds = []\n",
    "        self.pathes = []\n",
    "        for path in metadata.path:\n",
    "            img = plt.imread(os.path.join(self.folder_path, path))\n",
    "            self.pathes.append(path)\n",
    "            if len(img.shape) > 2:\n",
    "                img = img[:, :, 0]\n",
    "            img = img[:-38] ## cut the bottom line\n",
    "            img = img / 255\n",
    "            #img = img.round() ## binarization\n",
    "            mean, std = img.mean(), img.std()\n",
    "            if std == 0:\n",
    "                std = 1\n",
    "            \n",
    "            #std = np.sqrt((img ** 2).mean()) ## 2 moment == 1 (not std)\n",
    "            \n",
    "            self.means.append(mean)\n",
    "            self.stds.append(std)\n",
    "            #img = (img - mean) / std\n",
    "            #img = img / std\n",
    "            self.data.append(img)\n",
    "\n",
    "    def __len__(self):\n",
    "        return len(self.image_pathes) * self.n_patches\n",
    "\n",
    "    def __getitem__(self, index):\n",
    "        img_index = index // self.n_patches\n",
    "        #img = plt.imread(os.path.join(self.folder_path, self.image_pathes[img_index]))\n",
    "        img = self.data[img_index]\n",
    "        patch_index = index % self.n_patches ## select patch\n",
    "        patch_i = patch_index // self.patches_j\n",
    "        patch_j = patch_index % self.patches_j\n",
    "        img = img[patch_i * self.patch_size[0]:(patch_i + 1) * self.patch_size[0],\n",
    "                 patch_j * self.patch_size[1]:(patch_j + 1) * self.patch_size[1]]\n",
    "        return img, self.means[img_index], self.stds[img_index], self.labels[img_index]"
   ]
  },
  {
   "cell_type": "code",
   "execution_count": 3,
   "id": "f38579a9",
   "metadata": {
    "execution": {
     "iopub.execute_input": "2023-05-15T13:15:23.555046Z",
     "iopub.status.busy": "2023-05-15T13:15:23.554762Z",
     "iopub.status.idle": "2023-05-15T13:15:40.564597Z",
     "shell.execute_reply": "2023-05-15T13:15:40.563201Z"
    },
    "papermill": {
     "duration": 17.019086,
     "end_time": "2023-05-15T13:15:40.567041",
     "exception": false,
     "start_time": "2023-05-15T13:15:23.547955",
     "status": "completed"
    },
    "tags": []
   },
   "outputs": [],
   "source": [
    "folder_path = '/kaggle/input/vkr-data/data2/micrographs/'\n",
    "metadata_path = '/kaggle/input/vkr-data/data2/microstructures.sqlite'\n",
    "\n",
    "dataset = CroppedDataset(folder_path, metadata_path, patch_size=(32, 32))"
   ]
  },
  {
   "cell_type": "code",
   "execution_count": 4,
   "id": "88ca09a8",
   "metadata": {
    "execution": {
     "iopub.execute_input": "2023-05-15T13:15:40.579681Z",
     "iopub.status.busy": "2023-05-15T13:15:40.579330Z",
     "iopub.status.idle": "2023-05-15T13:15:40.624944Z",
     "shell.execute_reply": "2023-05-15T13:15:40.623937Z"
    },
    "papermill": {
     "duration": 0.054374,
     "end_time": "2023-05-15T13:15:40.627097",
     "exception": false,
     "start_time": "2023-05-15T13:15:40.572723",
     "status": "completed"
    },
    "tags": []
   },
   "outputs": [],
   "source": [
    "train_size = int(len(dataset) * 0.8)\n",
    "val_size = len(dataset) - train_size\n",
    "\n",
    "train_dataset, val_dataset = torch.utils.data.random_split(dataset, [train_size, val_size],\n",
    "                                                           generator=torch.Generator().manual_seed(7))"
   ]
  },
  {
   "cell_type": "code",
   "execution_count": 5,
   "id": "99f2a270",
   "metadata": {
    "execution": {
     "iopub.execute_input": "2023-05-15T13:15:40.639224Z",
     "iopub.status.busy": "2023-05-15T13:15:40.638888Z",
     "iopub.status.idle": "2023-05-15T13:15:40.643751Z",
     "shell.execute_reply": "2023-05-15T13:15:40.642662Z"
    },
    "papermill": {
     "duration": 0.012809,
     "end_time": "2023-05-15T13:15:40.645365",
     "exception": false,
     "start_time": "2023-05-15T13:15:40.632556",
     "status": "completed"
    },
    "tags": []
   },
   "outputs": [],
   "source": [
    "train_dataloader = DataLoader(train_dataset, batch_size = 64, shuffle = True)\n",
    "val_dataloader = DataLoader(val_dataset, batch_size = 512, shuffle = False)"
   ]
  },
  {
   "cell_type": "code",
   "execution_count": 6,
   "id": "459f379c",
   "metadata": {
    "execution": {
     "iopub.execute_input": "2023-05-15T13:15:40.657173Z",
     "iopub.status.busy": "2023-05-15T13:15:40.656878Z",
     "iopub.status.idle": "2023-05-15T13:15:40.678028Z",
     "shell.execute_reply": "2023-05-15T13:15:40.676503Z"
    },
    "papermill": {
     "duration": 0.029748,
     "end_time": "2023-05-15T13:15:40.680275",
     "exception": false,
     "start_time": "2023-05-15T13:15:40.650527",
     "status": "completed"
    },
    "tags": []
   },
   "outputs": [],
   "source": [
    "class VariationalAutoencoder(nn.Module):\n",
    "    def __init__(self, input_channels, latent_dim, output_channels, loss_cfs, num_classes):\n",
    "        super(VariationalAutoencoder, self).__init__()\n",
    "        self.encoder = Encoder(input_channels, latent_dim)\n",
    "        self.decoder = Decoder(latent_dim, output_channels)\n",
    "        self.classifier = Classifier(latent_dim, num_classes)\n",
    "        self.loss_cfs = loss_cfs\n",
    "        \n",
    "    def forward(self, x):\n",
    "        mu, log_var = self.encoder(x)\n",
    "        std = torch.exp(0.5 * log_var)\n",
    "        eps = torch.randn_like(std)\n",
    "        z = mu + eps * std\n",
    "        reconstructed = self.decoder(mu)\n",
    "        logits = self.classifier(mu)\n",
    "        return reconstructed, mu, log_var, logits\n",
    "    \n",
    "    def loss(self, x, reconstructed, mu, log_var, logits, labels):\n",
    "        sigma_x = 1.0e-1\n",
    "        MSE = (torch.sum(((reconstructed - x) / sigma_x).pow(8.0))).pow(1.0/4.0) * (sigma_x ** 2)\n",
    "        #MSE = nn.MSELoss()(reconstructed, x)\n",
    "        KLD = -0.5 * torch.sum(1 + log_var - mu.pow(2) - log_var.exp())\n",
    "        CE = nn.CrossEntropyLoss()(logits, labels)\n",
    "        return MSE * self.loss_cfs[0] + KLD * self.loss_cfs[1] + CE * self.loss_cfs[2] \n",
    "    \n",
    "    def encode(self, x):\n",
    "        mu, log_var = self.encoder(x)\n",
    "        return mu\n",
    "        \n",
    "class Encoder(nn.Module):\n",
    "    def __init__(self, input_channels, latent_dim):\n",
    "        super(Encoder, self).__init__()\n",
    "        self.latent_dim = latent_dim\n",
    "        self.conv = nn.Sequential(\n",
    "            nn.Conv2d(input_channels, 8, kernel_size=3, stride=1),\n",
    "            nn.ReLU(),\n",
    "            nn.Conv2d(8, 16, kernel_size=3, stride=1),\n",
    "            nn.ReLU(),\n",
    "            nn.Conv2d(16, 32, kernel_size=3, stride=2),\n",
    "            nn.ReLU(),\n",
    "            nn.Conv2d(32, 64, kernel_size=3, stride=2),\n",
    "            nn.ReLU(),\n",
    "            nn.Conv2d(64, 64, kernel_size=3, stride=1),\n",
    "            nn.ReLU(),\n",
    "            nn.Conv2d(64, 128, kernel_size=3, stride=1),\n",
    "        )\n",
    "        self.fc = nn.Sequential(\n",
    "            nn.Linear(128 * 2 * 2, 512),\n",
    "            nn.ReLU(),\n",
    "            nn.Linear(512, 2 * latent_dim)\n",
    "        )\n",
    "        \n",
    "    def forward(self, x):\n",
    "        x = self.conv(x)\n",
    "        x = x.view(x.size(0), -1)\n",
    "        x = self.fc(x)\n",
    "        return x[:, :self.latent_dim], x[:, self.latent_dim:]\n",
    "    \n",
    "class Decoder(nn.Module):\n",
    "    def __init__(self, latent_dim, output_channels):\n",
    "        super(Decoder, self).__init__()\n",
    "        self.fc = nn.Sequential(\n",
    "            nn.Linear(latent_dim, 512),\n",
    "            nn.ReLU(),\n",
    "            nn.Linear(512, 128 * 2 * 2),\n",
    "        )\n",
    "        self.conv = nn.Sequential(\n",
    "            nn.ReLU(),\n",
    "            nn.ConvTranspose2d(128, 64, kernel_size=3, stride=1),\n",
    "            nn.ReLU(),\n",
    "            nn.ConvTranspose2d(64, 64, kernel_size=3, stride=1),\n",
    "            nn.ReLU(),\n",
    "            nn.ConvTranspose2d(64, 32, kernel_size=3, stride=2),\n",
    "            nn.ReLU(),\n",
    "            nn.ConvTranspose2d(32, 16, kernel_size=3, stride=2, output_padding=1),\n",
    "            nn.ReLU(),\n",
    "            nn.ConvTranspose2d(16, 8, kernel_size=3, stride=1),\n",
    "            nn.ReLU(),\n",
    "            nn.ConvTranspose2d(8, output_channels, kernel_size=3, stride=1)\n",
    "        )\n",
    "    def forward(self, x):\n",
    "        x = self.fc(x)\n",
    "        x = x.view(x.size(0), 128, 2, 2)\n",
    "        x = self.conv(x)\n",
    "        return x\n",
    "    \n",
    "    \n",
    "class Classifier(nn.Module):\n",
    "    def __init__(self, latent_dim, num_classes):\n",
    "        super().__init__()\n",
    "        self.classifier = nn.Sequential(\n",
    "            nn.Linear(latent_dim, latent_dim // 2),\n",
    "            nn.BatchNorm1d(latent_dim // 2),\n",
    "            nn.ReLU(),\n",
    "            nn.Dropout(0.3),\n",
    "            nn.Linear(latent_dim // 2, latent_dim // 4),\n",
    "            nn.ReLU(),\n",
    "            nn.Linear(latent_dim // 4, num_classes)\n",
    "        )\n",
    "    def forward(self, x):\n",
    "        return self.classifier(x)\n"
   ]
  },
  {
   "cell_type": "code",
   "execution_count": 7,
   "id": "4951cf0d",
   "metadata": {
    "execution": {
     "iopub.execute_input": "2023-05-15T13:15:40.692429Z",
     "iopub.status.busy": "2023-05-15T13:15:40.691451Z",
     "iopub.status.idle": "2023-05-15T13:15:40.703111Z",
     "shell.execute_reply": "2023-05-15T13:15:40.702254Z"
    },
    "papermill": {
     "duration": 0.01942,
     "end_time": "2023-05-15T13:15:40.704929",
     "exception": false,
     "start_time": "2023-05-15T13:15:40.685509",
     "status": "completed"
    },
    "tags": []
   },
   "outputs": [],
   "source": [
    "from IPython.display import display, clear_output\n",
    "from ipywidgets import Output\n",
    "from tqdm.auto import trange\n",
    "from typing import Type, Union\n",
    "import matplotlib.pyplot as plt\n",
    "from sklearn.metrics import mean_squared_error, accuracy_score\n",
    "\n",
    "def predict(model, loader):\n",
    "    model.eval()\n",
    "    with torch.no_grad():\n",
    "        original = []\n",
    "        reconstructed = []\n",
    "        true_labels = []\n",
    "        predicted_labels = []\n",
    "        for i, (x, mean, std, labels) in tqdm(enumerate(loader), leave=False, total=len(loader)):\n",
    "            std = std[:, None, None, None]\n",
    "            mean = mean[:, None, None, None]\n",
    "            x = x.unsqueeze(1).float()\n",
    "            x = x.to(device)\n",
    "            reconstructed_x, mu, log, logits = model(x)\n",
    "            reconstructed_x = reconstructed_x.cpu()\n",
    "            original.append(x.cpu())\n",
    "            reconstructed.append(reconstructed_x)\n",
    "            \n",
    "            probas = nn.Softmax(1)(logits)\n",
    "            preds = probas.argmax(dim=-1)\n",
    "            true_labels.append(labels)\n",
    "            predicted_labels.append(preds)\n",
    "    return original, reconstructed, true_labels, predicted_labels"
   ]
  },
  {
   "cell_type": "code",
   "execution_count": 8,
   "id": "b890616b",
   "metadata": {
    "execution": {
     "iopub.execute_input": "2023-05-15T13:15:40.716717Z",
     "iopub.status.busy": "2023-05-15T13:15:40.716337Z",
     "iopub.status.idle": "2023-05-15T13:15:40.878407Z",
     "shell.execute_reply": "2023-05-15T13:15:40.877435Z"
    },
    "papermill": {
     "duration": 0.170631,
     "end_time": "2023-05-15T13:15:40.880665",
     "exception": false,
     "start_time": "2023-05-15T13:15:40.710034",
     "status": "completed"
    },
    "tags": []
   },
   "outputs": [],
   "source": [
    "model = VariationalAutoencoder(1, 128, 1, loss_cfs=(1, 1 / 1e8 * 0.1, 1 / 20), num_classes=7)\n",
    "model.load_state_dict(torch.load('/kaggle/input/vkr-data/state_dict_full_model', map_location=torch.device('cpu')))\n",
    "#optimizer = torch.optim.Adam(model.parameters(), lr=2e-4)\n",
    "device = \"cuda\" if torch.cuda.is_available() else \"cpu\"\n",
    "model.to(device);\n",
    "#criterion = nn.MSELoss()\n",
    "#train_model(model, train_dataloader, val_dataloader, optimizer, device=device, num_epochs=100, verbose_num_iters=64)"
   ]
  },
  {
   "cell_type": "code",
   "execution_count": 9,
   "id": "2581d08e",
   "metadata": {
    "execution": {
     "iopub.execute_input": "2023-05-15T13:15:40.892155Z",
     "iopub.status.busy": "2023-05-15T13:15:40.891864Z",
     "iopub.status.idle": "2023-05-15T13:16:08.670874Z",
     "shell.execute_reply": "2023-05-15T13:16:08.669572Z"
    },
    "papermill": {
     "duration": 27.787571,
     "end_time": "2023-05-15T13:16:08.673351",
     "exception": false,
     "start_time": "2023-05-15T13:15:40.885780",
     "status": "completed"
    },
    "tags": []
   },
   "outputs": [
    {
     "data": {
      "application/vnd.jupyter.widget-view+json": {
       "model_id": "9bc8a2d16c974af6bb3a753941c2c533",
       "version_major": 2,
       "version_minor": 0
      },
      "text/plain": [
       "  0%|          | 0/113 [00:00<?, ?it/s]"
      ]
     },
     "metadata": {},
     "output_type": "display_data"
    }
   ],
   "source": [
    "original, reconstructed, true_labels, predicted_labels = predict(model, val_dataloader)"
   ]
  },
  {
   "cell_type": "code",
   "execution_count": 10,
   "id": "687347b6",
   "metadata": {
    "execution": {
     "iopub.execute_input": "2023-05-15T13:16:08.685726Z",
     "iopub.status.busy": "2023-05-15T13:16:08.685369Z",
     "iopub.status.idle": "2023-05-15T13:16:09.051322Z",
     "shell.execute_reply": "2023-05-15T13:16:09.049852Z"
    },
    "papermill": {
     "duration": 0.374394,
     "end_time": "2023-05-15T13:16:09.053325",
     "exception": false,
     "start_time": "2023-05-15T13:16:08.678931",
     "status": "completed"
    },
    "tags": []
   },
   "outputs": [
    {
     "name": "stdout",
     "output_type": "stream",
     "text": [
      "RMSE: 0.1478292\n",
      "Accuracy: 0.7401144640998959\n"
     ]
    }
   ],
   "source": [
    "print('RMSE:', mean_squared_error(torch.cat(original).cpu().detach().numpy().flatten(),\n",
    "               torch.cat(reconstructed).cpu().detach().numpy().flatten(), squared=False))\n",
    "print('Accuracy:', accuracy_score(torch.cat(true_labels).cpu().detach().numpy(),\n",
    "               torch.cat(predicted_labels).cpu().detach().numpy()))"
   ]
  },
  {
   "cell_type": "code",
   "execution_count": 11,
   "id": "8949df75",
   "metadata": {
    "execution": {
     "iopub.execute_input": "2023-05-15T13:16:09.065649Z",
     "iopub.status.busy": "2023-05-15T13:16:09.065297Z",
     "iopub.status.idle": "2023-05-15T13:16:15.773711Z",
     "shell.execute_reply": "2023-05-15T13:16:15.773092Z"
    },
    "papermill": {
     "duration": 6.716571,
     "end_time": "2023-05-15T13:16:15.775293",
     "exception": false,
     "start_time": "2023-05-15T13:16:09.058722",
     "status": "completed"
    },
    "tags": []
   },
   "outputs": [
    {
     "data": {
      "application/vnd.jupyter.widget-view+json": {
       "model_id": "3852df66c1ce4d1f91478bd7c2263eed",
       "version_major": 2,
       "version_minor": 0
      },
      "text/plain": [
       "  0%|          | 0/113 [00:00<?, ?it/s]"
      ]
     },
     "metadata": {},
     "output_type": "display_data"
    }
   ],
   "source": [
    "loader = val_dataloader\n",
    "model.eval()\n",
    "with torch.no_grad():\n",
    "    original = []\n",
    "    reconstructed = []\n",
    "    true_labels = []\n",
    "    predicted_labels = []\n",
    "    encoded = []\n",
    "    indexes = []\n",
    "    for i, (x, mean, std, labels) in tqdm(enumerate(loader), leave=False, total=len(loader)):\n",
    "        std = std[:, None, None, None]\n",
    "        mean = mean[:, None, None, None]\n",
    "        x = x.unsqueeze(1).float()\n",
    "        x = x.to(device)\n",
    "        encoded.append(model.encode(x).cpu())\n",
    "        original.append(x.cpu())\n",
    "        true_labels.append(labels)"
   ]
  },
  {
   "cell_type": "code",
   "execution_count": 12,
   "id": "643784ae",
   "metadata": {
    "execution": {
     "iopub.execute_input": "2023-05-15T13:16:15.788428Z",
     "iopub.status.busy": "2023-05-15T13:16:15.787350Z",
     "iopub.status.idle": "2023-05-15T13:16:15.848220Z",
     "shell.execute_reply": "2023-05-15T13:16:15.847030Z"
    },
    "papermill": {
     "duration": 0.069877,
     "end_time": "2023-05-15T13:16:15.850618",
     "exception": false,
     "start_time": "2023-05-15T13:16:15.780741",
     "status": "completed"
    },
    "tags": []
   },
   "outputs": [],
   "source": [
    "encoded = torch.cat(encoded)\n",
    "true_labels = torch.cat(true_labels)\n",
    "original = torch.cat(original)\n",
    "original = original.flatten(start_dim=1)"
   ]
  },
  {
   "cell_type": "code",
   "execution_count": 13,
   "id": "3ebd53a3",
   "metadata": {
    "execution": {
     "iopub.execute_input": "2023-05-15T13:16:15.863222Z",
     "iopub.status.busy": "2023-05-15T13:16:15.862913Z",
     "iopub.status.idle": "2023-05-15T13:17:34.511448Z",
     "shell.execute_reply": "2023-05-15T13:17:34.510755Z"
    },
    "papermill": {
     "duration": 78.664879,
     "end_time": "2023-05-15T13:17:34.521223",
     "exception": false,
     "start_time": "2023-05-15T13:16:15.856344",
     "status": "completed"
    },
    "tags": []
   },
   "outputs": [
    {
     "name": "stdout",
     "output_type": "stream",
     "text": [
      "Train accuracy: 0.4587669094693028\n",
      "Test accuracy: 0.4091224419007978\n"
     ]
    }
   ],
   "source": [
    "from sklearn.linear_model import LogisticRegression\n",
    "from sklearn.preprocessing import StandardScaler\n",
    "from sklearn.model_selection import train_test_split\n",
    "\n",
    "scaler = StandardScaler()\n",
    "X_train, X_test, y_train, y_test = train_test_split(original.numpy(), true_labels.numpy(), train_size=0.8)\n",
    "X_train = scaler.fit_transform(X_train)\n",
    "X_test = scaler.transform(X_test)\n",
    "\n",
    "logreg = LogisticRegression(max_iter=1000)\n",
    "logreg.fit(X_train, y_train)\n",
    "pred = logreg.predict(X_train)\n",
    "print('Train accuracy:', accuracy_score(y_train, pred))\n",
    "pred = logreg.predict(X_test)\n",
    "print('Test accuracy:', accuracy_score(y_test, pred))"
   ]
  },
  {
   "cell_type": "code",
   "execution_count": 14,
   "id": "d4de59c5",
   "metadata": {
    "execution": {
     "iopub.execute_input": "2023-05-15T13:17:34.539037Z",
     "iopub.status.busy": "2023-05-15T13:17:34.538693Z",
     "iopub.status.idle": "2023-05-15T13:17:40.692482Z",
     "shell.execute_reply": "2023-05-15T13:17:40.691762Z"
    },
    "papermill": {
     "duration": 6.164796,
     "end_time": "2023-05-15T13:17:40.694191",
     "exception": false,
     "start_time": "2023-05-15T13:17:34.529395",
     "status": "completed"
    },
    "tags": []
   },
   "outputs": [
    {
     "name": "stdout",
     "output_type": "stream",
     "text": [
      "Train accuracy: 0.4309530003468609\n",
      "Test accuracy: 0.4306278182448838\n"
     ]
    }
   ],
   "source": [
    "from sklearn.decomposition import PCA\n",
    "\n",
    "pca = PCA(n_components=128)\n",
    "compressed = pca.fit_transform(original)\n",
    "\n",
    "scaler = StandardScaler()\n",
    "X_train, X_test, y_train, y_test = train_test_split(compressed, true_labels.numpy(), train_size=0.8)\n",
    "X_train = scaler.fit_transform(X_train)\n",
    "X_test = scaler.transform(X_test)\n",
    "\n",
    "logreg = LogisticRegression(max_iter=1000)\n",
    "logreg.fit(X_train, y_train)\n",
    "pred = logreg.predict(X_train)\n",
    "print('Train accuracy:', accuracy_score(y_train, pred))\n",
    "pred = logreg.predict(X_test)\n",
    "print('Test accuracy:', accuracy_score(y_test, pred))"
   ]
  },
  {
   "cell_type": "code",
   "execution_count": 15,
   "id": "e9a1568c",
   "metadata": {
    "execution": {
     "iopub.execute_input": "2023-05-15T13:17:40.710249Z",
     "iopub.status.busy": "2023-05-15T13:17:40.709917Z",
     "iopub.status.idle": "2023-05-15T13:17:46.827691Z",
     "shell.execute_reply": "2023-05-15T13:17:46.826935Z"
    },
    "papermill": {
     "duration": 6.128228,
     "end_time": "2023-05-15T13:17:46.829505",
     "exception": false,
     "start_time": "2023-05-15T13:17:40.701277",
     "status": "completed"
    },
    "tags": []
   },
   "outputs": [
    {
     "name": "stdout",
     "output_type": "stream",
     "text": [
      "Train accuracy: 0.43184183142559834\n",
      "Test accuracy: 0.42594519597641345\n"
     ]
    }
   ],
   "source": [
    "from sklearn.manifold import TSNE\n",
    "\n",
    "tsne = TSNE(n_components=128)\n",
    "compressed = pca.fit_transform(original)\n",
    "\n",
    "scaler = StandardScaler()\n",
    "X_train, X_test, y_train, y_test = train_test_split(compressed, true_labels.numpy(), train_size=0.8)\n",
    "X_train = scaler.fit_transform(X_train)\n",
    "X_test = scaler.transform(X_test)\n",
    "\n",
    "logreg = LogisticRegression(max_iter=1000)\n",
    "logreg.fit(X_train, y_train)\n",
    "pred = logreg.predict(X_train)\n",
    "print('Train accuracy:', accuracy_score(y_train, pred))\n",
    "pred = logreg.predict(X_test)\n",
    "print('Test accuracy:', accuracy_score(y_test, pred))"
   ]
  },
  {
   "cell_type": "code",
   "execution_count": 16,
   "id": "ac3ef7e0",
   "metadata": {
    "execution": {
     "iopub.execute_input": "2023-05-15T13:17:46.846947Z",
     "iopub.status.busy": "2023-05-15T13:17:46.846612Z",
     "iopub.status.idle": "2023-05-15T13:17:59.400550Z",
     "shell.execute_reply": "2023-05-15T13:17:59.399852Z"
    },
    "papermill": {
     "duration": 12.565011,
     "end_time": "2023-05-15T13:17:59.402310",
     "exception": false,
     "start_time": "2023-05-15T13:17:46.837299",
     "status": "completed"
    },
    "tags": []
   },
   "outputs": [
    {
     "name": "stdout",
     "output_type": "stream",
     "text": [
      "Train accuracy: 0.7387486992715921\n",
      "Test accuracy: 0.7389871661463753\n"
     ]
    }
   ],
   "source": [
    "from sklearn.decomposition import PCA\n",
    "\n",
    "scaler = StandardScaler()\n",
    "X_train, X_test, y_train, y_test = train_test_split(encoded.cpu(), true_labels.numpy(), train_size=0.8)\n",
    "X_train = scaler.fit_transform(X_train)\n",
    "X_test = scaler.transform(X_test)\n",
    "\n",
    "logreg = LogisticRegression(max_iter=1000)\n",
    "logreg.fit(X_train, y_train)\n",
    "pred = logreg.predict(X_train)\n",
    "print('Train accuracy:', accuracy_score(y_train, pred))\n",
    "pred = logreg.predict(X_test)\n",
    "print('Test accuracy:', accuracy_score(y_test, pred))"
   ]
  },
  {
   "cell_type": "code",
   "execution_count": null,
   "id": "0a68fec4",
   "metadata": {
    "papermill": {
     "duration": 0.007121,
     "end_time": "2023-05-15T13:17:59.417000",
     "exception": false,
     "start_time": "2023-05-15T13:17:59.409879",
     "status": "completed"
    },
    "tags": []
   },
   "outputs": [],
   "source": []
  },
  {
   "cell_type": "code",
   "execution_count": 17,
   "id": "d5b014ce",
   "metadata": {
    "execution": {
     "iopub.execute_input": "2023-05-15T13:17:59.433041Z",
     "iopub.status.busy": "2023-05-15T13:17:59.432693Z",
     "iopub.status.idle": "2023-05-15T13:17:59.557826Z",
     "shell.execute_reply": "2023-05-15T13:17:59.557138Z"
    },
    "papermill": {
     "duration": 0.135453,
     "end_time": "2023-05-15T13:17:59.559809",
     "exception": false,
     "start_time": "2023-05-15T13:17:59.424356",
     "status": "completed"
    },
    "tags": []
   },
   "outputs": [],
   "source": [
    "model = VariationalAutoencoder(1, 128, 1, loss_cfs=(1, 1 / 1e8 * 0.1, 1 / 20), num_classes=7)\n",
    "model.load_state_dict(torch.load('/kaggle/input/vkr-data/state_dict_VAE', map_location=torch.device('cpu')))\n",
    "#optimizer = torch.optim.Adam(model.parameters(), lr=2e-4)\n",
    "device = \"cuda\" if torch.cuda.is_available() else \"cpu\"\n",
    "model.to(device);\n",
    "#criterion = nn.MSELoss()\n",
    "#train_model(model, train_dataloader, val_dataloader, optimizer, device=device, num_epochs=100, verbose_num_iters=64)"
   ]
  },
  {
   "cell_type": "code",
   "execution_count": 18,
   "id": "45e21b27",
   "metadata": {
    "execution": {
     "iopub.execute_input": "2023-05-15T13:17:59.573327Z",
     "iopub.status.busy": "2023-05-15T13:17:59.572809Z",
     "iopub.status.idle": "2023-05-15T13:18:22.783392Z",
     "shell.execute_reply": "2023-05-15T13:18:22.782500Z"
    },
    "papermill": {
     "duration": 23.219771,
     "end_time": "2023-05-15T13:18:22.785630",
     "exception": false,
     "start_time": "2023-05-15T13:17:59.565859",
     "status": "completed"
    },
    "tags": []
   },
   "outputs": [
    {
     "data": {
      "application/vnd.jupyter.widget-view+json": {
       "model_id": "5f3023333f384a449f27b2a25b7ecd9b",
       "version_major": 2,
       "version_minor": 0
      },
      "text/plain": [
       "  0%|          | 0/113 [00:00<?, ?it/s]"
      ]
     },
     "metadata": {},
     "output_type": "display_data"
    }
   ],
   "source": [
    "original, reconstructed, true_labels, predicted_labels = predict(model, val_dataloader)"
   ]
  },
  {
   "cell_type": "code",
   "execution_count": 19,
   "id": "ada41301",
   "metadata": {
    "execution": {
     "iopub.execute_input": "2023-05-15T13:18:22.799165Z",
     "iopub.status.busy": "2023-05-15T13:18:22.798868Z",
     "iopub.status.idle": "2023-05-15T13:18:23.123357Z",
     "shell.execute_reply": "2023-05-15T13:18:23.122590Z"
    },
    "papermill": {
     "duration": 0.333385,
     "end_time": "2023-05-15T13:18:23.125078",
     "exception": false,
     "start_time": "2023-05-15T13:18:22.791693",
     "status": "completed"
    },
    "tags": []
   },
   "outputs": [
    {
     "name": "stdout",
     "output_type": "stream",
     "text": [
      "RMSE: 0.14835764\n",
      "Accuracy: 0.1079431148109608\n"
     ]
    }
   ],
   "source": [
    "print('RMSE:', mean_squared_error(torch.cat(original).cpu().detach().numpy().flatten(),\n",
    "               torch.cat(reconstructed).cpu().detach().numpy().flatten(), squared=False))\n",
    "print('Accuracy:', accuracy_score(torch.cat(true_labels).cpu().detach().numpy(),\n",
    "               torch.cat(predicted_labels).cpu().detach().numpy()))"
   ]
  },
  {
   "cell_type": "code",
   "execution_count": 20,
   "id": "dd774963",
   "metadata": {
    "execution": {
     "iopub.execute_input": "2023-05-15T13:18:23.138232Z",
     "iopub.status.busy": "2023-05-15T13:18:23.137920Z",
     "iopub.status.idle": "2023-05-15T13:18:29.996949Z",
     "shell.execute_reply": "2023-05-15T13:18:29.996012Z"
    },
    "papermill": {
     "duration": 6.867949,
     "end_time": "2023-05-15T13:18:29.998824",
     "exception": false,
     "start_time": "2023-05-15T13:18:23.130875",
     "status": "completed"
    },
    "tags": []
   },
   "outputs": [
    {
     "data": {
      "application/vnd.jupyter.widget-view+json": {
       "model_id": "9bd13ebccd2548b789ef84f3d469c963",
       "version_major": 2,
       "version_minor": 0
      },
      "text/plain": [
       "  0%|          | 0/113 [00:00<?, ?it/s]"
      ]
     },
     "metadata": {},
     "output_type": "display_data"
    }
   ],
   "source": [
    "loader = val_dataloader\n",
    "model.eval()\n",
    "with torch.no_grad():\n",
    "    original = []\n",
    "    reconstructed = []\n",
    "    true_labels = []\n",
    "    predicted_labels = []\n",
    "    encoded = []\n",
    "    indexes = []\n",
    "    for i, (x, mean, std, labels) in tqdm(enumerate(loader), leave=False, total=len(loader)):\n",
    "        std = std[:, None, None, None]\n",
    "        mean = mean[:, None, None, None]\n",
    "        x = x.unsqueeze(1).float()\n",
    "        x = x.to(device)\n",
    "        encoded.append(model.encode(x).cpu())\n",
    "        original.append(x.cpu())\n",
    "        true_labels.append(labels)"
   ]
  },
  {
   "cell_type": "code",
   "execution_count": 21,
   "id": "7561030d",
   "metadata": {
    "execution": {
     "iopub.execute_input": "2023-05-15T13:18:30.012568Z",
     "iopub.status.busy": "2023-05-15T13:18:30.012243Z",
     "iopub.status.idle": "2023-05-15T13:18:30.072684Z",
     "shell.execute_reply": "2023-05-15T13:18:30.071640Z"
    },
    "papermill": {
     "duration": 0.069922,
     "end_time": "2023-05-15T13:18:30.074969",
     "exception": false,
     "start_time": "2023-05-15T13:18:30.005047",
     "status": "completed"
    },
    "tags": []
   },
   "outputs": [],
   "source": [
    "encoded = torch.cat(encoded)\n",
    "true_labels = torch.cat(true_labels)\n",
    "original = torch.cat(original)\n",
    "original = original.flatten(start_dim=1)"
   ]
  },
  {
   "cell_type": "code",
   "execution_count": 22,
   "id": "81bbb15c",
   "metadata": {
    "execution": {
     "iopub.execute_input": "2023-05-15T13:18:30.088580Z",
     "iopub.status.busy": "2023-05-15T13:18:30.088228Z",
     "iopub.status.idle": "2023-05-15T13:19:01.796150Z",
     "shell.execute_reply": "2023-05-15T13:19:01.795471Z"
    },
    "papermill": {
     "duration": 31.725274,
     "end_time": "2023-05-15T13:19:01.806475",
     "exception": false,
     "start_time": "2023-05-15T13:18:30.081201",
     "status": "completed"
    },
    "tags": []
   },
   "outputs": [
    {
     "name": "stdout",
     "output_type": "stream",
     "text": [
      "Train accuracy: 0.48660249739854317\n",
      "Test accuracy: 0.47884148456468956\n"
     ]
    }
   ],
   "source": [
    "from sklearn.decomposition import PCA\n",
    "\n",
    "pca = PCA(n_components=128)\n",
    "compressed = pca.fit_transform(original)\n",
    "\n",
    "scaler = StandardScaler()\n",
    "X_train, X_test, y_train, y_test = train_test_split(encoded.cpu(), true_labels.numpy(), train_size=0.8)\n",
    "X_train = scaler.fit_transform(X_train)\n",
    "X_test = scaler.transform(X_test)\n",
    "\n",
    "logreg = LogisticRegression(max_iter=1000)\n",
    "logreg.fit(X_train, y_train)\n",
    "pred = logreg.predict(X_train)\n",
    "print('Train accuracy:', accuracy_score(y_train, pred))\n",
    "pred = logreg.predict(X_test)\n",
    "print('Test accuracy:', accuracy_score(y_test, pred))"
   ]
  },
  {
   "cell_type": "code",
   "execution_count": null,
   "id": "39fb8f2e",
   "metadata": {
    "papermill": {
     "duration": 0.008514,
     "end_time": "2023-05-15T13:19:01.824061",
     "exception": false,
     "start_time": "2023-05-15T13:19:01.815547",
     "status": "completed"
    },
    "tags": []
   },
   "outputs": [],
   "source": []
  },
  {
   "cell_type": "code",
   "execution_count": null,
   "id": "e5c2d365",
   "metadata": {
    "papermill": {
     "duration": 0.008341,
     "end_time": "2023-05-15T13:19:01.841163",
     "exception": false,
     "start_time": "2023-05-15T13:19:01.832822",
     "status": "completed"
    },
    "tags": []
   },
   "outputs": [],
   "source": []
  }
 ],
 "metadata": {
  "kernelspec": {
   "display_name": "Python 3",
   "language": "python",
   "name": "python3"
  },
  "language_info": {
   "codemirror_mode": {
    "name": "ipython",
    "version": 3
   },
   "file_extension": ".py",
   "mimetype": "text/x-python",
   "name": "python",
   "nbconvert_exporter": "python",
   "pygments_lexer": "ipython3",
   "version": "3.10.10"
  },
  "papermill": {
   "default_parameters": {},
   "duration": 234.048009,
   "end_time": "2023-05-15T13:19:03.378101",
   "environment_variables": {},
   "exception": null,
   "input_path": "__notebook__.ipynb",
   "output_path": "__notebook__.ipynb",
   "parameters": {},
   "start_time": "2023-05-15T13:15:09.330092",
   "version": "2.4.0"
  },
  "widgets": {
   "application/vnd.jupyter.widget-state+json": {
    "state": {
     "0993a476b8bc4dcc9bca40d8d9690734": {
      "model_module": "@jupyter-widgets/controls",
      "model_module_version": "1.5.0",
      "model_name": "ProgressStyleModel",
      "state": {
       "_model_module": "@jupyter-widgets/controls",
       "_model_module_version": "1.5.0",
       "_model_name": "ProgressStyleModel",
       "_view_count": null,
       "_view_module": "@jupyter-widgets/base",
       "_view_module_version": "1.2.0",
       "_view_name": "StyleView",
       "bar_color": null,
       "description_width": ""
      }
     },
     "0d2085d412f84763b6b73da89b3c57a0": {
      "model_module": "@jupyter-widgets/controls",
      "model_module_version": "1.5.0",
      "model_name": "DescriptionStyleModel",
      "state": {
       "_model_module": "@jupyter-widgets/controls",
       "_model_module_version": "1.5.0",
       "_model_name": "DescriptionStyleModel",
       "_view_count": null,
       "_view_module": "@jupyter-widgets/base",
       "_view_module_version": "1.2.0",
       "_view_name": "StyleView",
       "description_width": ""
      }
     },
     "1235eb5ce0834d6b98b528ec1673cbf9": {
      "model_module": "@jupyter-widgets/base",
      "model_module_version": "1.2.0",
      "model_name": "LayoutModel",
      "state": {
       "_model_module": "@jupyter-widgets/base",
       "_model_module_version": "1.2.0",
       "_model_name": "LayoutModel",
       "_view_count": null,
       "_view_module": "@jupyter-widgets/base",
       "_view_module_version": "1.2.0",
       "_view_name": "LayoutView",
       "align_content": null,
       "align_items": null,
       "align_self": null,
       "border": null,
       "bottom": null,
       "display": null,
       "flex": null,
       "flex_flow": null,
       "grid_area": null,
       "grid_auto_columns": null,
       "grid_auto_flow": null,
       "grid_auto_rows": null,
       "grid_column": null,
       "grid_gap": null,
       "grid_row": null,
       "grid_template_areas": null,
       "grid_template_columns": null,
       "grid_template_rows": null,
       "height": null,
       "justify_content": null,
       "justify_items": null,
       "left": null,
       "margin": null,
       "max_height": null,
       "max_width": null,
       "min_height": null,
       "min_width": null,
       "object_fit": null,
       "object_position": null,
       "order": null,
       "overflow": null,
       "overflow_x": null,
       "overflow_y": null,
       "padding": null,
       "right": null,
       "top": null,
       "visibility": "hidden",
       "width": null
      }
     },
     "133462368d5042f8ac37bea4def86ea6": {
      "model_module": "@jupyter-widgets/controls",
      "model_module_version": "1.5.0",
      "model_name": "HTMLModel",
      "state": {
       "_dom_classes": [],
       "_model_module": "@jupyter-widgets/controls",
       "_model_module_version": "1.5.0",
       "_model_name": "HTMLModel",
       "_view_count": null,
       "_view_module": "@jupyter-widgets/controls",
       "_view_module_version": "1.5.0",
       "_view_name": "HTMLView",
       "description": "",
       "description_tooltip": null,
       "layout": "IPY_MODEL_e61f5714db2241558b9d5e3b631183b5",
       "placeholder": "​",
       "style": "IPY_MODEL_e4feab302ab1493cad596e07fca6461a",
       "value": "100%"
      }
     },
     "14048f63d39d4dddba3795deb7b70b26": {
      "model_module": "@jupyter-widgets/controls",
      "model_module_version": "1.5.0",
      "model_name": "HTMLModel",
      "state": {
       "_dom_classes": [],
       "_model_module": "@jupyter-widgets/controls",
       "_model_module_version": "1.5.0",
       "_model_name": "HTMLModel",
       "_view_count": null,
       "_view_module": "@jupyter-widgets/controls",
       "_view_module_version": "1.5.0",
       "_view_name": "HTMLView",
       "description": "",
       "description_tooltip": null,
       "layout": "IPY_MODEL_9a611041f83c43008f0fca559be892a5",
       "placeholder": "​",
       "style": "IPY_MODEL_b0740423600a452faed61bb4fc156b72",
       "value": " 99%"
      }
     },
     "1f9d0ccfc3a141278bc8b5ae0547bd29": {
      "model_module": "@jupyter-widgets/controls",
      "model_module_version": "1.5.0",
      "model_name": "ProgressStyleModel",
      "state": {
       "_model_module": "@jupyter-widgets/controls",
       "_model_module_version": "1.5.0",
       "_model_name": "ProgressStyleModel",
       "_view_count": null,
       "_view_module": "@jupyter-widgets/base",
       "_view_module_version": "1.2.0",
       "_view_name": "StyleView",
       "bar_color": null,
       "description_width": ""
      }
     },
     "2f0f5b229e404309880932628e466c3f": {
      "model_module": "@jupyter-widgets/controls",
      "model_module_version": "1.5.0",
      "model_name": "FloatProgressModel",
      "state": {
       "_dom_classes": [],
       "_model_module": "@jupyter-widgets/controls",
       "_model_module_version": "1.5.0",
       "_model_name": "FloatProgressModel",
       "_view_count": null,
       "_view_module": "@jupyter-widgets/controls",
       "_view_module_version": "1.5.0",
       "_view_name": "ProgressView",
       "bar_style": "",
       "description": "",
       "description_tooltip": null,
       "layout": "IPY_MODEL_733e956b693d4048acf565be1c0d01a3",
       "max": 113.0,
       "min": 0.0,
       "orientation": "horizontal",
       "style": "IPY_MODEL_c8dc39bf03664078aa237c3c3e94aafc",
       "value": 113.0
      }
     },
     "34c01e66710b4b7bb0d293f3b81e3091": {
      "model_module": "@jupyter-widgets/base",
      "model_module_version": "1.2.0",
      "model_name": "LayoutModel",
      "state": {
       "_model_module": "@jupyter-widgets/base",
       "_model_module_version": "1.2.0",
       "_model_name": "LayoutModel",
       "_view_count": null,
       "_view_module": "@jupyter-widgets/base",
       "_view_module_version": "1.2.0",
       "_view_name": "LayoutView",
       "align_content": null,
       "align_items": null,
       "align_self": null,
       "border": null,
       "bottom": null,
       "display": null,
       "flex": null,
       "flex_flow": null,
       "grid_area": null,
       "grid_auto_columns": null,
       "grid_auto_flow": null,
       "grid_auto_rows": null,
       "grid_column": null,
       "grid_gap": null,
       "grid_row": null,
       "grid_template_areas": null,
       "grid_template_columns": null,
       "grid_template_rows": null,
       "height": null,
       "justify_content": null,
       "justify_items": null,
       "left": null,
       "margin": null,
       "max_height": null,
       "max_width": null,
       "min_height": null,
       "min_width": null,
       "object_fit": null,
       "object_position": null,
       "order": null,
       "overflow": null,
       "overflow_x": null,
       "overflow_y": null,
       "padding": null,
       "right": null,
       "top": null,
       "visibility": null,
       "width": null
      }
     },
     "3852df66c1ce4d1f91478bd7c2263eed": {
      "model_module": "@jupyter-widgets/controls",
      "model_module_version": "1.5.0",
      "model_name": "HBoxModel",
      "state": {
       "_dom_classes": [],
       "_model_module": "@jupyter-widgets/controls",
       "_model_module_version": "1.5.0",
       "_model_name": "HBoxModel",
       "_view_count": null,
       "_view_module": "@jupyter-widgets/controls",
       "_view_module_version": "1.5.0",
       "_view_name": "HBoxView",
       "box_style": "",
       "children": [
        "IPY_MODEL_14048f63d39d4dddba3795deb7b70b26",
        "IPY_MODEL_65d595285ff94ecfa06689b80d305d68",
        "IPY_MODEL_a19106ab3bd444a58962d8825d9bc9f1"
       ],
       "layout": "IPY_MODEL_1235eb5ce0834d6b98b528ec1673cbf9"
      }
     },
     "3fb1ba8bcd0a4130b9bde47ba19e471a": {
      "model_module": "@jupyter-widgets/controls",
      "model_module_version": "1.5.0",
      "model_name": "HTMLModel",
      "state": {
       "_dom_classes": [],
       "_model_module": "@jupyter-widgets/controls",
       "_model_module_version": "1.5.0",
       "_model_name": "HTMLModel",
       "_view_count": null,
       "_view_module": "@jupyter-widgets/controls",
       "_view_module_version": "1.5.0",
       "_view_name": "HTMLView",
       "description": "",
       "description_tooltip": null,
       "layout": "IPY_MODEL_cefd619410c849e288fc9fc424f74cef",
       "placeholder": "​",
       "style": "IPY_MODEL_970686affd524ca098f4e8b8cb8489b8",
       "value": " 99%"
      }
     },
     "4d86a443be2e48d6b428308e77261247": {
      "model_module": "@jupyter-widgets/controls",
      "model_module_version": "1.5.0",
      "model_name": "DescriptionStyleModel",
      "state": {
       "_model_module": "@jupyter-widgets/controls",
       "_model_module_version": "1.5.0",
       "_model_name": "DescriptionStyleModel",
       "_view_count": null,
       "_view_module": "@jupyter-widgets/base",
       "_view_module_version": "1.2.0",
       "_view_name": "StyleView",
       "description_width": ""
      }
     },
     "4de8d8f81a994b6cb891779a6126c2c0": {
      "model_module": "@jupyter-widgets/controls",
      "model_module_version": "1.5.0",
      "model_name": "HTMLModel",
      "state": {
       "_dom_classes": [],
       "_model_module": "@jupyter-widgets/controls",
       "_model_module_version": "1.5.0",
       "_model_name": "HTMLModel",
       "_view_count": null,
       "_view_module": "@jupyter-widgets/controls",
       "_view_module_version": "1.5.0",
       "_view_name": "HTMLView",
       "description": "",
       "description_tooltip": null,
       "layout": "IPY_MODEL_c7a528f05ebf4c7e8fb5032ba2e73c20",
       "placeholder": "​",
       "style": "IPY_MODEL_4d86a443be2e48d6b428308e77261247",
       "value": " 113/113 [00:27&lt;00:00,  4.59it/s]"
      }
     },
     "52a83da94a544e1e96de0aac9d7efd9c": {
      "model_module": "@jupyter-widgets/base",
      "model_module_version": "1.2.0",
      "model_name": "LayoutModel",
      "state": {
       "_model_module": "@jupyter-widgets/base",
       "_model_module_version": "1.2.0",
       "_model_name": "LayoutModel",
       "_view_count": null,
       "_view_module": "@jupyter-widgets/base",
       "_view_module_version": "1.2.0",
       "_view_name": "LayoutView",
       "align_content": null,
       "align_items": null,
       "align_self": null,
       "border": null,
       "bottom": null,
       "display": null,
       "flex": null,
       "flex_flow": null,
       "grid_area": null,
       "grid_auto_columns": null,
       "grid_auto_flow": null,
       "grid_auto_rows": null,
       "grid_column": null,
       "grid_gap": null,
       "grid_row": null,
       "grid_template_areas": null,
       "grid_template_columns": null,
       "grid_template_rows": null,
       "height": null,
       "justify_content": null,
       "justify_items": null,
       "left": null,
       "margin": null,
       "max_height": null,
       "max_width": null,
       "min_height": null,
       "min_width": null,
       "object_fit": null,
       "object_position": null,
       "order": null,
       "overflow": null,
       "overflow_x": null,
       "overflow_y": null,
       "padding": null,
       "right": null,
       "top": null,
       "visibility": "hidden",
       "width": null
      }
     },
     "59ab9f25ee8544f5b187013824bb5f45": {
      "model_module": "@jupyter-widgets/base",
      "model_module_version": "1.2.0",
      "model_name": "LayoutModel",
      "state": {
       "_model_module": "@jupyter-widgets/base",
       "_model_module_version": "1.2.0",
       "_model_name": "LayoutModel",
       "_view_count": null,
       "_view_module": "@jupyter-widgets/base",
       "_view_module_version": "1.2.0",
       "_view_name": "LayoutView",
       "align_content": null,
       "align_items": null,
       "align_self": null,
       "border": null,
       "bottom": null,
       "display": null,
       "flex": null,
       "flex_flow": null,
       "grid_area": null,
       "grid_auto_columns": null,
       "grid_auto_flow": null,
       "grid_auto_rows": null,
       "grid_column": null,
       "grid_gap": null,
       "grid_row": null,
       "grid_template_areas": null,
       "grid_template_columns": null,
       "grid_template_rows": null,
       "height": null,
       "justify_content": null,
       "justify_items": null,
       "left": null,
       "margin": null,
       "max_height": null,
       "max_width": null,
       "min_height": null,
       "min_width": null,
       "object_fit": null,
       "object_position": null,
       "order": null,
       "overflow": null,
       "overflow_x": null,
       "overflow_y": null,
       "padding": null,
       "right": null,
       "top": null,
       "visibility": null,
       "width": null
      }
     },
     "5ce0d1a934e943c0952d41ad74dca0a9": {
      "model_module": "@jupyter-widgets/controls",
      "model_module_version": "1.5.0",
      "model_name": "FloatProgressModel",
      "state": {
       "_dom_classes": [],
       "_model_module": "@jupyter-widgets/controls",
       "_model_module_version": "1.5.0",
       "_model_name": "FloatProgressModel",
       "_view_count": null,
       "_view_module": "@jupyter-widgets/controls",
       "_view_module_version": "1.5.0",
       "_view_name": "ProgressView",
       "bar_style": "",
       "description": "",
       "description_tooltip": null,
       "layout": "IPY_MODEL_59ab9f25ee8544f5b187013824bb5f45",
       "max": 113.0,
       "min": 0.0,
       "orientation": "horizontal",
       "style": "IPY_MODEL_76df34328fbd461492c3ab980a20fb66",
       "value": 113.0
      }
     },
     "5f3023333f384a449f27b2a25b7ecd9b": {
      "model_module": "@jupyter-widgets/controls",
      "model_module_version": "1.5.0",
      "model_name": "HBoxModel",
      "state": {
       "_dom_classes": [],
       "_model_module": "@jupyter-widgets/controls",
       "_model_module_version": "1.5.0",
       "_model_name": "HBoxModel",
       "_view_count": null,
       "_view_module": "@jupyter-widgets/controls",
       "_view_module_version": "1.5.0",
       "_view_name": "HBoxView",
       "box_style": "",
       "children": [
        "IPY_MODEL_f5df211e25864d3fbf2460771109ee24",
        "IPY_MODEL_5ce0d1a934e943c0952d41ad74dca0a9",
        "IPY_MODEL_e8e6f8454ad44f39aadb8dbf8f5f4aff"
       ],
       "layout": "IPY_MODEL_bdc3acfe70874455802247366f05cf9a"
      }
     },
     "606af4c438b44d229d7b586097b8efae": {
      "model_module": "@jupyter-widgets/controls",
      "model_module_version": "1.5.0",
      "model_name": "DescriptionStyleModel",
      "state": {
       "_model_module": "@jupyter-widgets/controls",
       "_model_module_version": "1.5.0",
       "_model_name": "DescriptionStyleModel",
       "_view_count": null,
       "_view_module": "@jupyter-widgets/base",
       "_view_module_version": "1.2.0",
       "_view_name": "StyleView",
       "description_width": ""
      }
     },
     "65d595285ff94ecfa06689b80d305d68": {
      "model_module": "@jupyter-widgets/controls",
      "model_module_version": "1.5.0",
      "model_name": "FloatProgressModel",
      "state": {
       "_dom_classes": [],
       "_model_module": "@jupyter-widgets/controls",
       "_model_module_version": "1.5.0",
       "_model_name": "FloatProgressModel",
       "_view_count": null,
       "_view_module": "@jupyter-widgets/controls",
       "_view_module_version": "1.5.0",
       "_view_name": "ProgressView",
       "bar_style": "",
       "description": "",
       "description_tooltip": null,
       "layout": "IPY_MODEL_e58f26ee3a7344568760a8e9183acf94",
       "max": 113.0,
       "min": 0.0,
       "orientation": "horizontal",
       "style": "IPY_MODEL_1f9d0ccfc3a141278bc8b5ae0547bd29",
       "value": 113.0
      }
     },
     "733e956b693d4048acf565be1c0d01a3": {
      "model_module": "@jupyter-widgets/base",
      "model_module_version": "1.2.0",
      "model_name": "LayoutModel",
      "state": {
       "_model_module": "@jupyter-widgets/base",
       "_model_module_version": "1.2.0",
       "_model_name": "LayoutModel",
       "_view_count": null,
       "_view_module": "@jupyter-widgets/base",
       "_view_module_version": "1.2.0",
       "_view_name": "LayoutView",
       "align_content": null,
       "align_items": null,
       "align_self": null,
       "border": null,
       "bottom": null,
       "display": null,
       "flex": null,
       "flex_flow": null,
       "grid_area": null,
       "grid_auto_columns": null,
       "grid_auto_flow": null,
       "grid_auto_rows": null,
       "grid_column": null,
       "grid_gap": null,
       "grid_row": null,
       "grid_template_areas": null,
       "grid_template_columns": null,
       "grid_template_rows": null,
       "height": null,
       "justify_content": null,
       "justify_items": null,
       "left": null,
       "margin": null,
       "max_height": null,
       "max_width": null,
       "min_height": null,
       "min_width": null,
       "object_fit": null,
       "object_position": null,
       "order": null,
       "overflow": null,
       "overflow_x": null,
       "overflow_y": null,
       "padding": null,
       "right": null,
       "top": null,
       "visibility": null,
       "width": null
      }
     },
     "76df34328fbd461492c3ab980a20fb66": {
      "model_module": "@jupyter-widgets/controls",
      "model_module_version": "1.5.0",
      "model_name": "ProgressStyleModel",
      "state": {
       "_model_module": "@jupyter-widgets/controls",
       "_model_module_version": "1.5.0",
       "_model_name": "ProgressStyleModel",
       "_view_count": null,
       "_view_module": "@jupyter-widgets/base",
       "_view_module_version": "1.2.0",
       "_view_name": "StyleView",
       "bar_color": null,
       "description_width": ""
      }
     },
     "85f3a65dfee44e4fa904d06a77c45ff1": {
      "model_module": "@jupyter-widgets/base",
      "model_module_version": "1.2.0",
      "model_name": "LayoutModel",
      "state": {
       "_model_module": "@jupyter-widgets/base",
       "_model_module_version": "1.2.0",
       "_model_name": "LayoutModel",
       "_view_count": null,
       "_view_module": "@jupyter-widgets/base",
       "_view_module_version": "1.2.0",
       "_view_name": "LayoutView",
       "align_content": null,
       "align_items": null,
       "align_self": null,
       "border": null,
       "bottom": null,
       "display": null,
       "flex": null,
       "flex_flow": null,
       "grid_area": null,
       "grid_auto_columns": null,
       "grid_auto_flow": null,
       "grid_auto_rows": null,
       "grid_column": null,
       "grid_gap": null,
       "grid_row": null,
       "grid_template_areas": null,
       "grid_template_columns": null,
       "grid_template_rows": null,
       "height": null,
       "justify_content": null,
       "justify_items": null,
       "left": null,
       "margin": null,
       "max_height": null,
       "max_width": null,
       "min_height": null,
       "min_width": null,
       "object_fit": null,
       "object_position": null,
       "order": null,
       "overflow": null,
       "overflow_x": null,
       "overflow_y": null,
       "padding": null,
       "right": null,
       "top": null,
       "visibility": null,
       "width": null
      }
     },
     "946f9de8812d4288b0c666ba5ab01861": {
      "model_module": "@jupyter-widgets/base",
      "model_module_version": "1.2.0",
      "model_name": "LayoutModel",
      "state": {
       "_model_module": "@jupyter-widgets/base",
       "_model_module_version": "1.2.0",
       "_model_name": "LayoutModel",
       "_view_count": null,
       "_view_module": "@jupyter-widgets/base",
       "_view_module_version": "1.2.0",
       "_view_name": "LayoutView",
       "align_content": null,
       "align_items": null,
       "align_self": null,
       "border": null,
       "bottom": null,
       "display": null,
       "flex": null,
       "flex_flow": null,
       "grid_area": null,
       "grid_auto_columns": null,
       "grid_auto_flow": null,
       "grid_auto_rows": null,
       "grid_column": null,
       "grid_gap": null,
       "grid_row": null,
       "grid_template_areas": null,
       "grid_template_columns": null,
       "grid_template_rows": null,
       "height": null,
       "justify_content": null,
       "justify_items": null,
       "left": null,
       "margin": null,
       "max_height": null,
       "max_width": null,
       "min_height": null,
       "min_width": null,
       "object_fit": null,
       "object_position": null,
       "order": null,
       "overflow": null,
       "overflow_x": null,
       "overflow_y": null,
       "padding": null,
       "right": null,
       "top": null,
       "visibility": null,
       "width": null
      }
     },
     "970686affd524ca098f4e8b8cb8489b8": {
      "model_module": "@jupyter-widgets/controls",
      "model_module_version": "1.5.0",
      "model_name": "DescriptionStyleModel",
      "state": {
       "_model_module": "@jupyter-widgets/controls",
       "_model_module_version": "1.5.0",
       "_model_name": "DescriptionStyleModel",
       "_view_count": null,
       "_view_module": "@jupyter-widgets/base",
       "_view_module_version": "1.2.0",
       "_view_name": "StyleView",
       "description_width": ""
      }
     },
     "97c81b0c29b94702907b6d0e21c9e4e5": {
      "model_module": "@jupyter-widgets/base",
      "model_module_version": "1.2.0",
      "model_name": "LayoutModel",
      "state": {
       "_model_module": "@jupyter-widgets/base",
       "_model_module_version": "1.2.0",
       "_model_name": "LayoutModel",
       "_view_count": null,
       "_view_module": "@jupyter-widgets/base",
       "_view_module_version": "1.2.0",
       "_view_name": "LayoutView",
       "align_content": null,
       "align_items": null,
       "align_self": null,
       "border": null,
       "bottom": null,
       "display": null,
       "flex": null,
       "flex_flow": null,
       "grid_area": null,
       "grid_auto_columns": null,
       "grid_auto_flow": null,
       "grid_auto_rows": null,
       "grid_column": null,
       "grid_gap": null,
       "grid_row": null,
       "grid_template_areas": null,
       "grid_template_columns": null,
       "grid_template_rows": null,
       "height": null,
       "justify_content": null,
       "justify_items": null,
       "left": null,
       "margin": null,
       "max_height": null,
       "max_width": null,
       "min_height": null,
       "min_width": null,
       "object_fit": null,
       "object_position": null,
       "order": null,
       "overflow": null,
       "overflow_x": null,
       "overflow_y": null,
       "padding": null,
       "right": null,
       "top": null,
       "visibility": null,
       "width": null
      }
     },
     "9a611041f83c43008f0fca559be892a5": {
      "model_module": "@jupyter-widgets/base",
      "model_module_version": "1.2.0",
      "model_name": "LayoutModel",
      "state": {
       "_model_module": "@jupyter-widgets/base",
       "_model_module_version": "1.2.0",
       "_model_name": "LayoutModel",
       "_view_count": null,
       "_view_module": "@jupyter-widgets/base",
       "_view_module_version": "1.2.0",
       "_view_name": "LayoutView",
       "align_content": null,
       "align_items": null,
       "align_self": null,
       "border": null,
       "bottom": null,
       "display": null,
       "flex": null,
       "flex_flow": null,
       "grid_area": null,
       "grid_auto_columns": null,
       "grid_auto_flow": null,
       "grid_auto_rows": null,
       "grid_column": null,
       "grid_gap": null,
       "grid_row": null,
       "grid_template_areas": null,
       "grid_template_columns": null,
       "grid_template_rows": null,
       "height": null,
       "justify_content": null,
       "justify_items": null,
       "left": null,
       "margin": null,
       "max_height": null,
       "max_width": null,
       "min_height": null,
       "min_width": null,
       "object_fit": null,
       "object_position": null,
       "order": null,
       "overflow": null,
       "overflow_x": null,
       "overflow_y": null,
       "padding": null,
       "right": null,
       "top": null,
       "visibility": null,
       "width": null
      }
     },
     "9bc8a2d16c974af6bb3a753941c2c533": {
      "model_module": "@jupyter-widgets/controls",
      "model_module_version": "1.5.0",
      "model_name": "HBoxModel",
      "state": {
       "_dom_classes": [],
       "_model_module": "@jupyter-widgets/controls",
       "_model_module_version": "1.5.0",
       "_model_name": "HBoxModel",
       "_view_count": null,
       "_view_module": "@jupyter-widgets/controls",
       "_view_module_version": "1.5.0",
       "_view_name": "HBoxView",
       "box_style": "",
       "children": [
        "IPY_MODEL_133462368d5042f8ac37bea4def86ea6",
        "IPY_MODEL_ed866a1859124627af35e34419d93cea",
        "IPY_MODEL_4de8d8f81a994b6cb891779a6126c2c0"
       ],
       "layout": "IPY_MODEL_52a83da94a544e1e96de0aac9d7efd9c"
      }
     },
     "9bd13ebccd2548b789ef84f3d469c963": {
      "model_module": "@jupyter-widgets/controls",
      "model_module_version": "1.5.0",
      "model_name": "HBoxModel",
      "state": {
       "_dom_classes": [],
       "_model_module": "@jupyter-widgets/controls",
       "_model_module_version": "1.5.0",
       "_model_name": "HBoxModel",
       "_view_count": null,
       "_view_module": "@jupyter-widgets/controls",
       "_view_module_version": "1.5.0",
       "_view_name": "HBoxView",
       "box_style": "",
       "children": [
        "IPY_MODEL_3fb1ba8bcd0a4130b9bde47ba19e471a",
        "IPY_MODEL_2f0f5b229e404309880932628e466c3f",
        "IPY_MODEL_ed3d12d5a2dc442db697d9271cdd082e"
       ],
       "layout": "IPY_MODEL_9e6226814d824858a68b0db5c16fb1ae"
      }
     },
     "9e6226814d824858a68b0db5c16fb1ae": {
      "model_module": "@jupyter-widgets/base",
      "model_module_version": "1.2.0",
      "model_name": "LayoutModel",
      "state": {
       "_model_module": "@jupyter-widgets/base",
       "_model_module_version": "1.2.0",
       "_model_name": "LayoutModel",
       "_view_count": null,
       "_view_module": "@jupyter-widgets/base",
       "_view_module_version": "1.2.0",
       "_view_name": "LayoutView",
       "align_content": null,
       "align_items": null,
       "align_self": null,
       "border": null,
       "bottom": null,
       "display": null,
       "flex": null,
       "flex_flow": null,
       "grid_area": null,
       "grid_auto_columns": null,
       "grid_auto_flow": null,
       "grid_auto_rows": null,
       "grid_column": null,
       "grid_gap": null,
       "grid_row": null,
       "grid_template_areas": null,
       "grid_template_columns": null,
       "grid_template_rows": null,
       "height": null,
       "justify_content": null,
       "justify_items": null,
       "left": null,
       "margin": null,
       "max_height": null,
       "max_width": null,
       "min_height": null,
       "min_width": null,
       "object_fit": null,
       "object_position": null,
       "order": null,
       "overflow": null,
       "overflow_x": null,
       "overflow_y": null,
       "padding": null,
       "right": null,
       "top": null,
       "visibility": "hidden",
       "width": null
      }
     },
     "a19106ab3bd444a58962d8825d9bc9f1": {
      "model_module": "@jupyter-widgets/controls",
      "model_module_version": "1.5.0",
      "model_name": "HTMLModel",
      "state": {
       "_dom_classes": [],
       "_model_module": "@jupyter-widgets/controls",
       "_model_module_version": "1.5.0",
       "_model_name": "HTMLModel",
       "_view_count": null,
       "_view_module": "@jupyter-widgets/controls",
       "_view_module_version": "1.5.0",
       "_view_name": "HTMLView",
       "description": "",
       "description_tooltip": null,
       "layout": "IPY_MODEL_34c01e66710b4b7bb0d293f3b81e3091",
       "placeholder": "​",
       "style": "IPY_MODEL_de9ee8177613477b8e57930794ae9a36",
       "value": " 112/113 [00:06&lt;00:00, 16.21it/s]"
      }
     },
     "a577e0303a4d444f86bf6f585a6d5f26": {
      "model_module": "@jupyter-widgets/base",
      "model_module_version": "1.2.0",
      "model_name": "LayoutModel",
      "state": {
       "_model_module": "@jupyter-widgets/base",
       "_model_module_version": "1.2.0",
       "_model_name": "LayoutModel",
       "_view_count": null,
       "_view_module": "@jupyter-widgets/base",
       "_view_module_version": "1.2.0",
       "_view_name": "LayoutView",
       "align_content": null,
       "align_items": null,
       "align_self": null,
       "border": null,
       "bottom": null,
       "display": null,
       "flex": null,
       "flex_flow": null,
       "grid_area": null,
       "grid_auto_columns": null,
       "grid_auto_flow": null,
       "grid_auto_rows": null,
       "grid_column": null,
       "grid_gap": null,
       "grid_row": null,
       "grid_template_areas": null,
       "grid_template_columns": null,
       "grid_template_rows": null,
       "height": null,
       "justify_content": null,
       "justify_items": null,
       "left": null,
       "margin": null,
       "max_height": null,
       "max_width": null,
       "min_height": null,
       "min_width": null,
       "object_fit": null,
       "object_position": null,
       "order": null,
       "overflow": null,
       "overflow_x": null,
       "overflow_y": null,
       "padding": null,
       "right": null,
       "top": null,
       "visibility": null,
       "width": null
      }
     },
     "b0740423600a452faed61bb4fc156b72": {
      "model_module": "@jupyter-widgets/controls",
      "model_module_version": "1.5.0",
      "model_name": "DescriptionStyleModel",
      "state": {
       "_model_module": "@jupyter-widgets/controls",
       "_model_module_version": "1.5.0",
       "_model_name": "DescriptionStyleModel",
       "_view_count": null,
       "_view_module": "@jupyter-widgets/base",
       "_view_module_version": "1.2.0",
       "_view_name": "StyleView",
       "description_width": ""
      }
     },
     "bdc3acfe70874455802247366f05cf9a": {
      "model_module": "@jupyter-widgets/base",
      "model_module_version": "1.2.0",
      "model_name": "LayoutModel",
      "state": {
       "_model_module": "@jupyter-widgets/base",
       "_model_module_version": "1.2.0",
       "_model_name": "LayoutModel",
       "_view_count": null,
       "_view_module": "@jupyter-widgets/base",
       "_view_module_version": "1.2.0",
       "_view_name": "LayoutView",
       "align_content": null,
       "align_items": null,
       "align_self": null,
       "border": null,
       "bottom": null,
       "display": null,
       "flex": null,
       "flex_flow": null,
       "grid_area": null,
       "grid_auto_columns": null,
       "grid_auto_flow": null,
       "grid_auto_rows": null,
       "grid_column": null,
       "grid_gap": null,
       "grid_row": null,
       "grid_template_areas": null,
       "grid_template_columns": null,
       "grid_template_rows": null,
       "height": null,
       "justify_content": null,
       "justify_items": null,
       "left": null,
       "margin": null,
       "max_height": null,
       "max_width": null,
       "min_height": null,
       "min_width": null,
       "object_fit": null,
       "object_position": null,
       "order": null,
       "overflow": null,
       "overflow_x": null,
       "overflow_y": null,
       "padding": null,
       "right": null,
       "top": null,
       "visibility": "hidden",
       "width": null
      }
     },
     "c7a528f05ebf4c7e8fb5032ba2e73c20": {
      "model_module": "@jupyter-widgets/base",
      "model_module_version": "1.2.0",
      "model_name": "LayoutModel",
      "state": {
       "_model_module": "@jupyter-widgets/base",
       "_model_module_version": "1.2.0",
       "_model_name": "LayoutModel",
       "_view_count": null,
       "_view_module": "@jupyter-widgets/base",
       "_view_module_version": "1.2.0",
       "_view_name": "LayoutView",
       "align_content": null,
       "align_items": null,
       "align_self": null,
       "border": null,
       "bottom": null,
       "display": null,
       "flex": null,
       "flex_flow": null,
       "grid_area": null,
       "grid_auto_columns": null,
       "grid_auto_flow": null,
       "grid_auto_rows": null,
       "grid_column": null,
       "grid_gap": null,
       "grid_row": null,
       "grid_template_areas": null,
       "grid_template_columns": null,
       "grid_template_rows": null,
       "height": null,
       "justify_content": null,
       "justify_items": null,
       "left": null,
       "margin": null,
       "max_height": null,
       "max_width": null,
       "min_height": null,
       "min_width": null,
       "object_fit": null,
       "object_position": null,
       "order": null,
       "overflow": null,
       "overflow_x": null,
       "overflow_y": null,
       "padding": null,
       "right": null,
       "top": null,
       "visibility": null,
       "width": null
      }
     },
     "c8dc39bf03664078aa237c3c3e94aafc": {
      "model_module": "@jupyter-widgets/controls",
      "model_module_version": "1.5.0",
      "model_name": "ProgressStyleModel",
      "state": {
       "_model_module": "@jupyter-widgets/controls",
       "_model_module_version": "1.5.0",
       "_model_name": "ProgressStyleModel",
       "_view_count": null,
       "_view_module": "@jupyter-widgets/base",
       "_view_module_version": "1.2.0",
       "_view_name": "StyleView",
       "bar_color": null,
       "description_width": ""
      }
     },
     "cefd619410c849e288fc9fc424f74cef": {
      "model_module": "@jupyter-widgets/base",
      "model_module_version": "1.2.0",
      "model_name": "LayoutModel",
      "state": {
       "_model_module": "@jupyter-widgets/base",
       "_model_module_version": "1.2.0",
       "_model_name": "LayoutModel",
       "_view_count": null,
       "_view_module": "@jupyter-widgets/base",
       "_view_module_version": "1.2.0",
       "_view_name": "LayoutView",
       "align_content": null,
       "align_items": null,
       "align_self": null,
       "border": null,
       "bottom": null,
       "display": null,
       "flex": null,
       "flex_flow": null,
       "grid_area": null,
       "grid_auto_columns": null,
       "grid_auto_flow": null,
       "grid_auto_rows": null,
       "grid_column": null,
       "grid_gap": null,
       "grid_row": null,
       "grid_template_areas": null,
       "grid_template_columns": null,
       "grid_template_rows": null,
       "height": null,
       "justify_content": null,
       "justify_items": null,
       "left": null,
       "margin": null,
       "max_height": null,
       "max_width": null,
       "min_height": null,
       "min_width": null,
       "object_fit": null,
       "object_position": null,
       "order": null,
       "overflow": null,
       "overflow_x": null,
       "overflow_y": null,
       "padding": null,
       "right": null,
       "top": null,
       "visibility": null,
       "width": null
      }
     },
     "de9ee8177613477b8e57930794ae9a36": {
      "model_module": "@jupyter-widgets/controls",
      "model_module_version": "1.5.0",
      "model_name": "DescriptionStyleModel",
      "state": {
       "_model_module": "@jupyter-widgets/controls",
       "_model_module_version": "1.5.0",
       "_model_name": "DescriptionStyleModel",
       "_view_count": null,
       "_view_module": "@jupyter-widgets/base",
       "_view_module_version": "1.2.0",
       "_view_name": "StyleView",
       "description_width": ""
      }
     },
     "e4feab302ab1493cad596e07fca6461a": {
      "model_module": "@jupyter-widgets/controls",
      "model_module_version": "1.5.0",
      "model_name": "DescriptionStyleModel",
      "state": {
       "_model_module": "@jupyter-widgets/controls",
       "_model_module_version": "1.5.0",
       "_model_name": "DescriptionStyleModel",
       "_view_count": null,
       "_view_module": "@jupyter-widgets/base",
       "_view_module_version": "1.2.0",
       "_view_name": "StyleView",
       "description_width": ""
      }
     },
     "e58f26ee3a7344568760a8e9183acf94": {
      "model_module": "@jupyter-widgets/base",
      "model_module_version": "1.2.0",
      "model_name": "LayoutModel",
      "state": {
       "_model_module": "@jupyter-widgets/base",
       "_model_module_version": "1.2.0",
       "_model_name": "LayoutModel",
       "_view_count": null,
       "_view_module": "@jupyter-widgets/base",
       "_view_module_version": "1.2.0",
       "_view_name": "LayoutView",
       "align_content": null,
       "align_items": null,
       "align_self": null,
       "border": null,
       "bottom": null,
       "display": null,
       "flex": null,
       "flex_flow": null,
       "grid_area": null,
       "grid_auto_columns": null,
       "grid_auto_flow": null,
       "grid_auto_rows": null,
       "grid_column": null,
       "grid_gap": null,
       "grid_row": null,
       "grid_template_areas": null,
       "grid_template_columns": null,
       "grid_template_rows": null,
       "height": null,
       "justify_content": null,
       "justify_items": null,
       "left": null,
       "margin": null,
       "max_height": null,
       "max_width": null,
       "min_height": null,
       "min_width": null,
       "object_fit": null,
       "object_position": null,
       "order": null,
       "overflow": null,
       "overflow_x": null,
       "overflow_y": null,
       "padding": null,
       "right": null,
       "top": null,
       "visibility": null,
       "width": null
      }
     },
     "e61f5714db2241558b9d5e3b631183b5": {
      "model_module": "@jupyter-widgets/base",
      "model_module_version": "1.2.0",
      "model_name": "LayoutModel",
      "state": {
       "_model_module": "@jupyter-widgets/base",
       "_model_module_version": "1.2.0",
       "_model_name": "LayoutModel",
       "_view_count": null,
       "_view_module": "@jupyter-widgets/base",
       "_view_module_version": "1.2.0",
       "_view_name": "LayoutView",
       "align_content": null,
       "align_items": null,
       "align_self": null,
       "border": null,
       "bottom": null,
       "display": null,
       "flex": null,
       "flex_flow": null,
       "grid_area": null,
       "grid_auto_columns": null,
       "grid_auto_flow": null,
       "grid_auto_rows": null,
       "grid_column": null,
       "grid_gap": null,
       "grid_row": null,
       "grid_template_areas": null,
       "grid_template_columns": null,
       "grid_template_rows": null,
       "height": null,
       "justify_content": null,
       "justify_items": null,
       "left": null,
       "margin": null,
       "max_height": null,
       "max_width": null,
       "min_height": null,
       "min_width": null,
       "object_fit": null,
       "object_position": null,
       "order": null,
       "overflow": null,
       "overflow_x": null,
       "overflow_y": null,
       "padding": null,
       "right": null,
       "top": null,
       "visibility": null,
       "width": null
      }
     },
     "e8e6f8454ad44f39aadb8dbf8f5f4aff": {
      "model_module": "@jupyter-widgets/controls",
      "model_module_version": "1.5.0",
      "model_name": "HTMLModel",
      "state": {
       "_dom_classes": [],
       "_model_module": "@jupyter-widgets/controls",
       "_model_module_version": "1.5.0",
       "_model_name": "HTMLModel",
       "_view_count": null,
       "_view_module": "@jupyter-widgets/controls",
       "_view_module_version": "1.5.0",
       "_view_name": "HTMLView",
       "description": "",
       "description_tooltip": null,
       "layout": "IPY_MODEL_a577e0303a4d444f86bf6f585a6d5f26",
       "placeholder": "​",
       "style": "IPY_MODEL_606af4c438b44d229d7b586097b8efae",
       "value": " 113/113 [00:23&lt;00:00,  4.62it/s]"
      }
     },
     "ed3d12d5a2dc442db697d9271cdd082e": {
      "model_module": "@jupyter-widgets/controls",
      "model_module_version": "1.5.0",
      "model_name": "HTMLModel",
      "state": {
       "_dom_classes": [],
       "_model_module": "@jupyter-widgets/controls",
       "_model_module_version": "1.5.0",
       "_model_name": "HTMLModel",
       "_view_count": null,
       "_view_module": "@jupyter-widgets/controls",
       "_view_module_version": "1.5.0",
       "_view_name": "HTMLView",
       "description": "",
       "description_tooltip": null,
       "layout": "IPY_MODEL_85f3a65dfee44e4fa904d06a77c45ff1",
       "placeholder": "​",
       "style": "IPY_MODEL_ff1b49bb81484899843a098210514bbc",
       "value": " 112/113 [00:06&lt;00:00, 17.10it/s]"
      }
     },
     "ed866a1859124627af35e34419d93cea": {
      "model_module": "@jupyter-widgets/controls",
      "model_module_version": "1.5.0",
      "model_name": "FloatProgressModel",
      "state": {
       "_dom_classes": [],
       "_model_module": "@jupyter-widgets/controls",
       "_model_module_version": "1.5.0",
       "_model_name": "FloatProgressModel",
       "_view_count": null,
       "_view_module": "@jupyter-widgets/controls",
       "_view_module_version": "1.5.0",
       "_view_name": "ProgressView",
       "bar_style": "",
       "description": "",
       "description_tooltip": null,
       "layout": "IPY_MODEL_97c81b0c29b94702907b6d0e21c9e4e5",
       "max": 113.0,
       "min": 0.0,
       "orientation": "horizontal",
       "style": "IPY_MODEL_0993a476b8bc4dcc9bca40d8d9690734",
       "value": 113.0
      }
     },
     "f5df211e25864d3fbf2460771109ee24": {
      "model_module": "@jupyter-widgets/controls",
      "model_module_version": "1.5.0",
      "model_name": "HTMLModel",
      "state": {
       "_dom_classes": [],
       "_model_module": "@jupyter-widgets/controls",
       "_model_module_version": "1.5.0",
       "_model_name": "HTMLModel",
       "_view_count": null,
       "_view_module": "@jupyter-widgets/controls",
       "_view_module_version": "1.5.0",
       "_view_name": "HTMLView",
       "description": "",
       "description_tooltip": null,
       "layout": "IPY_MODEL_946f9de8812d4288b0c666ba5ab01861",
       "placeholder": "​",
       "style": "IPY_MODEL_0d2085d412f84763b6b73da89b3c57a0",
       "value": "100%"
      }
     },
     "ff1b49bb81484899843a098210514bbc": {
      "model_module": "@jupyter-widgets/controls",
      "model_module_version": "1.5.0",
      "model_name": "DescriptionStyleModel",
      "state": {
       "_model_module": "@jupyter-widgets/controls",
       "_model_module_version": "1.5.0",
       "_model_name": "DescriptionStyleModel",
       "_view_count": null,
       "_view_module": "@jupyter-widgets/base",
       "_view_module_version": "1.2.0",
       "_view_name": "StyleView",
       "description_width": ""
      }
     }
    },
    "version_major": 2,
    "version_minor": 0
   }
  }
 },
 "nbformat": 4,
 "nbformat_minor": 5
}
